{
 "cells": [
  {
   "cell_type": "code",
   "execution_count": 1,
   "id": "46eaf59e-e14f-4ac6-b756-1c646dbff0a0",
   "metadata": {},
   "outputs": [],
   "source": [
    "from pathlib import Path\n",
    "from time import sleep \n",
    "\n",
    "import numpy as np\n",
    "import pandas as pd\n",
    "# import hvplot.pandas\n",
    "\n",
    "import roboticstoolbox as rtb\n",
    "import spatialmath as sm\n",
    "\n",
    "from manipylator.base import VisualRobot\n",
    "from manipylator import utils"
   ]
  },
  {
   "cell_type": "markdown",
   "id": "cca545b5",
   "metadata": {},
   "source": [
    "# Load Robot\n",
    "Below we load a URDF file describing Manny the robot manipulator. A URDF is a textual representation of a robot, defining the parameters we need so we can calculate the forward & reverse kinemtics. "
   ]
  },
  {
   "cell_type": "code",
   "execution_count": 2,
   "id": "6a8d34c0-156a-44f3-b67a-0961e999172e",
   "metadata": {},
   "outputs": [
    {
     "name": "stderr",
     "output_type": "stream",
     "text": [
      "[I 05/28/25 20:20:37.886 32] [shell.py:_shell_pop_print@23] Graphical python shell detected, using wrapped sys.stdout\n",
      "\u001b[38;5;159m[Genesis] [20:20:44] [INFO] \u001b[38;5;121m╭───────────────────────────────────────────────╮\u001b[0m\u001b[38;5;159m\u001b[0m\n",
      "\u001b[38;5;159m[Genesis] [20:20:44] [INFO] \u001b[38;5;121m│┈┉┈┉┈┉┈┉┈┉┈┉┈┉┈┉┈┉┈\u001b[0m\u001b[38;5;159m \u001b[38;5;121m\u001b[1m\u001b[3mGenesis\u001b[0m\u001b[38;5;159m \u001b[38;5;121m┈┉┈┉┈┉┈┉┈┉┈┉┈┉┈┉┈┉┈│\u001b[0m\u001b[38;5;159m\u001b[0m\n",
      "\u001b[38;5;159m[Genesis] [20:20:44] [INFO] \u001b[38;5;121m╰───────────────────────────────────────────────╯\u001b[0m\u001b[38;5;159m\u001b[0m\n",
      "/opt/conda/lib/python3.11/site-packages/torch/cuda/__init__.py:129: UserWarning: CUDA initialization: CUDA unknown error - this may be due to an incorrectly set up environment, e.g. changing env variable CUDA_VISIBLE_DEVICES after program start. Setting the available devices to be zero. (Triggered internally at ../c10/cuda/CUDAFunctions.cpp:108.)\n",
      "  return torch._C._cuda_getDeviceCount() > 0\n",
      "\u001b[38;5;159m[Genesis] [20:20:44] [INFO] Running on \u001b[38;5;121m\u001b[4m[Intel(R) Core(TM) i7-8665U CPU @ 1.90GHz]\u001b[0m\u001b[38;5;159m with backend \u001b[38;5;121m\u001b[4mgs.vulkan\u001b[0m\u001b[38;5;159m. Device memory: \u001b[38;5;121m\u001b[4m15.25\u001b[0m\u001b[38;5;159m GB.\u001b[0m\n",
      "RHI Error: Can not create Vulkan instance\n",
      "[W 05/28/25 20:20:44.974 32] [misc.py:adaptive_arch_select@758] Arch=[<Arch.vulkan: 10>] is not supported, falling back to CPU\n",
      "\u001b[38;5;159m[Genesis] [20:20:45] [INFO] 🚀 Genesis initialized. 🔖 version: \u001b[38;5;121m\u001b[4m0.2.1\u001b[0m\u001b[38;5;159m, 🌱 seed: \u001b[38;5;121m\u001b[4mNone\u001b[0m\u001b[38;5;159m, 📏 precision: '\u001b[38;5;121m\u001b[4m32\u001b[0m\u001b[38;5;159m', 🐛 debug: \u001b[38;5;121m\u001b[4mFalse\u001b[0m\u001b[38;5;159m, 🎨 theme: '\u001b[38;5;121m\u001b[4mdark\u001b[0m\u001b[38;5;159m'.\u001b[0m\n",
      "\u001b[38;5;159m[Genesis] [20:20:46] [INFO] Scene \u001b[38;5;121m\u001b[3m<639fa6a>\u001b[0m\u001b[38;5;159m created.\u001b[0m\n",
      "\u001b[38;5;159m[Genesis] [20:20:46] [INFO] Adding \u001b[38;5;121m<gs.RigidEntity>\u001b[0m\u001b[38;5;159m. idx: \u001b[38;5;121m0\u001b[0m\u001b[38;5;159m, uid: \u001b[38;5;121m\u001b[3m<04e8234>\u001b[0m\u001b[38;5;159m, morph: \u001b[38;5;121m<gs.morphs.Plane>\u001b[0m\u001b[38;5;159m, material: \u001b[38;5;121m<gs.materials.Rigid>\u001b[0m\u001b[38;5;159m.\u001b[0m\n",
      "\u001b[38;5;159m[Genesis] [20:20:46] [INFO] Preprocessing geom idx \u001b[38;5;121m\u001b[4m0\u001b[0m\u001b[38;5;159m.\u001b[0m\n",
      "\u001b[38;5;159m[Genesis] [20:20:46] [INFO] Adding \u001b[38;5;121m<gs.RigidEntity>\u001b[0m\u001b[38;5;159m. idx: \u001b[38;5;121m1\u001b[0m\u001b[38;5;159m, uid: \u001b[38;5;121m\u001b[3m<4580ff6>\u001b[0m\u001b[38;5;159m, morph: \u001b[38;5;121m<gs.morphs.URDF(file='/workspace/robots/measured/robot.urdf')>\u001b[0m\u001b[38;5;159m, material: \u001b[38;5;121m<gs.materials.Rigid>\u001b[0m\u001b[38;5;159m.\u001b[0m\n",
      "\u001b[38;5;159m[Genesis] [20:20:48] [INFO] Preprocessing geom idx \u001b[38;5;121m\u001b[4m1\u001b[0m\u001b[38;5;159m.\u001b[0m\n",
      "\u001b[38;5;159m[Genesis] [20:20:50] [INFO] Preprocessing geom idx \u001b[38;5;121m\u001b[4m2\u001b[0m\u001b[38;5;159m.\u001b[0m\n",
      "\u001b[38;5;159m[Genesis] [20:20:56] [INFO] Preprocessing geom idx \u001b[38;5;121m\u001b[4m3\u001b[0m\u001b[38;5;159m.\u001b[0m\n",
      "\u001b[38;5;159m[Genesis] [20:21:03] [INFO] Preprocessing geom idx \u001b[38;5;121m\u001b[4m4\u001b[0m\u001b[38;5;159m.\u001b[0m\n",
      "\u001b[38;5;159m[Genesis] [20:21:09] [INFO] Preprocessing geom idx \u001b[38;5;121m\u001b[4m5\u001b[0m\u001b[38;5;159m.\u001b[0m\n",
      "\u001b[38;5;159m[Genesis] [20:21:14] [INFO] Preprocessing geom idx \u001b[38;5;121m\u001b[4m6\u001b[0m\u001b[38;5;159m.\u001b[0m\n",
      "\u001b[38;5;159m[Genesis] [20:21:18] [INFO] Preprocessing geom idx \u001b[38;5;121m\u001b[4m7\u001b[0m\u001b[38;5;159m.\u001b[0m\n",
      "\u001b[38;5;159m[Genesis] [20:21:21] [INFO] Preprocessing geom idx \u001b[38;5;121m\u001b[4m8\u001b[0m\u001b[38;5;159m.\u001b[0m\n",
      "\u001b[38;5;159m[Genesis] [20:21:26] [INFO] Preprocessing geom idx \u001b[38;5;121m\u001b[4m9\u001b[0m\u001b[38;5;159m.\u001b[0m\n",
      "\u001b[38;5;159m[Genesis] [20:21:31] [INFO] Preprocessing geom idx \u001b[38;5;121m\u001b[4m10\u001b[0m\u001b[38;5;159m.\u001b[0m\n",
      "\u001b[38;5;159m[Genesis] [20:21:36] [INFO] Building scene \u001b[38;5;121m\u001b[3m<639fa6a>\u001b[0m\u001b[38;5;159m...\u001b[0m\n",
      "\u001b[38;5;159m[Genesis] [20:22:05] [INFO] Compiling simulation kernels...\u001b[0m\n",
      "\u001b[38;5;159m[Genesis] [20:23:06] [INFO] Building visualizer...\u001b[0m\n",
      "\u001b[38;5;159m[Genesis] [20:23:35] [INFO] Viewer created. Resolution: \u001b[38;5;121m720×540\u001b[0m\u001b[38;5;159m, max_FPS: \u001b[38;5;121m60\u001b[0m\u001b[38;5;159m.\u001b[0m\n"
     ]
    },
    {
     "name": "stdout",
     "output_type": "stream",
     "text": [
      "ERobot: measured, 6 joints (RRRRRR), dynamics, geometry, collision\n",
      "┌──────┬──────────────────┬───────┬──────────────────┬─────────────────────────────────────────────────────────────────────────────┐\n",
      "│ link │       link       │ joint │      parent      │                             ETS: parent to link                             │\n",
      "├──────┼──────────────────┼───────┼──────────────────┼─────────────────────────────────────────────────────────────────────────────┤\n",
      "│    0 │ \u001b[38;5;4mbase\u001b[0m             │       │ BASE             │ SE3()                                                                       │\n",
      "│    1 │ carriage_1       │     0 │ base             │ SE3(-7.47e-06, -2.937e-06, 0.037; -180°, -7.914e-41°, -6.361e-15°) ⊕ Rz(q0) │\n",
      "│    2 │ shoulder_lift    │     1 │ carriage_1       │ SE3(-0.065, -2.469e-06, -0.055; 180°, 90°, 180°) ⊕ Rz(q1)                   │\n",
      "│    3 │ elbow            │     2 │ shoulder_lift    │ SE3(0.355, -2.338e-06, -4.032e-06; -180°, -3.45e-15°, 3.069e-12°) ⊕ Rz(q2)  │\n",
      "│    4 │ wrist_carriage_2 │     3 │ elbow            │ SE3(0.2755, -4.64e-11, -0.025; -180°, 1.041e-13°, -3.435e-12°) ⊕ Rz(q3)     │\n",
      "│    5 │ wrist_carriage_3 │     4 │ wrist_carriage_2 │ SE3(0.04001, 1.314e-07, -0.0485; -180°, -90°, 180°) ⊕ Rz(q4)                │\n",
      "│    6 │ @end_effector    │     5 │ wrist_carriage_3 │ SE3(-0.04, -2.317e-06, -0.0485; -90°, 9.732e-13°, -90°) ⊕ Rz(q5)            │\n",
      "└──────┴──────────────────┴───────┴──────────────────┴─────────────────────────────────────────────────────────────────────────────┘\n",
      "\n"
     ]
    }
   ],
   "source": [
    "# path = Path('/workspace/robots/robot.urdf')\n",
    "# path = Path('/workspace/robots/robot-ee.urdf')\n",
    "path = Path('/workspace/robots/measured/robot.urdf')\n",
    "\n",
    "# manny = VisualRobot(path)\n",
    "manny = VisualRobot(path)\n",
    "\n",
    "print(manny.model)"
   ]
  },
  {
   "cell_type": "markdown",
   "id": "8f20716c",
   "metadata": {},
   "source": [
    "# Visualizing Manny\n",
    "Using the `manny.visualizer.robot` object we can get the properties of it's links. For example, a given link's location in 3D space. Below we find the location of the end effector in when the all joint parameters are set to 0 degrees:"
   ]
  },
  {
   "cell_type": "code",
   "execution_count": 3,
   "id": "62a7e816-58f9-488c-bde7-1041903dd26d",
   "metadata": {},
   "outputs": [],
   "source": [
    "robot = manny.visualizer.robot\n",
    "ee = robot.get_link('end_effector')\n",
    "\n",
    "# ee\n",
    "# robot"
   ]
  },
  {
   "cell_type": "markdown",
   "id": "fe4eaf17",
   "metadata": {},
   "source": [
    "# Tracing a Path in R3\n",
    "Below we calculate a positions in R3 that correspond to a heart shaped curve:"
   ]
  },
  {
   "cell_type": "code",
   "execution_count": 4,
   "id": "dd60fb2b-98ba-4ac4-98a7-2ab3ca518f1e",
   "metadata": {},
   "outputs": [
    {
     "data": {
      "text/plain": [
       "array([[-0.0885    ,  0.36      ,  0.12      ],\n",
       "       [-0.08814976,  0.36229084,  0.12      ],\n",
       "       [-0.0858055 ,  0.36863598,  0.12      ]])"
      ]
     },
     "execution_count": 4,
     "metadata": {},
     "output_type": "execute_result"
    }
   ],
   "source": [
    "scale = 0.06\n",
    "x_offset = -0.0885\n",
    "y_offset = 0.36\n",
    "height = 0.12\n",
    "\n",
    "# -0.0885,  0.2954,  0.2595\n",
    "# shape = np.array([[0, 0, 0],\n",
    "#                   [0.25, 0, 0],                  \n",
    "#                   [0.5, 0, 0],                  \n",
    "#                   [0.75, 0, 0],                  \n",
    "#                   [1, 0, 0],\n",
    "#                   [1, 0.25, 0],\n",
    "#                   [1, 0.5, 0],\n",
    "#                   [1, 0.75, 0],\n",
    "#                   [1, 1, 0],\n",
    "#                   [0.75, 1, 0],\n",
    "#                   [0.5, 1, 0],\n",
    "#                   [0.25, 1, 0],\n",
    "#                   [0, 1, 0],\n",
    "#                   [0, 0.75, 0],\n",
    "#                   [0, 0.5, 0],\n",
    "#                   [0, 0.25, 0],\n",
    "#                  ])\n",
    "\n",
    "shape = utils.parametric_heart_1(np.linspace(0, 2*np.pi, 40))\n",
    "\n",
    "\n",
    "positions = scale * shape\n",
    "positions[:,0] += x_offset\n",
    "positions[:,1] += y_offset\n",
    "positions[:,2] = height\n",
    "\n",
    "positions[:3]"
   ]
  },
  {
   "cell_type": "markdown",
   "id": "b19fd33e",
   "metadata": {},
   "source": [
    "Each row is the (x, y, z) coordinates of a point on the curve. This is useful if we'd like to visualize the expected path of the end effector."
   ]
  },
  {
   "cell_type": "code",
   "execution_count": 5,
   "id": "fe4848c8-a6a0-4d11-b06c-eea44cf019fb",
   "metadata": {},
   "outputs": [
    {
     "data": {
      "text/html": [
       "<div>\n",
       "<style scoped>\n",
       "    .dataframe tbody tr th:only-of-type {\n",
       "        vertical-align: middle;\n",
       "    }\n",
       "\n",
       "    .dataframe tbody tr th {\n",
       "        vertical-align: top;\n",
       "    }\n",
       "\n",
       "    .dataframe thead th {\n",
       "        text-align: right;\n",
       "    }\n",
       "</style>\n",
       "<table border=\"1\" class=\"dataframe\">\n",
       "  <thead>\n",
       "    <tr style=\"text-align: right;\">\n",
       "      <th></th>\n",
       "      <th>x</th>\n",
       "      <th>y</th>\n",
       "    </tr>\n",
       "  </thead>\n",
       "  <tbody>\n",
       "    <tr>\n",
       "      <th>0</th>\n",
       "      <td>-0.088500</td>\n",
       "      <td>0.360000</td>\n",
       "    </tr>\n",
       "    <tr>\n",
       "      <th>1</th>\n",
       "      <td>-0.088150</td>\n",
       "      <td>0.362291</td>\n",
       "    </tr>\n",
       "    <tr>\n",
       "      <th>2</th>\n",
       "      <td>-0.085805</td>\n",
       "      <td>0.368636</td>\n",
       "    </tr>\n",
       "    <tr>\n",
       "      <th>3</th>\n",
       "      <td>-0.079984</td>\n",
       "      <td>0.377559</td>\n",
       "    </tr>\n",
       "    <tr>\n",
       "      <th>4</th>\n",
       "      <td>-0.070104</td>\n",
       "      <td>0.386931</td>\n",
       "    </tr>\n",
       "  </tbody>\n",
       "</table>\n",
       "</div>"
      ],
      "text/plain": [
       "          x         y\n",
       "0 -0.088500  0.360000\n",
       "1 -0.088150  0.362291\n",
       "2 -0.085805  0.368636\n",
       "3 -0.079984  0.377559\n",
       "4 -0.070104  0.386931"
      ]
     },
     "execution_count": 5,
     "metadata": {},
     "output_type": "execute_result"
    }
   ],
   "source": [
    "xy = positions[:, :2]\n",
    "df = pd.DataFrame(xy, columns=['x', 'y'])\n",
    "df.head()"
   ]
  },
  {
   "cell_type": "code",
   "execution_count": 10,
   "id": "d2535036-0279-4163-9bf7-6952d66217e5",
   "metadata": {},
   "outputs": [
    {
     "data": {
      "text/plain": [
       "<genesis.ext.pyrender.mesh.Mesh at 0x7009d149ca50>"
      ]
     },
     "execution_count": 10,
     "metadata": {},
     "output_type": "execute_result"
    }
   ],
   "source": [
    "# for x, y, z in positions:\n",
    "#     manny.visualizer.scene.draw_debug_sphere([x,y,z])\n",
    "manny.visualizer.scene.clear_debug_objects()\n",
    "manny.visualizer.scene.draw_debug_spheres(positions)\n",
    "\n"
   ]
  },
  {
   "cell_type": "markdown",
   "id": "fd6fac75-1571-43d6-b5a0-b53aa33d9c83",
   "metadata": {},
   "source": [
    "Manually set dofs to sane initial position to make life easier for inverse kinematics"
   ]
  },
  {
   "cell_type": "code",
   "execution_count": 11,
   "id": "c98c09e6-5647-4bc2-93e1-df8441c8e8ea",
   "metadata": {},
   "outputs": [
    {
     "data": {
      "text/plain": [
       "tensor([-0.0885,  0.3720,  0.2415])"
      ]
     },
     "execution_count": 11,
     "metadata": {},
     "output_type": "execute_result"
    }
   ],
   "source": [
    "robot.set_dofs_position([0, -0.2, 2.1, 1, 1.57, 0])\n",
    "\n",
    "manny.visualizer.scene.step()\n",
    "ee.get_pos()"
   ]
  },
  {
   "cell_type": "code",
   "execution_count": 12,
   "id": "67863ab4-5b88-4c28-9cb8-3c2bc526aa7f",
   "metadata": {},
   "outputs": [
    {
     "data": {
      "text/plain": [
       "tensor([9.9085e-01, 1.3498e-01, 3.9601e-04, 5.2616e-05])"
      ]
     },
     "execution_count": 12,
     "metadata": {},
     "output_type": "execute_result"
    }
   ],
   "source": [
    "ee.get_quat()"
   ]
  },
  {
   "cell_type": "markdown",
   "id": "ad79ddbc",
   "metadata": {},
   "source": [
    "Similarly, we can calculate the joint parameters of each position:"
   ]
  },
  {
   "cell_type": "code",
   "execution_count": 13,
   "id": "ed608db4-0516-41ab-bfc6-f49de36d2c1f",
   "metadata": {},
   "outputs": [
    {
     "name": "stderr",
     "output_type": "stream",
     "text": [
      "[W 05/28/25 20:25:52.248 32] [frontend_ir.cpp:begin_frontend_struct_for_on_external_tensor@1694] ti.loop_config(serialize=True) does not have effect on the struct for. The execution order is not guaranteed.\n"
     ]
    }
   ],
   "source": [
    "quat_pointing_down = [1, 0, 0, 0]\n",
    "\n",
    "initial_pose = robot.inverse_kinematics(\n",
    "        link = ee,\n",
    "        pos  = positions[0],\n",
    "        quat = quat_pointing_down,\n",
    "        )\n",
    "\n",
    "robot.set_dofs_position(initial_pose)\n",
    "manny.visualizer.scene.step()"
   ]
  },
  {
   "cell_type": "code",
   "execution_count": 19,
   "id": "daa07f16-1b69-4f18-907b-90a082a743ad",
   "metadata": {},
   "outputs": [
    {
     "data": {
      "text/plain": [
       "[tensor([ 2.7524e-05, -4.5751e-01,  2.2548e+00,  1.1415e+00,  1.5708e+00,\n",
       "          3.1546e-05]),\n",
       " tensor([ 1.0011e-03, -4.6082e-01,  2.2469e+00,  1.1369e+00,  1.5708e+00,\n",
       "          1.0046e-03]),\n",
       " tensor([ 0.0075, -0.4695,  2.2263,  1.1250,  1.5708,  0.0075]),\n",
       " tensor([ 0.0237, -0.4809,  2.1995,  1.1096,  1.5708,  0.0237]),\n",
       " tensor([ 0.0478, -0.4931,  2.1711,  1.0935,  1.5708,  0.0478])]"
      ]
     },
     "execution_count": 19,
     "metadata": {},
     "output_type": "execute_result"
    }
   ],
   "source": [
    "\n",
    "qs = [robot.inverse_kinematics(\n",
    "        link = ee,\n",
    "        pos  = pos,\n",
    "        quat = quat_pointing_down,\n",
    "        ) for pos in positions]\n",
    "qs[:5]"
   ]
  },
  {
   "cell_type": "code",
   "execution_count": 26,
   "id": "c463a4e8-387b-4451-8720-1495b0db9754",
   "metadata": {},
   "outputs": [
    {
     "name": "stdout",
     "output_type": "stream",
     "text": [
      "position: tensor([-0.0897,  0.2418,  0.1199])\n",
      "direction: tensor([ 1.0000e+00, -9.3728e-06,  0.0000e+00,  1.9372e-07])\n"
     ]
    }
   ],
   "source": [
    "robot.set_dofs_position(qs[21])\n",
    "manny.visualizer.scene.step()\n",
    "print(f'position: {ee.get_pos()}\\ndirection: {ee.get_quat()}')\n"
   ]
  },
  {
   "cell_type": "code",
   "execution_count": 27,
   "id": "42f64e1a-149f-4fda-91c8-a3380cb38e1b",
   "metadata": {},
   "outputs": [],
   "source": [
    "df = pd.DataFrame(qs, columns=['q1', 'q2', 'q3', 'q4', 'q5', 'q6']).astype(float)\n",
    "df['q6'] = 0\n",
    "df['q5'] = 1.57\n",
    "df.head()\n",
    "df.to_csv('trajectory_qs.csv', index=False, float_format='%.3f')"
   ]
  },
  {
   "cell_type": "markdown",
   "id": "e11dfd2a",
   "metadata": {},
   "source": [
    "And to visualize the poses Manny would take, we can animate the path:"
   ]
  },
  {
   "cell_type": "code",
   "execution_count": 28,
   "id": "3c21acce-304c-4af3-8881-64306d719139",
   "metadata": {},
   "outputs": [],
   "source": [
    "# camera = manny.visualizer.camera\n",
    "# camera.start_recording()\n",
    "\n",
    "for q in qs+qs[:1]:\n",
    "    robot.set_dofs_position(q)\n",
    "    # print(robot.get_dofs_position())\n",
    "    manny.visualizer.scene.step()\n",
    "    # camera.render()\n",
    "    \n",
    "    sleep(0.5)\n",
    "\n",
    "# camera.stop_recording(save_to_filename='video.mp4', fps=20)"
   ]
  },
  {
   "cell_type": "code",
   "execution_count": null,
   "id": "a50e96d3-cd77-44e0-91ec-703eed77e7c1",
   "metadata": {},
   "outputs": [],
   "source": [
    "# Reset to zero pose\n",
    "robot.set_dofs_position([0]*6)\n",
    "manny.visualizer.scene.step()\n"
   ]
  },
  {
   "cell_type": "code",
   "execution_count": null,
   "id": "73169672-ca79-4202-87dd-fb89676810e6",
   "metadata": {},
   "outputs": [],
   "source": []
  }
 ],
 "metadata": {
  "kernelspec": {
   "display_name": "Python 3 (ipykernel)",
   "language": "python",
   "name": "python3"
  },
  "language_info": {
   "codemirror_mode": {
    "name": "ipython",
    "version": 3
   },
   "file_extension": ".py",
   "mimetype": "text/x-python",
   "name": "python",
   "nbconvert_exporter": "python",
   "pygments_lexer": "ipython3",
   "version": "3.11.10"
  }
 },
 "nbformat": 4,
 "nbformat_minor": 5
}
