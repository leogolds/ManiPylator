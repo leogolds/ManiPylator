{
 "cells": [
  {
   "cell_type": "code",
   "execution_count": 1,
   "id": "46eaf59e-e14f-4ac6-b756-1c646dbff0a0",
   "metadata": {},
   "outputs": [],
   "source": [
    "from pathlib import Path\n",
    "\n",
    "import numpy as np\n",
    "import pandas as pd\n",
    "\n",
    "import roboticstoolbox as rtb\n",
    "import spatialmath as sm\n",
    "\n",
    "from manipylator import Robot, MovementCommand, MovementSequence"
   ]
  },
  {
   "cell_type": "code",
   "execution_count": 2,
   "id": "6a8d34c0-156a-44f3-b67a-0961e999172e",
   "metadata": {},
   "outputs": [
    {
     "name": "stdout",
     "output_type": "stream",
     "text": [
      "ERobot: onshape, 6 joints (RRRRRR), dynamics, geometry, collision\n",
      "┌──────┬──────────────────┬───────┬──────────────────┬────────────────────────────────────────────────┐\n",
      "│ link │       link       │ joint │      parent      │              ETS: parent to link               │\n",
      "├──────┼──────────────────┼───────┼──────────────────┼────────────────────────────────────────────────┤\n",
      "│    0 │ \u001b[38;5;4mbase\u001b[0m             │       │ BASE             │ SE3()                                          │\n",
      "│    1 │ carriage_1       │     0 │ base             │ SE3(0, 0, 0.037; -180°, -0°, 0°) ⊕ Rz(q0)      │\n",
      "│    2 │ shoulder_lift    │     1 │ carriage_1       │ SE3(-0.065, 0, -0.055; 0°, 90°, -0°) ⊕ Rz(q1)  │\n",
      "│    3 │ elbow            │     2 │ shoulder_lift    │ SE3(0.35, 0, 0; -180°, -0°, 0°) ⊕ Rz(q2)       │\n",
      "│    4 │ wrist_carriage_2 │     3 │ elbow            │ SE3(0.32, 0, -0.025; 180°, -0°, 0°) ⊕ Rz(q3)   │\n",
      "│    5 │ wrist_carriage_3 │     4 │ wrist_carriage_2 │ SE3(0.04, 0, -0.0485; 0°, -90°, -0°) ⊕ Rz(q4)  │\n",
      "│    6 │ @end_effector    │     5 │ wrist_carriage_3 │ SE3(-0.04, 0, -0.0485; 0°, -90°, -0°) ⊕ Rz(q5) │\n",
      "└──────┴──────────────────┴───────┴──────────────────┴────────────────────────────────────────────────┘\n",
      "\n",
      "Connected with result code Success\n"
     ]
    }
   ],
   "source": [
    "path = Path('/workspace/robots/robot-ee.urdf')\n",
    "# WARNING! Controling physical robots can be dangerous\n",
    "# Uncomment responsibly\n",
    "#manny = Robot(path, '192.168.1.8')\n",
    "print(manny.model)"
   ]
  },
  {
   "cell_type": "code",
   "execution_count": 4,
   "id": "60eb9fad-d14c-42c3-a4da-50e82bbabce1",
   "metadata": {},
   "outputs": [
    {
     "data": {
      "text/html": [
       "<div>\n",
       "<style scoped>\n",
       "    .dataframe tbody tr th:only-of-type {\n",
       "        vertical-align: middle;\n",
       "    }\n",
       "\n",
       "    .dataframe tbody tr th {\n",
       "        vertical-align: top;\n",
       "    }\n",
       "\n",
       "    .dataframe thead th {\n",
       "        text-align: right;\n",
       "    }\n",
       "</style>\n",
       "<table border=\"1\" class=\"dataframe\">\n",
       "  <thead>\n",
       "    <tr style=\"text-align: right;\">\n",
       "      <th></th>\n",
       "      <th>q1</th>\n",
       "      <th>q2</th>\n",
       "      <th>q3</th>\n",
       "      <th>q4</th>\n",
       "      <th>q5</th>\n",
       "      <th>q6</th>\n",
       "    </tr>\n",
       "  </thead>\n",
       "  <tbody>\n",
       "    <tr>\n",
       "      <th>0</th>\n",
       "      <td>0.000</td>\n",
       "      <td>-0.458</td>\n",
       "      <td>2.255</td>\n",
       "      <td>1.141</td>\n",
       "      <td>1.57</td>\n",
       "      <td>0</td>\n",
       "    </tr>\n",
       "    <tr>\n",
       "      <th>1</th>\n",
       "      <td>0.001</td>\n",
       "      <td>-0.461</td>\n",
       "      <td>2.247</td>\n",
       "      <td>1.137</td>\n",
       "      <td>1.57</td>\n",
       "      <td>0</td>\n",
       "    </tr>\n",
       "    <tr>\n",
       "      <th>2</th>\n",
       "      <td>0.008</td>\n",
       "      <td>-0.470</td>\n",
       "      <td>2.226</td>\n",
       "      <td>1.125</td>\n",
       "      <td>1.57</td>\n",
       "      <td>0</td>\n",
       "    </tr>\n",
       "    <tr>\n",
       "      <th>3</th>\n",
       "      <td>0.024</td>\n",
       "      <td>-0.481</td>\n",
       "      <td>2.199</td>\n",
       "      <td>1.110</td>\n",
       "      <td>1.57</td>\n",
       "      <td>0</td>\n",
       "    </tr>\n",
       "    <tr>\n",
       "      <th>4</th>\n",
       "      <td>0.048</td>\n",
       "      <td>-0.493</td>\n",
       "      <td>2.171</td>\n",
       "      <td>1.093</td>\n",
       "      <td>1.57</td>\n",
       "      <td>0</td>\n",
       "    </tr>\n",
       "  </tbody>\n",
       "</table>\n",
       "</div>"
      ],
      "text/plain": [
       "      q1     q2     q3     q4    q5  q6\n",
       "0  0.000 -0.458  2.255  1.141  1.57   0\n",
       "1  0.001 -0.461  2.247  1.137  1.57   0\n",
       "2  0.008 -0.470  2.226  1.125  1.57   0\n",
       "3  0.024 -0.481  2.199  1.110  1.57   0\n",
       "4  0.048 -0.493  2.171  1.093  1.57   0"
      ]
     },
     "execution_count": 4,
     "metadata": {},
     "output_type": "execute_result"
    }
   ],
   "source": [
    "df = pd.read_csv('trajectory_qs.csv')\n",
    "df.head()"
   ]
  },
  {
   "cell_type": "code",
   "execution_count": 70,
   "id": "a880fbfa-24c9-4fa7-9d41-a94cda6456af",
   "metadata": {},
   "outputs": [],
   "source": [
    "# diff_df = df - df.iloc[0]\n",
    "# diff_df.head()"
   ]
  },
  {
   "cell_type": "code",
   "execution_count": 71,
   "id": "af3f5153-6bd3-4f13-97c2-d91ffac9cc21",
   "metadata": {},
   "outputs": [],
   "source": [
    "# diff_df.to_csv('heart_rel.csv', index=False)"
   ]
  },
  {
   "cell_type": "code",
   "execution_count": 13,
   "id": "a733aac7-7418-4827-b4d8-c28771f08e16",
   "metadata": {},
   "outputs": [
    {
     "data": {
      "text/plain": [
       "{'q1': 0.0, 'q2': -0.458, 'q3': 2.255, 'q4': 1.141, 'q5': 1.57, 'q6': 0}"
      ]
     },
     "execution_count": 13,
     "metadata": {},
     "output_type": "execute_result"
    }
   ],
   "source": [
    "list(df.itertuples(index=False))[0]._asdict()"
   ]
  },
  {
   "cell_type": "code",
   "execution_count": 16,
   "id": "35da5b3e-bd15-4c5e-ad95-11c43fc71400",
   "metadata": {
    "collapsed": true,
    "jupyter": {
     "outputs_hidden": true
    }
   },
   "outputs": [
    {
     "data": {
      "text/plain": [
       "[MovementCommand(q1=0.0, q2=-0.458, q3=2.255, q4=1.141, q5=1.57, q6=0, absolute=True),\n",
       " MovementCommand(q1=0.001, q2=-0.461, q3=2.247, q4=1.137, q5=1.57, q6=0, absolute=True),\n",
       " MovementCommand(q1=0.008, q2=-0.47, q3=2.226, q4=1.125, q5=1.57, q6=0, absolute=True),\n",
       " MovementCommand(q1=0.024, q2=-0.481, q3=2.199, q4=1.11, q5=1.57, q6=0, absolute=True),\n",
       " MovementCommand(q1=0.048, q2=-0.493, q3=2.171, q4=1.093, q5=1.57, q6=0, absolute=True),\n",
       " MovementCommand(q1=0.081, q2=-0.502, q3=2.152, q4=1.082, q5=1.57, q6=0, absolute=True),\n",
       " MovementCommand(q1=0.12, q2=-0.504, q3=2.146, q4=1.079, q5=1.57, q6=0, absolute=True),\n",
       " MovementCommand(q1=0.159, q2=-0.498, q3=2.159, q4=1.086, q5=1.57, q6=0, absolute=True),\n",
       " MovementCommand(q1=0.196, q2=-0.484, q3=2.192, q4=1.105, q5=1.57, q6=0, absolute=True),\n",
       " MovementCommand(q1=0.224, q2=-0.462, q3=2.245, q4=1.136, q5=1.57, q6=0, absolute=True)]"
      ]
     },
     "execution_count": 16,
     "metadata": {},
     "output_type": "execute_result"
    }
   ],
   "source": [
    "seq = MovementSequence([MovementCommand(**step._asdict(), absolute=True) for step in df.itertuples(index=False)])\n",
    "short_seq = MovementSequence(seq.movements[:10])\n",
    "short_seq.movements"
   ]
  },
  {
   "cell_type": "code",
   "execution_count": 17,
   "id": "33c453d4-257c-4d2c-b8e9-d11bbb7d50f4",
   "metadata": {
    "collapsed": true,
    "jupyter": {
     "outputs_hidden": true
    },
    "scrolled": true
   },
   "outputs": [
    {
     "data": {
      "text/plain": [
       "[MovementCommand(q1=0.0, q2=-0.458, q3=2.255, q4=1.141, q5=1.57, q6=0, absolute=True),\n",
       " MovementCommand(q1=0.001, q2=-0.461, q3=2.247, q4=1.137, q5=1.57, q6=0, absolute=True),\n",
       " MovementCommand(q1=0.008, q2=-0.47, q3=2.226, q4=1.125, q5=1.57, q6=0, absolute=True),\n",
       " MovementCommand(q1=0.024, q2=-0.481, q3=2.199, q4=1.11, q5=1.57, q6=0, absolute=True),\n",
       " MovementCommand(q1=0.048, q2=-0.493, q3=2.171, q4=1.093, q5=1.57, q6=0, absolute=True),\n",
       " MovementCommand(q1=0.081, q2=-0.502, q3=2.152, q4=1.082, q5=1.57, q6=0, absolute=True),\n",
       " MovementCommand(q1=0.12, q2=-0.504, q3=2.146, q4=1.079, q5=1.57, q6=0, absolute=True),\n",
       " MovementCommand(q1=0.159, q2=-0.498, q3=2.159, q4=1.086, q5=1.57, q6=0, absolute=True),\n",
       " MovementCommand(q1=0.196, q2=-0.484, q3=2.192, q4=1.105, q5=1.57, q6=0, absolute=True),\n",
       " MovementCommand(q1=0.224, q2=-0.462, q3=2.245, q4=1.136, q5=1.57, q6=0, absolute=True),\n",
       " MovementCommand(q1=0.241, q2=-0.433, q3=2.312, q4=1.175, q5=1.57, q6=0, absolute=True),\n",
       " MovementCommand(q1=0.243, q2=-0.402, q3=2.389, q4=1.22, q5=1.57, q6=0, absolute=True),\n",
       " MovementCommand(q1=0.226, q2=-0.372, q3=2.465, q4=1.266, q5=1.57, q6=0, absolute=True),\n",
       " MovementCommand(q1=0.192, q2=-0.346, q3=2.533, q4=1.308, q5=1.57, q6=0, absolute=True),\n",
       " MovementCommand(q1=0.146, q2=-0.326, q3=2.586, q4=1.341, q5=1.57, q6=0, absolute=True),\n",
       " MovementCommand(q1=0.096, q2=-0.314, q3=2.622, q4=1.365, q5=1.57, q6=0, absolute=True),\n",
       " MovementCommand(q1=0.052, q2=-0.306, q3=2.645, q4=1.38, q5=1.57, q6=0, absolute=True),\n",
       " MovementCommand(q1=0.021, q2=-0.302, q3=2.659, q4=1.39, q5=1.57, q6=0, absolute=True),\n",
       " MovementCommand(q1=0.005, q2=-0.299, q3=2.666, q4=1.395, q5=1.57, q6=0, absolute=True),\n",
       " MovementCommand(q1=0.0, q2=-0.298, q3=2.671, q4=1.398, q5=1.57, q6=0, absolute=True),\n",
       " MovementCommand(q1=-0.0, q2=-0.298, q3=2.671, q4=1.398, q5=1.57, q6=0, absolute=True),\n",
       " MovementCommand(q1=-0.005, q2=-0.3, q3=2.664, q4=1.393, q5=1.57, q6=0, absolute=True),\n",
       " MovementCommand(q1=-0.021, q2=-0.306, q3=2.646, q4=1.381, q5=1.57, q6=0, absolute=True),\n",
       " MovementCommand(q1=-0.051, q2=-0.317, q3=2.614, q4=1.36, q5=1.57, q6=0, absolute=True),\n",
       " MovementCommand(q1=-0.093, q2=-0.334, q3=2.565, q4=1.328, q5=1.57, q6=0, absolute=True),\n",
       " MovementCommand(q1=-0.14, q2=-0.358, q3=2.499, q4=1.287, q5=1.57, q6=0, absolute=True),\n",
       " MovementCommand(q1=-0.182, q2=-0.39, q3=2.419, q4=1.238, q5=1.57, q6=0, absolute=True),\n",
       " MovementCommand(q1=-0.213, q2=-0.426, q3=2.33, q4=1.185, q5=1.57, q6=0, absolute=True),\n",
       " MovementCommand(q1=-0.228, q2=-0.463, q3=2.243, q4=1.134, q5=1.57, q6=0, absolute=True),\n",
       " MovementCommand(q1=-0.228, q2=-0.496, q3=2.165, q4=1.09, q5=1.57, q6=0, absolute=True),\n",
       " MovementCommand(q1=-0.213, q2=-0.522, q3=2.105, q4=1.056, q5=1.57, q6=0, absolute=True),\n",
       " MovementCommand(q1=-0.187, q2=-0.538, q3=2.068, q4=1.035, q5=1.57, q6=0, absolute=True),\n",
       " MovementCommand(q1=-0.154, q2=-0.543, q3=2.056, q4=1.029, q5=1.57, q6=0, absolute=True),\n",
       " MovementCommand(q1=-0.117, q2=-0.538, q3=2.069, q4=1.035, q5=1.57, q6=0, absolute=True),\n",
       " MovementCommand(q1=-0.08, q2=-0.524, q3=2.099, q4=1.053, q5=1.57, q6=0, absolute=True),\n",
       " MovementCommand(q1=-0.047, q2=-0.506, q3=2.14, q4=1.076, q5=1.57, q6=0, absolute=True),\n",
       " MovementCommand(q1=-0.022, q2=-0.488, q3=2.184, q4=1.101, q5=1.57, q6=0, absolute=True),\n",
       " MovementCommand(q1=-0.007, q2=-0.472, q3=2.222, q4=1.122, q5=1.57, q6=0, absolute=True),\n",
       " MovementCommand(q1=-0.001, q2=-0.461, q3=2.246, q4=1.137, q5=1.57, q6=0, absolute=True),\n",
       " MovementCommand(q1=0.0, q2=-0.458, q3=2.255, q4=1.141, q5=1.57, q6=0, absolute=True),\n",
       " MovementCommand(q1=0.0, q2=-0.458, q3=2.255, q4=1.141, q5=1.57, q6=0, absolute=True),\n",
       " MovementCommand(q1=0.001, q2=-0.461, q3=2.247, q4=1.137, q5=1.57, q6=0, absolute=True),\n",
       " MovementCommand(q1=0.008, q2=-0.47, q3=2.226, q4=1.125, q5=1.57, q6=0, absolute=True),\n",
       " MovementCommand(q1=0.024, q2=-0.481, q3=2.199, q4=1.11, q5=1.57, q6=0, absolute=True),\n",
       " MovementCommand(q1=0.048, q2=-0.493, q3=2.171, q4=1.093, q5=1.57, q6=0, absolute=True),\n",
       " MovementCommand(q1=0.081, q2=-0.502, q3=2.152, q4=1.082, q5=1.57, q6=0, absolute=True),\n",
       " MovementCommand(q1=0.12, q2=-0.504, q3=2.146, q4=1.079, q5=1.57, q6=0, absolute=True),\n",
       " MovementCommand(q1=0.159, q2=-0.498, q3=2.159, q4=1.086, q5=1.57, q6=0, absolute=True),\n",
       " MovementCommand(q1=0.196, q2=-0.484, q3=2.192, q4=1.105, q5=1.57, q6=0, absolute=True),\n",
       " MovementCommand(q1=0.224, q2=-0.462, q3=2.245, q4=1.136, q5=1.57, q6=0, absolute=True),\n",
       " MovementCommand(q1=0.241, q2=-0.433, q3=2.312, q4=1.175, q5=1.57, q6=0, absolute=True),\n",
       " MovementCommand(q1=0.243, q2=-0.402, q3=2.389, q4=1.22, q5=1.57, q6=0, absolute=True),\n",
       " MovementCommand(q1=0.226, q2=-0.372, q3=2.465, q4=1.266, q5=1.57, q6=0, absolute=True),\n",
       " MovementCommand(q1=0.192, q2=-0.346, q3=2.533, q4=1.308, q5=1.57, q6=0, absolute=True),\n",
       " MovementCommand(q1=0.146, q2=-0.326, q3=2.586, q4=1.341, q5=1.57, q6=0, absolute=True),\n",
       " MovementCommand(q1=0.096, q2=-0.314, q3=2.622, q4=1.365, q5=1.57, q6=0, absolute=True),\n",
       " MovementCommand(q1=0.052, q2=-0.306, q3=2.645, q4=1.38, q5=1.57, q6=0, absolute=True),\n",
       " MovementCommand(q1=0.021, q2=-0.302, q3=2.659, q4=1.39, q5=1.57, q6=0, absolute=True),\n",
       " MovementCommand(q1=0.005, q2=-0.299, q3=2.666, q4=1.395, q5=1.57, q6=0, absolute=True),\n",
       " MovementCommand(q1=0.0, q2=-0.298, q3=2.671, q4=1.398, q5=1.57, q6=0, absolute=True),\n",
       " MovementCommand(q1=-0.0, q2=-0.298, q3=2.671, q4=1.398, q5=1.57, q6=0, absolute=True),\n",
       " MovementCommand(q1=-0.005, q2=-0.3, q3=2.664, q4=1.393, q5=1.57, q6=0, absolute=True),\n",
       " MovementCommand(q1=-0.021, q2=-0.306, q3=2.646, q4=1.381, q5=1.57, q6=0, absolute=True),\n",
       " MovementCommand(q1=-0.051, q2=-0.317, q3=2.614, q4=1.36, q5=1.57, q6=0, absolute=True),\n",
       " MovementCommand(q1=-0.093, q2=-0.334, q3=2.565, q4=1.328, q5=1.57, q6=0, absolute=True),\n",
       " MovementCommand(q1=-0.14, q2=-0.358, q3=2.499, q4=1.287, q5=1.57, q6=0, absolute=True),\n",
       " MovementCommand(q1=-0.182, q2=-0.39, q3=2.419, q4=1.238, q5=1.57, q6=0, absolute=True),\n",
       " MovementCommand(q1=-0.213, q2=-0.426, q3=2.33, q4=1.185, q5=1.57, q6=0, absolute=True),\n",
       " MovementCommand(q1=-0.228, q2=-0.463, q3=2.243, q4=1.134, q5=1.57, q6=0, absolute=True),\n",
       " MovementCommand(q1=-0.228, q2=-0.496, q3=2.165, q4=1.09, q5=1.57, q6=0, absolute=True),\n",
       " MovementCommand(q1=-0.213, q2=-0.522, q3=2.105, q4=1.056, q5=1.57, q6=0, absolute=True),\n",
       " MovementCommand(q1=-0.187, q2=-0.538, q3=2.068, q4=1.035, q5=1.57, q6=0, absolute=True),\n",
       " MovementCommand(q1=-0.154, q2=-0.543, q3=2.056, q4=1.029, q5=1.57, q6=0, absolute=True),\n",
       " MovementCommand(q1=-0.117, q2=-0.538, q3=2.069, q4=1.035, q5=1.57, q6=0, absolute=True),\n",
       " MovementCommand(q1=-0.08, q2=-0.524, q3=2.099, q4=1.053, q5=1.57, q6=0, absolute=True),\n",
       " MovementCommand(q1=-0.047, q2=-0.506, q3=2.14, q4=1.076, q5=1.57, q6=0, absolute=True),\n",
       " MovementCommand(q1=-0.022, q2=-0.488, q3=2.184, q4=1.101, q5=1.57, q6=0, absolute=True),\n",
       " MovementCommand(q1=-0.007, q2=-0.472, q3=2.222, q4=1.122, q5=1.57, q6=0, absolute=True),\n",
       " MovementCommand(q1=-0.001, q2=-0.461, q3=2.246, q4=1.137, q5=1.57, q6=0, absolute=True),\n",
       " MovementCommand(q1=0.0, q2=-0.458, q3=2.255, q4=1.141, q5=1.57, q6=0, absolute=True),\n",
       " MovementCommand(q1=0.0, q2=-0.458, q3=2.255, q4=1.141, q5=1.57, q6=0, absolute=True)]"
      ]
     },
     "execution_count": 17,
     "metadata": {},
     "output_type": "execute_result"
    }
   ],
   "source": [
    "repeat_sequence = MovementSequence(seq.movements+seq.movements+seq.movements[:1])\n",
    "repeat_sequence.movements"
   ]
  },
  {
   "cell_type": "code",
   "execution_count": 80,
   "id": "6408fb12-7804-4c87-b25c-3569e7f1ba4c",
   "metadata": {},
   "outputs": [],
   "source": [
    "manny.send_control_sequence(seq)"
   ]
  },
  {
   "cell_type": "code",
   "execution_count": 77,
   "id": "1317f8c7-fd37-4779-915c-37d6c3b494f5",
   "metadata": {},
   "outputs": [],
   "source": [
    "manny.send_control_sequence(MovementSequence([repeat_sequence.movements[0]]))"
   ]
  },
  {
   "cell_type": "code",
   "execution_count": 79,
   "id": "aec05551-af65-4bd2-a91b-83d0fd492539",
   "metadata": {},
   "outputs": [],
   "source": [
    "manny.send_control_sequence(repeat_sequence)"
   ]
  },
  {
   "cell_type": "code",
   "execution_count": 10,
   "id": "63405c54-4b79-45a8-b3e6-e2783e59e02d",
   "metadata": {},
   "outputs": [],
   "source": [
    "reset_seq = MovementSequence([MovementCommand(q1=0,\n",
    "                                              q2=0.2, \n",
    "                                              q3=2.35, \n",
    "                                              q4=1, \n",
    "                                              q5=1.57, \n",
    "                                              q6=0)])\n",
    "manny.send_control_sequence(reset_seq)"
   ]
  },
  {
   "cell_type": "code",
   "execution_count": null,
   "id": "0d3fd60c-6c16-4370-b7cc-3b293e7d80a3",
   "metadata": {},
   "outputs": [],
   "source": []
  }
 ],
 "metadata": {
  "kernelspec": {
   "display_name": "Python 3 (ipykernel)",
   "language": "python",
   "name": "python3"
  },
  "language_info": {
   "codemirror_mode": {
    "name": "ipython",
    "version": 3
   },
   "file_extension": ".py",
   "mimetype": "text/x-python",
   "name": "python",
   "nbconvert_exporter": "python",
   "pygments_lexer": "ipython3",
   "version": "3.11.10"
  }
 },
 "nbformat": 4,
 "nbformat_minor": 5
}
