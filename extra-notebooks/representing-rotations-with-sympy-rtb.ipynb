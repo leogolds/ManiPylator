{
 "cells": [
  {
   "cell_type": "code",
   "execution_count": 14,
   "id": "9e614899-24b5-4fc1-a942-bacf751f1785",
   "metadata": {},
   "outputs": [],
   "source": [
    "import sympy as sp\n",
    "# sp.init_printing()\n",
    "\n",
    "from spatialmath import SO3, SE3\n",
    "from roboticstoolbox import ET as et\n",
    "from spatialmath.base import symbol\n",
    "\n"
   ]
  },
  {
   "cell_type": "code",
   "execution_count": 18,
   "id": "3444a16e-dea1-490c-9c89-99cf703af57b",
   "metadata": {},
   "outputs": [
    {
     "name": "stdout",
     "output_type": "stream",
     "text": [
      "Rx(q0) ⊕ tx(1) ⊕ Ry(q1) ⊕ tz(1)\n"
     ]
    },
    {
     "data": {
      "text/plain": []
     },
     "execution_count": 18,
     "metadata": {},
     "output_type": "execute_result"
    }
   ],
   "source": [
    "phi, theta, psi = symbol('φ, ϴ, ψ')\n",
    "\n",
    "transform = et.Rx() * et.tx(1) * et.Ry() * et.tz(1) \n",
    "transform"
   ]
  },
  {
   "cell_type": "code",
   "execution_count": 29,
   "id": "5b39f7df-6ed7-4b28-8c6b-0ca595d2c27b",
   "metadata": {},
   "outputs": [
    {
     "data": {
      "text/plain": [
       "spatialmath.pose3d.SE3"
      ]
     },
     "execution_count": 29,
     "metadata": {},
     "output_type": "execute_result"
    }
   ],
   "source": [
    "type(transform.fkine([phi, theta]))"
   ]
  },
  {
   "cell_type": "code",
   "execution_count": 30,
   "id": "3f4b2cf0-20a6-452f-9bc1-25c31a628fba",
   "metadata": {},
   "outputs": [
    {
     "data": {
      "text/plain": [
       "numpy.ndarray"
      ]
     },
     "execution_count": 30,
     "metadata": {},
     "output_type": "execute_result"
    }
   ],
   "source": [
    "type(transform.fkine([phi, theta]).A)"
   ]
  },
  {
   "cell_type": "code",
   "execution_count": 33,
   "id": "17464eef-947d-4b1c-8fd8-144c614bccf6",
   "metadata": {},
   "outputs": [
    {
     "data": {
      "text/latex": [
       "$\\displaystyle \\left[\\begin{matrix}1.0 \\cos{\\left(ϴ \\right)} & 0 & 1.0 \\sin{\\left(ϴ \\right)} & 1.0 \\sin{\\left(ϴ \\right)} + 1.0\\\\1.0 \\sin{\\left(φ \\right)} \\sin{\\left(ϴ \\right)} & 1.0 \\cos{\\left(φ \\right)} & - 1.0 \\sin{\\left(φ \\right)} \\cos{\\left(ϴ \\right)} & - 1.0 \\sin{\\left(φ \\right)} \\cos{\\left(ϴ \\right)}\\\\- 1.0 \\sin{\\left(ϴ \\right)} \\cos{\\left(φ \\right)} & 1.0 \\sin{\\left(φ \\right)} & 1.0 \\cos{\\left(φ \\right)} \\cos{\\left(ϴ \\right)} & 1.0 \\cos{\\left(φ \\right)} \\cos{\\left(ϴ \\right)}\\\\0 & 0 & 0 & 1.0\\end{matrix}\\right]$"
      ],
      "text/plain": [
       "Matrix([\n",
       "[        1.0*cos(ϴ),          0,         1.0*sin(ϴ),   1.0*sin(ϴ) + 1.0],\n",
       "[ 1.0*sin(φ)*sin(ϴ), 1.0*cos(φ), -1.0*sin(φ)*cos(ϴ), -1.0*sin(φ)*cos(ϴ)],\n",
       "[-1.0*sin(ϴ)*cos(φ), 1.0*sin(φ),  1.0*cos(φ)*cos(ϴ),  1.0*cos(φ)*cos(ϴ)],\n",
       "[                 0,          0,                  0,                1.0]])"
      ]
     },
     "execution_count": 33,
     "metadata": {},
     "output_type": "execute_result"
    }
   ],
   "source": [
    "a = sp.Matrix(transform.fkine([phi, theta]).A)\n",
    "a"
   ]
  },
  {
   "cell_type": "code",
   "execution_count": 44,
   "id": "694efcdf-a1df-44f1-90e2-f8a9b76d0d91",
   "metadata": {},
   "outputs": [
    {
     "data": {
      "text/latex": [
       "$\\displaystyle \\left[\\begin{matrix}0 & 0 & 1.0 & 2.0\\\\0.5 \\sqrt{3} & 0.5 & 0 & 0\\\\-0.5 & 0.5 \\sqrt{3} & 0 & 0\\\\0 & 0 & 0 & 1.0\\end{matrix}\\right]$"
      ],
      "text/plain": [
       "Matrix([\n",
       "[          0,           0, 1.0, 2.0],\n",
       "[0.5*sqrt(3),         0.5,   0,   0],\n",
       "[       -0.5, 0.5*sqrt(3),   0,   0],\n",
       "[          0,           0,   0, 1.0]])"
      ]
     },
     "execution_count": 44,
     "metadata": {},
     "output_type": "execute_result"
    }
   ],
   "source": [
    "subs = a.subs({phi: sp.pi/3, theta: sp.pi/2})\n",
    "subs"
   ]
  },
  {
   "cell_type": "code",
   "execution_count": 45,
   "id": "355b45e9-4473-4567-8afd-f94f06c101ab",
   "metadata": {},
   "outputs": [
    {
     "data": {
      "text/plain": [
       "array([[-0.41614684,  0.        ,  0.90929743,  1.90929743],\n",
       "       [ 0.7651474 ,  0.54030231,  0.35017549,  0.35017549],\n",
       "       [-0.4912955 ,  0.84147098, -0.2248451 , -0.2248451 ],\n",
       "       [ 0.        ,  0.        ,  0.        ,  1.        ]])"
      ]
     },
     "execution_count": 45,
     "metadata": {},
     "output_type": "execute_result"
    }
   ],
   "source": [
    "sp.lambdify([phi, theta], a, 'numpy')(1, 2)"
   ]
  },
  {
   "cell_type": "code",
   "execution_count": null,
   "id": "1e8c2971-9e52-4f0c-a208-545085adc1b7",
   "metadata": {},
   "outputs": [],
   "source": []
  }
 ],
 "metadata": {
  "kernelspec": {
   "display_name": "Python 3 (ipykernel)",
   "language": "python",
   "name": "python3"
  },
  "language_info": {
   "codemirror_mode": {
    "name": "ipython",
    "version": 3
   },
   "file_extension": ".py",
   "mimetype": "text/x-python",
   "name": "python",
   "nbconvert_exporter": "python",
   "pygments_lexer": "ipython3",
   "version": "3.11.10"
  }
 },
 "nbformat": 4,
 "nbformat_minor": 5
}
