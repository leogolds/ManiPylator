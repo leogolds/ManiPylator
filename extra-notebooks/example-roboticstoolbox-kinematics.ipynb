{
 "cells": [
  {
   "cell_type": "code",
   "execution_count": 1,
   "id": "46eaf59e-e14f-4ac6-b756-1c646dbff0a0",
   "metadata": {},
   "outputs": [],
   "source": [
    "from pathlib import Path\n",
    "\n",
    "import numpy as np\n",
    "\n",
    "import roboticstoolbox as rtb\n",
    "import spatialmath as sm\n",
    "\n",
    "from manipylator import Robot"
   ]
  },
  {
   "cell_type": "code",
   "execution_count": 2,
   "id": "6a8d34c0-156a-44f3-b67a-0961e999172e",
   "metadata": {},
   "outputs": [
    {
     "name": "stdout",
     "output_type": "stream",
     "text": [
      "ERobot: onshape, 6 joints (RRRRRR), dynamics, geometry, collision\n",
      "┌──────┬──────────────────┬───────┬──────────────────┬────────────────────────────────────────────────┐\n",
      "│ link │       link       │ joint │      parent      │              ETS: parent to link               │\n",
      "├──────┼──────────────────┼───────┼──────────────────┼────────────────────────────────────────────────┤\n",
      "│    0 │ \u001b[38;5;4mbase\u001b[0m             │       │ BASE             │ SE3()                                          │\n",
      "│    1 │ carriage_1       │     0 │ base             │ SE3(0, 0, 0.037; -180°, -0°, 0°) ⊕ Rz(q0)      │\n",
      "│    2 │ shoulder_lift    │     1 │ carriage_1       │ SE3(-0.065, 0, -0.055; 0°, 90°, -0°) ⊕ Rz(q1)  │\n",
      "│    3 │ elbow            │     2 │ shoulder_lift    │ SE3(0.35, 0, 0; -180°, -0°, 0°) ⊕ Rz(q2)       │\n",
      "│    4 │ wrist_carriage_2 │     3 │ elbow            │ SE3(0.32, 0, -0.025; 180°, -0°, 0°) ⊕ Rz(q3)   │\n",
      "│    5 │ wrist_carriage_3 │     4 │ wrist_carriage_2 │ SE3(0.04, 0, -0.0485; 0°, -90°, -0°) ⊕ Rz(q4)  │\n",
      "│    6 │ @end_effector    │     5 │ wrist_carriage_3 │ SE3(-0.04, 0, -0.0485; 0°, -90°, -0°) ⊕ Rz(q5) │\n",
      "└──────┴──────────────────┴───────┴──────────────────┴────────────────────────────────────────────────┘\n",
      "\n"
     ]
    }
   ],
   "source": [
    "path = Path('/workspace/robots/robot-ee.urdf')\n",
    "manny = Robot(path)\n",
    "print(manny.model)"
   ]
  },
  {
   "cell_type": "code",
   "execution_count": 3,
   "id": "9407be44-7090-4b2a-98ea-f09c11c1a330",
   "metadata": {},
   "outputs": [
    {
     "data": {
      "text/plain": [
       "array([0., 0., 0., 0., 0., 0.])"
      ]
     },
     "execution_count": 3,
     "metadata": {},
     "output_type": "execute_result"
    }
   ],
   "source": [
    "manny.model.q"
   ]
  },
  {
   "cell_type": "code",
   "execution_count": 29,
   "id": "c6679dc1-0895-4511-b5a2-ac811765f7cc",
   "metadata": {},
   "outputs": [
    {
     "data": {
      "text/plain": [
       "  \u001b[38;5;1m 0       \u001b[0m \u001b[38;5;1m 0       \u001b[0m \u001b[38;5;1m-1       \u001b[0m \u001b[38;5;4m-0.1285  \u001b[0m  \u001b[0m\n",
       "  \u001b[38;5;1m 0       \u001b[0m \u001b[38;5;1m-1       \u001b[0m \u001b[38;5;1m 0       \u001b[0m \u001b[38;5;4m 0       \u001b[0m  \u001b[0m\n",
       "  \u001b[38;5;1m-1       \u001b[0m \u001b[38;5;1m 0       \u001b[0m \u001b[38;5;1m 0       \u001b[0m \u001b[38;5;4m 0.8505  \u001b[0m  \u001b[0m\n",
       "  \u001b[38;5;244m 0       \u001b[0m \u001b[38;5;244m 0       \u001b[0m \u001b[38;5;244m 0       \u001b[0m \u001b[38;5;244m 1       \u001b[0m  \u001b[0m\n"
      ]
     },
     "execution_count": 29,
     "metadata": {},
     "output_type": "execute_result"
    }
   ],
   "source": [
    "initial_pose = manny.model.fkine(manny.model.q)\n",
    "initial_pose"
   ]
  },
  {
   "cell_type": "code",
   "execution_count": 30,
   "id": "e1b6f342-9f75-43d1-973a-26a731427a45",
   "metadata": {},
   "outputs": [],
   "source": [
    "# q = 0.45\n",
    "# end_pos = initial_pose\n",
    "# # Tep = Tep.A\n",
    "# end_pos.t = [q,q,q]\n",
    "# end_pos\n",
    "# # sm_transform = sm.SE3(end_pos)"
   ]
  },
  {
   "cell_type": "code",
   "execution_count": 31,
   "id": "4782277b-7163-4ea5-b153-cfe75f4e12c4",
   "metadata": {},
   "outputs": [],
   "source": [
    "# initial_pose"
   ]
  },
  {
   "cell_type": "code",
   "execution_count": 32,
   "id": "0587d249-153d-480e-9410-4886df8220fa",
   "metadata": {},
   "outputs": [
    {
     "data": {
      "text/plain": [
       "(array([0.1, 3.3, 5.5, 3.3, 4.5, 5.4]), 0, 2327, 101, 0.0)"
      ]
     },
     "execution_count": 32,
     "metadata": {},
     "output_type": "execute_result"
    }
   ],
   "source": [
    "manny.model.ik_NR(initial_pose)"
   ]
  },
  {
   "cell_type": "code",
   "execution_count": 25,
   "id": "515aca7a-6f27-4009-814f-f10b7414ba0a",
   "metadata": {},
   "outputs": [
    {
     "data": {
      "text/plain": [
       "(array([1.9, 3. , 0.6, 1.6, 4.3, 3.5]), 0, 2186, 101, 0.0)"
      ]
     },
     "execution_count": 25,
     "metadata": {},
     "output_type": "execute_result"
    }
   ],
   "source": [
    "manny.model.ik_NR(manny.model.fkine(manny.model.random_q()))"
   ]
  },
  {
   "cell_type": "code",
   "execution_count": 27,
   "id": "99fb8ec8-367f-4b29-b611-8d03d5b59068",
   "metadata": {},
   "outputs": [
    {
     "data": {
      "text/plain": [
       "(array([5.3, 4.5, 4.5, 5.2, 1.2, 3.7]), 0, 2266, 101, 0.0)"
      ]
     },
     "execution_count": 27,
     "metadata": {},
     "output_type": "execute_result"
    }
   ],
   "source": [
    "manny.model.ik_GN(initial_pose)"
   ]
  },
  {
   "cell_type": "code",
   "execution_count": 28,
   "id": "19f6316c-4875-4c2e-8d5e-0b73acb12815",
   "metadata": {},
   "outputs": [
    {
     "data": {
      "text/plain": [
       "(array([1.2, 2. , 3.8, 0.1, 6. , 1.3]), 0, 2239, 101, 0.0)"
      ]
     },
     "execution_count": 28,
     "metadata": {},
     "output_type": "execute_result"
    }
   ],
   "source": [
    "manny.model.ik_LM(initial_pose)"
   ]
  },
  {
   "cell_type": "code",
   "execution_count": 21,
   "id": "36ce701e-c032-4eed-9b3b-117ce2afa925",
   "metadata": {},
   "outputs": [
    {
     "data": {
      "text/plain": [
       "  \u001b[38;5;1m-0.2067  \u001b[0m \u001b[38;5;1m-0.9742  \u001b[0m \u001b[38;5;1m 0.09065 \u001b[0m \u001b[38;5;4m-0.3547  \u001b[0m  \u001b[0m\n",
       "  \u001b[38;5;1m 0.7087  \u001b[0m \u001b[38;5;1m-0.08522 \u001b[0m \u001b[38;5;1m 0.7003  \u001b[0m \u001b[38;5;4m-0.09688 \u001b[0m  \u001b[0m\n",
       "  \u001b[38;5;1m-0.6745  \u001b[0m \u001b[38;5;1m 0.209   \u001b[0m \u001b[38;5;1m 0.7081  \u001b[0m \u001b[38;5;4m 0.6772  \u001b[0m  \u001b[0m\n",
       "  \u001b[38;5;244m 0       \u001b[0m \u001b[38;5;244m 0       \u001b[0m \u001b[38;5;244m 0       \u001b[0m \u001b[38;5;244m 1       \u001b[0m  \u001b[0m\n"
      ]
     },
     "execution_count": 21,
     "metadata": {},
     "output_type": "execute_result"
    }
   ],
   "source": [
    "general_pose = manny.model.fkine([1]*6)\n",
    "general_pose"
   ]
  },
  {
   "cell_type": "code",
   "execution_count": 22,
   "id": "1d8989a1-f838-46ec-944e-5689077f1781",
   "metadata": {},
   "outputs": [
    {
     "data": {
      "text/plain": [
       "(array([1., 1., 1., 1., 1., 1.]), 1, 121, 5, 0.0)"
      ]
     },
     "execution_count": 22,
     "metadata": {},
     "output_type": "execute_result"
    }
   ],
   "source": [
    "manny.model.ik_LM(general_pose)"
   ]
  }
 ],
 "metadata": {
  "kernelspec": {
   "display_name": "Python 3 (ipykernel)",
   "language": "python",
   "name": "python3"
  },
  "language_info": {
   "codemirror_mode": {
    "name": "ipython",
    "version": 3
   },
   "file_extension": ".py",
   "mimetype": "text/x-python",
   "name": "python",
   "nbconvert_exporter": "python",
   "pygments_lexer": "ipython3",
   "version": "3.11.10"
  }
 },
 "nbformat": 4,
 "nbformat_minor": 5
}
