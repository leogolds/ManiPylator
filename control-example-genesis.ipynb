{
 "cells": [
  {
   "cell_type": "code",
   "execution_count": 1,
   "id": "46eaf59e-e14f-4ac6-b756-1c646dbff0a0",
   "metadata": {},
   "outputs": [
    {
     "name": "stderr",
     "output_type": "stream",
     "text": [
      "[I 03/17/25 03:39:27.942 509] [shell.py:_shell_pop_print@23] Graphical python shell detected, using wrapped sys.stdout\n"
     ]
    }
   ],
   "source": [
    "from pathlib import Path\n",
    "\n",
    "import numpy as np\n",
    "\n",
    "import roboticstoolbox as rtb\n",
    "import spatialmath as sm\n",
    "\n",
    "from manipylator import Robot"
   ]
  },
  {
   "cell_type": "code",
   "execution_count": 2,
   "id": "6a8d34c0-156a-44f3-b67a-0961e999172e",
   "metadata": {},
   "outputs": [
    {
     "name": "stderr",
     "output_type": "stream",
     "text": [
      "\u001b[38;5;159m[Genesis] [03:39:31] [INFO] \u001b[38;5;121m╭───────────────────────────────────────────────╮\u001b[0m\u001b[38;5;159m\u001b[0m\n",
      "\u001b[38;5;159m[Genesis] [03:39:31] [INFO] \u001b[38;5;121m│┈┉┈┉┈┉┈┉┈┉┈┉┈┉┈┉┈┉┈\u001b[0m\u001b[38;5;159m \u001b[38;5;121m\u001b[1m\u001b[3mGenesis\u001b[0m\u001b[38;5;159m \u001b[38;5;121m┈┉┈┉┈┉┈┉┈┉┈┉┈┉┈┉┈┉┈│\u001b[0m\u001b[38;5;159m\u001b[0m\n",
      "\u001b[38;5;159m[Genesis] [03:39:31] [INFO] \u001b[38;5;121m╰───────────────────────────────────────────────╯\u001b[0m\u001b[38;5;159m\u001b[0m\n",
      "/opt/conda/lib/python3.11/site-packages/torch/cuda/__init__.py:129: UserWarning: CUDA initialization: CUDA unknown error - this may be due to an incorrectly set up environment, e.g. changing env variable CUDA_VISIBLE_DEVICES after program start. Setting the available devices to be zero. (Triggered internally at ../c10/cuda/CUDAFunctions.cpp:108.)\n",
      "  return torch._C._cuda_getDeviceCount() > 0\n",
      "\u001b[38;5;159m[Genesis] [03:39:31] [INFO] Running on \u001b[38;5;121m\u001b[4m[Intel(R) Core(TM) i7-8665U CPU @ 1.90GHz]\u001b[0m\u001b[38;5;159m with backend \u001b[38;5;121m\u001b[4mgs.vulkan\u001b[0m\u001b[38;5;159m. Device memory: \u001b[38;5;121m\u001b[4m15.25\u001b[0m\u001b[38;5;159m GB.\u001b[0m\n",
      "RHI Error: Can not create Vulkan instance\n",
      "[W 03/17/25 03:39:31.154 509] [misc.py:adaptive_arch_select@758] Arch=[<Arch.vulkan: 10>] is not supported, falling back to CPU\n",
      "\u001b[38;5;159m[Genesis] [03:39:31] [INFO] 🚀 Genesis initialized. 🔖 version: \u001b[38;5;121m\u001b[4m0.2.1\u001b[0m\u001b[38;5;159m, 🌱 seed: \u001b[38;5;121m\u001b[4mNone\u001b[0m\u001b[38;5;159m, 📏 precision: '\u001b[38;5;121m\u001b[4m32\u001b[0m\u001b[38;5;159m', 🐛 debug: \u001b[38;5;121m\u001b[4mFalse\u001b[0m\u001b[38;5;159m, 🎨 theme: '\u001b[38;5;121m\u001b[4mdark\u001b[0m\u001b[38;5;159m'.\u001b[0m\n",
      "\u001b[38;5;159m[Genesis] [03:39:31] [INFO] Scene \u001b[38;5;121m\u001b[3m<b5103e1>\u001b[0m\u001b[38;5;159m created.\u001b[0m\n",
      "\u001b[38;5;159m[Genesis] [03:39:31] [INFO] Adding \u001b[38;5;121m<gs.RigidEntity>\u001b[0m\u001b[38;5;159m. idx: \u001b[38;5;121m0\u001b[0m\u001b[38;5;159m, uid: \u001b[38;5;121m\u001b[3m<781f7f8>\u001b[0m\u001b[38;5;159m, morph: \u001b[38;5;121m<gs.morphs.Plane>\u001b[0m\u001b[38;5;159m, material: \u001b[38;5;121m<gs.materials.Rigid>\u001b[0m\u001b[38;5;159m.\u001b[0m\n",
      "\u001b[38;5;159m[Genesis] [03:39:31] [INFO] Adding \u001b[38;5;121m<gs.RigidEntity>\u001b[0m\u001b[38;5;159m. idx: \u001b[38;5;121m1\u001b[0m\u001b[38;5;159m, uid: \u001b[38;5;121m\u001b[3m<95fef42>\u001b[0m\u001b[38;5;159m, morph: \u001b[38;5;121m<gs.morphs.URDF(file='/workspace/robots/robot.urdf')>\u001b[0m\u001b[38;5;159m, material: \u001b[38;5;121m<gs.materials.Rigid>\u001b[0m\u001b[38;5;159m.\u001b[0m\n",
      "\u001b[38;5;159m[Genesis] [03:39:33] [INFO] Building scene \u001b[38;5;121m\u001b[3m<b5103e1>\u001b[0m\u001b[38;5;159m...\u001b[0m\n",
      "\u001b[38;5;159m[Genesis] [03:39:48] [INFO] Compiling simulation kernels...\u001b[0m\n",
      "\u001b[38;5;159m[Genesis] [03:39:53] [INFO] Building visualizer...\u001b[0m\n",
      "\u001b[38;5;159m[Genesis] [03:39:55] [INFO] Viewer created. Resolution: \u001b[38;5;121m1152×864\u001b[0m\u001b[38;5;159m, max_FPS: \u001b[38;5;121m60\u001b[0m\u001b[38;5;159m.\u001b[0m\n"
     ]
    },
    {
     "name": "stdout",
     "output_type": "stream",
     "text": [
      "ERobot: onshape, 5 joints (RRRRR), dynamics, geometry, collision\n",
      "┌──────┬───────────────────┬───────┬──────────────────┬───────────────────────────────────────────────┐\n",
      "│ link │       link        │ joint │      parent      │              ETS: parent to link              │\n",
      "├──────┼───────────────────┼───────┼──────────────────┼───────────────────────────────────────────────┤\n",
      "│    0 │ \u001b[38;5;4mbase\u001b[0m              │       │ BASE             │ SE3()                                         │\n",
      "│    1 │ carriage_1        │     0 │ base             │ SE3(0, 0, 0.037; -180°, -0°, 0°) ⊕ Rz(q0)     │\n",
      "│    2 │ shoulder_lift     │     1 │ carriage_1       │ SE3(-0.065, 0, -0.055; 0°, 90°, -0°) ⊕ Rz(q1) │\n",
      "│    3 │ elbow             │     2 │ shoulder_lift    │ SE3(0.35, 0, 0; -180°, -0°, 0°) ⊕ Rz(q2)      │\n",
      "│    4 │ wrist_carriage_2  │     3 │ elbow            │ SE3(0.32, 0, -0.025; 180°, -0°, 0°) ⊕ Rz(q3)  │\n",
      "│    5 │ @wrist_carriage_3 │     4 │ wrist_carriage_2 │ SE3(0.04, 0, -0.0485; 0°, -90°, -0°) ⊕ Rz(q4) │\n",
      "└──────┴───────────────────┴───────┴──────────────────┴───────────────────────────────────────────────┘\n",
      "\n"
     ]
    }
   ],
   "source": [
    "path = Path('/workspace/robots/robot.urdf')\n",
    "manny = Robot(path)\n",
    "print(manny.model)"
   ]
  },
  {
   "cell_type": "code",
   "execution_count": 3,
   "id": "62a7e816-58f9-488c-bde7-1041903dd26d",
   "metadata": {},
   "outputs": [
    {
     "data": {
      "text/plain": [
       "\u001b[38;5;11m────────────────────── \u001b[1m\u001b[3m<gs.RigidEntity>\u001b[0m \u001b[38;5;11m──────────────────────\n",
       "                \u001b[38;5;159m'n_qs'\u001b[0m\u001b[38;5;247m:\u001b[0m \u001b[38;5;121m\u001b[3m<int>\u001b[0m\u001b[38;5;121m: 5\u001b[0m\n",
       "              \u001b[38;5;159m'n_dofs'\u001b[0m\u001b[38;5;247m:\u001b[0m \u001b[38;5;121m\u001b[3m<int>\u001b[0m\u001b[38;5;121m: 5\u001b[0m\n",
       "             \u001b[38;5;159m'n_links'\u001b[0m\u001b[38;5;247m:\u001b[0m \u001b[38;5;121m\u001b[3m<int>\u001b[0m\u001b[38;5;121m: 6\u001b[0m\n",
       "             \u001b[38;5;159m'n_geoms'\u001b[0m\u001b[38;5;247m:\u001b[0m \u001b[38;5;121m\u001b[3m<int>\u001b[0m\u001b[38;5;121m: 10\u001b[0m\n",
       "             \u001b[38;5;159m'n_cells'\u001b[0m\u001b[38;5;247m:\u001b[0m \u001b[38;5;121m\u001b[3m<numpy.int64>\u001b[0m\u001b[38;5;121m: 294106\u001b[0m\n",
       "             \u001b[38;5;159m'n_verts'\u001b[0m\u001b[38;5;247m:\u001b[0m \u001b[38;5;121m\u001b[3m<int>\u001b[0m\u001b[38;5;121m: 31895\u001b[0m\n",
       "             \u001b[38;5;159m'n_faces'\u001b[0m\u001b[38;5;247m:\u001b[0m \u001b[38;5;121m\u001b[3m<int>\u001b[0m\u001b[38;5;121m: 63750\u001b[0m\n",
       "             \u001b[38;5;159m'n_edges'\u001b[0m\u001b[38;5;247m:\u001b[0m \u001b[38;5;121m\u001b[3m<int>\u001b[0m\u001b[38;5;121m: 95625\u001b[0m\n",
       "            \u001b[38;5;159m'n_joints'\u001b[0m\u001b[38;5;247m:\u001b[0m \u001b[38;5;121m\u001b[3m<int>\u001b[0m\u001b[38;5;121m: 6\u001b[0m\n",
       "            \u001b[38;5;159m'n_vgeoms'\u001b[0m\u001b[38;5;247m:\u001b[0m \u001b[38;5;121m\u001b[3m<int>\u001b[0m\u001b[38;5;121m: 10\u001b[0m\n",
       "            \u001b[38;5;159m'n_vverts'\u001b[0m\u001b[38;5;247m:\u001b[0m \u001b[38;5;121m\u001b[3m<int>\u001b[0m\u001b[38;5;121m: 124351\u001b[0m\n",
       "            \u001b[38;5;159m'n_vfaces'\u001b[0m\u001b[38;5;247m:\u001b[0m \u001b[38;5;121m\u001b[3m<int>\u001b[0m\u001b[38;5;121m: 249250\u001b[0m\n",
       "        \u001b[38;5;159m'n_equalities'\u001b[0m\u001b[38;5;247m:\u001b[0m \u001b[38;5;121m\u001b[3m<int>\u001b[0m\u001b[38;5;121m: 0\u001b[0m\n",
       "               \u001b[38;5;159m'q_end'\u001b[0m\u001b[38;5;247m:\u001b[0m \u001b[38;5;121m\u001b[3m<int>\u001b[0m\u001b[38;5;121m: 5\u001b[0m\n",
       "             \u001b[38;5;159m'q_start'\u001b[0m\u001b[38;5;247m:\u001b[0m \u001b[38;5;121m\u001b[3m<int>\u001b[0m\u001b[38;5;121m: 0\u001b[0m\n",
       "             \u001b[38;5;159m'is_free'\u001b[0m\u001b[38;5;247m:\u001b[0m \u001b[38;5;121m\u001b[3m<bool>\u001b[0m\u001b[38;5;121m: True\u001b[0m\n",
       "            \u001b[38;5;159m'is_built'\u001b[0m\u001b[38;5;247m:\u001b[0m \u001b[38;5;121m\u001b[3m<bool>\u001b[0m\u001b[38;5;121m: True\u001b[0m\n",
       "             \u001b[38;5;159m'dof_end'\u001b[0m\u001b[38;5;247m:\u001b[0m \u001b[38;5;121m\u001b[3m<int>\u001b[0m\u001b[38;5;121m: 5\u001b[0m\n",
       "           \u001b[38;5;159m'dof_start'\u001b[0m\u001b[38;5;247m:\u001b[0m \u001b[38;5;121m\u001b[3m<int>\u001b[0m\u001b[38;5;121m: 0\u001b[0m\n",
       "                 \u001b[38;5;159m'idx'\u001b[0m\u001b[38;5;247m:\u001b[0m \u001b[38;5;121m\u001b[3m<int>\u001b[0m\u001b[38;5;121m: 1\u001b[0m\n",
       "                 \u001b[38;5;159m'sim'\u001b[0m\u001b[38;5;247m:\u001b[0m \u001b[38;5;121m\u001b[3m<gs.Simulator>\u001b[0m\u001b[38;5;121m\u001b[0m\n",
       "                 \u001b[38;5;159m'uid'\u001b[0m\u001b[38;5;247m:\u001b[0m \u001b[38;5;121m\u001b[3m<gs.UID>\u001b[0m\u001b[38;5;121m('95fef42-9a7d9401da778dcad22baa388')\u001b[0m\n",
       "           \u001b[38;5;159m'base_link'\u001b[0m\u001b[38;5;247m:\u001b[0m \u001b[38;5;121m\u001b[3m<gs.RigidLink>\u001b[0m\u001b[38;5;121m: <3b7211e>, name: 'base', idx: 1\u001b[0m\n",
       "          \u001b[38;5;159m'base_joint'\u001b[0m\u001b[38;5;247m:\u001b[0m \u001b[38;5;121m\u001b[3m<gs.RigidJoint>\u001b[0m\u001b[38;5;121m: <6a4e989>, name: 'joint_base', idx: 1, type: <FIXED: 0>\u001b[0m\n",
       "       \u001b[38;5;159m'base_link_idx'\u001b[0m\u001b[38;5;247m:\u001b[0m \u001b[38;5;121m\u001b[3m<int>\u001b[0m\u001b[38;5;121m: 1\u001b[0m\n",
       "            \u001b[38;5;159m'cell_end'\u001b[0m\u001b[38;5;247m:\u001b[0m \u001b[38;5;121m\u001b[3m<numpy.int64>\u001b[0m\u001b[38;5;121m: 300250\u001b[0m\n",
       "          \u001b[38;5;159m'cell_start'\u001b[0m\u001b[38;5;247m:\u001b[0m \u001b[38;5;121m\u001b[3m<numpy.int64>\u001b[0m\u001b[38;5;121m: 6144\u001b[0m\n",
       "          \u001b[38;5;159m'edge_start'\u001b[0m\u001b[38;5;247m:\u001b[0m \u001b[38;5;121m\u001b[3m<int>\u001b[0m\u001b[38;5;121m: 18\u001b[0m\n",
       "          \u001b[38;5;159m'face_start'\u001b[0m\u001b[38;5;247m:\u001b[0m \u001b[38;5;121m\u001b[3m<int>\u001b[0m\u001b[38;5;121m: 12\u001b[0m\n",
       "            \u001b[38;5;159m'geom_end'\u001b[0m\u001b[38;5;247m:\u001b[0m \u001b[38;5;121m\u001b[3m<int>\u001b[0m\u001b[38;5;121m: 11\u001b[0m\n",
       "          \u001b[38;5;159m'geom_start'\u001b[0m\u001b[38;5;247m:\u001b[0m \u001b[38;5;121m\u001b[3m<int>\u001b[0m\u001b[38;5;121m: 1\u001b[0m\n",
       "           \u001b[38;5;159m'init_qpos'\u001b[0m\u001b[38;5;247m:\u001b[0m \u001b[38;5;121m\u001b[3m<numpy.ndarray>\u001b[0m\u001b[38;5;121m: array([0., 0., 0., 0., 0.])\u001b[0m\n",
       "            \u001b[38;5;159m'link_end'\u001b[0m\u001b[38;5;247m:\u001b[0m \u001b[38;5;121m\u001b[3m<int>\u001b[0m\u001b[38;5;121m: 7\u001b[0m\n",
       "          \u001b[38;5;159m'link_start'\u001b[0m\u001b[38;5;247m:\u001b[0m \u001b[38;5;121m\u001b[3m<int>\u001b[0m\u001b[38;5;121m: 1\u001b[0m\n",
       "          \u001b[38;5;159m'vert_start'\u001b[0m\u001b[38;5;247m:\u001b[0m \u001b[38;5;121m\u001b[3m<int>\u001b[0m\u001b[38;5;121m: 8\u001b[0m\n",
       "               \u001b[38;5;159m'geoms'\u001b[0m\u001b[38;5;247m:\u001b[0m \u001b[38;5;121m\u001b[3m<gs.List>\u001b[0m\u001b[38;5;121m(len=10, [\n",
       "                            <gs.RigidGeom>: <0254674>, idx: 1 (from entity <95fef42>, link <3b7211e>),\n",
       "                            <gs.RigidGeom>: <729d593>, idx: 2 (from entity <95fef42>, link <5670f1e>),\n",
       "                            <gs.RigidGeom>: <83157d6>, idx: 3 (from entity <95fef42>, link <0664b2a>),\n",
       "                            <gs.RigidGeom>: <b43e092>, idx: 4 (from entity <95fef42>, link <0664b2a>),\n",
       "                            <gs.RigidGeom>: <6a325ad>, idx: 5 (from entity <95fef42>, link <0664b2a>),\n",
       "                            <gs.RigidGeom>: <c950fad>, idx: 6 (from entity <95fef42>, link <7bc6477>),\n",
       "                            <gs.RigidGeom>: <3fda874>, idx: 7 (from entity <95fef42>, link <7bc6477>),\n",
       "                            <gs.RigidGeom>: <83a7658>, idx: 8 (from entity <95fef42>, link <7bc6477>),\n",
       "                            <gs.RigidGeom>: <de5a4a9>, idx: 9 (from entity <95fef42>, link <c031a4e>),\n",
       "                            <gs.RigidGeom>: <0a2c31b>, idx: 10 (from entity <95fef42>, link <508e849>),\n",
       "                        ])\u001b[0m\n",
       "               \u001b[38;5;159m'links'\u001b[0m\u001b[38;5;247m:\u001b[0m \u001b[38;5;121m\u001b[3m<gs.List>\u001b[0m\u001b[38;5;121m(len=6, [\n",
       "                            <gs.RigidLink>: <3b7211e>, name: 'base', idx: 1,\n",
       "                            <gs.RigidLink>: <5670f1e>, name: 'carriage_1', idx: 2,\n",
       "                            <gs.RigidLink>: <0664b2a>, name: 'shoulder_lift', idx: 3,\n",
       "                            <gs.RigidLink>: <7bc6477>, name: 'elbow', idx: 4,\n",
       "                            <gs.RigidLink>: <c031a4e>, name: 'wrist_carriage_2', idx: 5,\n",
       "                            <gs.RigidLink>: <508e849>, name: 'wrist_carriage_3', idx: 6,\n",
       "                        ])\u001b[0m\n",
       "               \u001b[38;5;159m'morph'\u001b[0m\u001b[38;5;247m:\u001b[0m \u001b[38;5;121m\u001b[3m<gs.morphs.URDF(file='/workspace/robots/robot.urdf')>\u001b[0m\u001b[38;5;121m\u001b[0m\n",
       "               \u001b[38;5;159m'scene'\u001b[0m\u001b[38;5;247m:\u001b[0m \u001b[38;5;121m\u001b[3m<gs.Scene>\u001b[0m\u001b[38;5;121m\u001b[0m\n",
       "         \u001b[38;5;159m'vface_start'\u001b[0m\u001b[38;5;247m:\u001b[0m \u001b[38;5;121m\u001b[3m<int>\u001b[0m\u001b[38;5;121m: 12\u001b[0m\n",
       "         \u001b[38;5;159m'vvert_start'\u001b[0m\u001b[38;5;247m:\u001b[0m \u001b[38;5;121m\u001b[3m<int>\u001b[0m\u001b[38;5;121m: 8\u001b[0m\n",
       "              \u001b[38;5;159m'joints'\u001b[0m\u001b[38;5;247m:\u001b[0m \u001b[38;5;121m\u001b[3m<gs.List>\u001b[0m\u001b[38;5;121m(len=6, [\n",
       "                            <gs.RigidJoint>: <6a4e989>, name: 'joint_base', idx: 1, type: <FIXED: 0>,\n",
       "                            <gs.RigidJoint>: <66bee13>, name: 'shoulder_rotate', idx: 2, type: <REVOLUTE: 1>,\n",
       "                            <gs.RigidJoint>: <c3c4456>, name: 'shoulder_lift', idx: 3, type: <REVOLUTE: 1>,\n",
       "                            <gs.RigidJoint>: <5d10152>, name: 'shoulder_bend', idx: 4, type: <REVOLUTE: 1>,\n",
       "                            <gs.RigidJoint>: <900c04e>, name: 'wrist_1', idx: 5, type: <REVOLUTE: 1>,\n",
       "                            <gs.RigidJoint>: <cb02d2d>, name: 'wrist_2', idx: 6, type: <REVOLUTE: 1>,\n",
       "                        ])\u001b[0m\n",
       "              \u001b[38;5;159m'solver'\u001b[0m\u001b[38;5;247m:\u001b[0m \u001b[38;5;121m\u001b[3m<gs.RigidSolver>\u001b[0m\u001b[38;5;121m: <9ee674b>, n_entities: 2\u001b[0m\n",
       "              \u001b[38;5;159m'vgeoms'\u001b[0m\u001b[38;5;247m:\u001b[0m \u001b[38;5;121m\u001b[3m<gs.List>\u001b[0m\u001b[38;5;121m(len=10, [\n",
       "                            <gs.RigidVisGeom>: <7bd63d5>, idx: 1 (from entity <95fef42>, link <3b7211e>),\n",
       "                            <gs.RigidVisGeom>: <b9a0d79>, idx: 2 (from entity <95fef42>, link <5670f1e>),\n",
       "                            <gs.RigidVisGeom>: <17d956d>, idx: 3 (from entity <95fef42>, link <0664b2a>),\n",
       "                            <gs.RigidVisGeom>: <806503e>, idx: 4 (from entity <95fef42>, link <0664b2a>),\n",
       "                            <gs.RigidVisGeom>: <5682bd3>, idx: 5 (from entity <95fef42>, link <0664b2a>),\n",
       "                            <gs.RigidVisGeom>: <d49445d>, idx: 6 (from entity <95fef42>, link <7bc6477>),\n",
       "                            <gs.RigidVisGeom>: <f714c8a>, idx: 7 (from entity <95fef42>, link <7bc6477>),\n",
       "                            <gs.RigidVisGeom>: <dbf64d9>, idx: 8 (from entity <95fef42>, link <7bc6477>),\n",
       "                            <gs.RigidVisGeom>: <4c31200>, idx: 9 (from entity <95fef42>, link <c031a4e>),\n",
       "                            <gs.RigidVisGeom>: <b589434>, idx: 10 (from entity <95fef42>, link <508e849>),\n",
       "                        ])\u001b[0m\n",
       "\u001b[38;5;159m'gravity_compensation'\u001b[0m\u001b[38;5;247m:\u001b[0m \u001b[38;5;121m\u001b[3m<float>\u001b[0m\u001b[38;5;121m: 0.0\u001b[0m\n",
       "             \u001b[38;5;159m'surface'\u001b[0m\u001b[38;5;247m:\u001b[0m \u001b[38;5;121m\u001b[3m<gs.options.surfaces.Default>\u001b[0m\u001b[38;5;121m\u001b[0m\n",
       "        \u001b[38;5;159m'equality_end'\u001b[0m\u001b[38;5;247m:\u001b[0m \u001b[38;5;121m\u001b[3m<int>\u001b[0m\u001b[38;5;121m: 0\u001b[0m\n",
       "      \u001b[38;5;159m'equality_start'\u001b[0m\u001b[38;5;247m:\u001b[0m \u001b[38;5;121m\u001b[3m<int>\u001b[0m\u001b[38;5;121m: 0\u001b[0m\n",
       "            \u001b[38;5;159m'material'\u001b[0m\u001b[38;5;247m:\u001b[0m \u001b[38;5;121m\u001b[3m<gs.materials.Rigid>\u001b[0m\u001b[38;5;121m\u001b[0m\n",
       "   \u001b[38;5;159m'visualize_contact'\u001b[0m\u001b[38;5;247m:\u001b[0m \u001b[38;5;121m\u001b[3m<bool>\u001b[0m\u001b[38;5;121m: False\u001b[0m\n",
       "          \u001b[38;5;159m'equalities'\u001b[0m\u001b[38;5;247m:\u001b[0m \u001b[38;5;121m\u001b[3m<gs.List>\u001b[0m\u001b[38;5;121m(len=0, [])\u001b[0m"
      ]
     },
     "execution_count": 3,
     "metadata": {},
     "output_type": "execute_result"
    }
   ],
   "source": [
    "robot = manny.visualizer.robot\n",
    "robot"
   ]
  },
  {
   "cell_type": "code",
   "execution_count": 4,
   "id": "1a784ae0-cede-4f8b-80e6-4c798bc58f31",
   "metadata": {},
   "outputs": [
    {
     "data": {
      "text/plain": [
       "tensor([[ 0.0000e+00,  0.0000e+00,  0.0000e+00],\n",
       "        [ 0.0000e+00,  0.0000e+00,  3.7000e-02],\n",
       "        [-6.5000e-02, -6.7356e-18,  9.2000e-02],\n",
       "        [-6.5000e-02, -4.9598e-17,  4.4200e-01],\n",
       "        [-4.0000e-02, -8.5725e-17,  7.6200e-01],\n",
       "        [-8.8500e-02, -4.7547e-17,  8.0200e-01]])"
      ]
     },
     "execution_count": 4,
     "metadata": {},
     "output_type": "execute_result"
    }
   ],
   "source": [
    "robot.get_links_pos()"
   ]
  },
  {
   "cell_type": "code",
   "execution_count": 5,
   "id": "bb35f31b-70b4-4009-a132-610c43d3987d",
   "metadata": {},
   "outputs": [
    {
     "data": {
      "text/plain": [
       "\u001b[38;5;11m─────────────────── \u001b[1m\u001b[3m<gs.RigidLink>\u001b[0m \u001b[38;5;11m───────────────────\n",
       "          \u001b[38;5;159m'n_geoms'\u001b[0m\u001b[38;5;247m:\u001b[0m \u001b[38;5;121m\u001b[3m<int>\u001b[0m\u001b[38;5;121m: 1\u001b[0m\n",
       "          \u001b[38;5;159m'n_cells'\u001b[0m\u001b[38;5;247m:\u001b[0m \u001b[38;5;121m\u001b[3m<numpy.int64>\u001b[0m\u001b[38;5;121m: 28800\u001b[0m\n",
       "          \u001b[38;5;159m'n_verts'\u001b[0m\u001b[38;5;247m:\u001b[0m \u001b[38;5;121m\u001b[3m<int>\u001b[0m\u001b[38;5;121m: 4422\u001b[0m\n",
       "          \u001b[38;5;159m'n_faces'\u001b[0m\u001b[38;5;247m:\u001b[0m \u001b[38;5;121m\u001b[3m<int>\u001b[0m\u001b[38;5;121m: 8840\u001b[0m\n",
       "          \u001b[38;5;159m'n_edges'\u001b[0m\u001b[38;5;247m:\u001b[0m \u001b[38;5;121m\u001b[3m<int>\u001b[0m\u001b[38;5;121m: 13260\u001b[0m\n",
       "         \u001b[38;5;159m'n_vgeoms'\u001b[0m\u001b[38;5;247m:\u001b[0m \u001b[38;5;121m\u001b[3m<int>\u001b[0m\u001b[38;5;121m: 1\u001b[0m\n",
       "         \u001b[38;5;159m'n_vverts'\u001b[0m\u001b[38;5;247m:\u001b[0m \u001b[38;5;121m\u001b[3m<int>\u001b[0m\u001b[38;5;121m: 16606\u001b[0m\n",
       "         \u001b[38;5;159m'n_vfaces'\u001b[0m\u001b[38;5;247m:\u001b[0m \u001b[38;5;121m\u001b[3m<int>\u001b[0m\u001b[38;5;121m: 33264\u001b[0m\n",
       "          \u001b[38;5;159m'is_leaf'\u001b[0m\u001b[38;5;247m:\u001b[0m \u001b[38;5;121m\u001b[3m<bool>\u001b[0m\u001b[38;5;121m: True\u001b[0m\n",
       "          \u001b[38;5;159m'is_free'\u001b[0m\u001b[38;5;247m:\u001b[0m \u001b[38;5;121m\u001b[3m<bool>\u001b[0m\u001b[38;5;121m: True\u001b[0m\n",
       "         \u001b[38;5;159m'is_built'\u001b[0m\u001b[38;5;247m:\u001b[0m \u001b[38;5;121m\u001b[3m<bool>\u001b[0m\u001b[38;5;121m: True\u001b[0m\n",
       "              \u001b[38;5;159m'idx'\u001b[0m\u001b[38;5;247m:\u001b[0m \u001b[38;5;121m\u001b[3m<int>\u001b[0m\u001b[38;5;121m: 6\u001b[0m\n",
       "        \u001b[38;5;159m'idx_local'\u001b[0m\u001b[38;5;247m:\u001b[0m \u001b[38;5;121m\u001b[3m<int>\u001b[0m\u001b[38;5;121m: 5\u001b[0m\n",
       "              \u001b[38;5;159m'pos'\u001b[0m\u001b[38;5;247m:\u001b[0m \u001b[38;5;121m\u001b[3m<numpy.ndarray>\u001b[0m\u001b[38;5;121m: array([ 0.04  ,  0.    , -0.0485])\u001b[0m\n",
       "              \u001b[38;5;159m'uid'\u001b[0m\u001b[38;5;247m:\u001b[0m \u001b[38;5;121m\u001b[3m<gs.UID>\u001b[0m\u001b[38;5;121m('508e849-f7b374b6f891765c18e69ca57')\u001b[0m\n",
       "         \u001b[38;5;159m'geom_end'\u001b[0m\u001b[38;5;247m:\u001b[0m \u001b[38;5;121m\u001b[3m<int>\u001b[0m\u001b[38;5;121m: 11\u001b[0m\n",
       "       \u001b[38;5;159m'geom_start'\u001b[0m\u001b[38;5;247m:\u001b[0m \u001b[38;5;121m\u001b[3m<int>\u001b[0m\u001b[38;5;121m: 10\u001b[0m\n",
       "             \u001b[38;5;159m'name'\u001b[0m\u001b[38;5;247m:\u001b[0m \u001b[38;5;121m\u001b[3m<str>\u001b[0m\u001b[38;5;121m: 'wrist_carriage_3'\u001b[0m\n",
       "             \u001b[38;5;159m'quat'\u001b[0m\u001b[38;5;247m:\u001b[0m \u001b[38;5;121m\u001b[3m<numpy.ndarray>\u001b[0m\u001b[38;5;121m: array([-0.70710678,  0.        ,  0.70710678,  0.        ])\u001b[0m\n",
       "       \u001b[38;5;159m'child_idxs'\u001b[0m\u001b[38;5;247m:\u001b[0m \u001b[38;5;121m\u001b[3m<list>\u001b[0m\u001b[38;5;121m: []\u001b[0m\n",
       " \u001b[38;5;159m'child_idxs_local'\u001b[0m\u001b[38;5;247m:\u001b[0m \u001b[38;5;121m\u001b[3m<list>\u001b[0m\u001b[38;5;121m: []\u001b[0m\n",
       "            \u001b[38;5;159m'geoms'\u001b[0m\u001b[38;5;247m:\u001b[0m \u001b[38;5;121m\u001b[3m<gs.List>\u001b[0m\u001b[38;5;121m(len=1, [\n",
       "                         <gs.RigidGeom>: <0a2c31b>, idx: 10 (from entity <95fef42>, link <508e849>),\n",
       "                     ])\u001b[0m\n",
       "            \u001b[38;5;159m'joint'\u001b[0m\u001b[38;5;247m:\u001b[0m \u001b[38;5;121m\u001b[3m<gs.RigidJoint>\u001b[0m\u001b[38;5;121m: <cb02d2d>, name: 'wrist_2', idx: 6, type: <REVOLUTE: 1>\u001b[0m\n",
       "        \u001b[38;5;159m'vgeom_end'\u001b[0m\u001b[38;5;247m:\u001b[0m \u001b[38;5;121m\u001b[3m<int>\u001b[0m\u001b[38;5;121m: 11\u001b[0m\n",
       "      \u001b[38;5;159m'vgeom_start'\u001b[0m\u001b[38;5;247m:\u001b[0m \u001b[38;5;121m\u001b[3m<int>\u001b[0m\u001b[38;5;121m: 10\u001b[0m\n",
       "           \u001b[38;5;159m'entity'\u001b[0m\u001b[38;5;247m:\u001b[0m \u001b[38;5;121m\u001b[3m<gs.RigidEntity>\u001b[0m\u001b[38;5;121m, idx: 1, morph: <gs.morphs.URDF(file='/workspace/robots/robot.urdf')>, material: <gs.materials.Rigid>\u001b[0m\n",
       "       \u001b[38;5;159m'parent_idx'\u001b[0m\u001b[38;5;247m:\u001b[0m \u001b[38;5;121m\u001b[3m<int>\u001b[0m\u001b[38;5;121m: 5\u001b[0m\n",
       " \u001b[38;5;159m'parent_idx_local'\u001b[0m\u001b[38;5;247m:\u001b[0m \u001b[38;5;121m\u001b[3m<int>\u001b[0m\u001b[38;5;121m: 4\u001b[0m\n",
       "           \u001b[38;5;159m'solver'\u001b[0m\u001b[38;5;247m:\u001b[0m \u001b[38;5;121m\u001b[3m<gs.RigidSolver>\u001b[0m\u001b[38;5;121m: <9ee674b>, n_entities: 2\u001b[0m\n",
       "           \u001b[38;5;159m'vgeoms'\u001b[0m\u001b[38;5;247m:\u001b[0m \u001b[38;5;121m\u001b[3m<gs.List>\u001b[0m\u001b[38;5;121m(len=1, [\n",
       "                         <gs.RigidVisGeom>: <b589434>, idx: 10 (from entity <95fef42>, link <508e849>),\n",
       "                     ])\u001b[0m\n",
       "       \u001b[38;5;159m'inertial_i'\u001b[0m\u001b[38;5;247m:\u001b[0m \u001b[38;5;121m\u001b[3m<numpy.ndarray>\u001b[0m\u001b[38;5;121m: array([[0., 0., 0.],\n",
       "                                             [0., 0., 0.],\n",
       "                                             [0., 0., 0.]], dtype=float32)\u001b[0m\n",
       "     \u001b[38;5;159m'inertial_pos'\u001b[0m\u001b[38;5;247m:\u001b[0m \u001b[38;5;121m\u001b[3m<numpy.ndarray>\u001b[0m\u001b[38;5;121m: array([0., 0., 0.])\u001b[0m\n",
       "    \u001b[38;5;159m'inertial_quat'\u001b[0m\u001b[38;5;247m:\u001b[0m \u001b[38;5;121m\u001b[3m<numpy.ndarray>\u001b[0m\u001b[38;5;121m: array([1., 0., 0., 0.])\u001b[0m\n",
       "    \u001b[38;5;159m'inertial_mass'\u001b[0m\u001b[38;5;247m:\u001b[0m \u001b[38;5;121m\u001b[3m<float>\u001b[0m\u001b[38;5;121m: 0.0\u001b[0m\n",
       "        \u001b[38;5;159m'invweight'\u001b[0m\u001b[38;5;247m:\u001b[0m \u001b[38;5;121m\u001b[3m<float>\u001b[0m\u001b[38;5;121m: -1.0\u001b[0m\n",
       "\u001b[38;5;159m'visualize_contact'\u001b[0m\u001b[38;5;247m:\u001b[0m \u001b[38;5;121m\u001b[3m<bool>\u001b[0m\u001b[38;5;121m: False\u001b[0m"
      ]
     },
     "execution_count": 5,
     "metadata": {},
     "output_type": "execute_result"
    }
   ],
   "source": [
    "ee = robot.get_link('wrist_carriage_3')\n",
    "ee"
   ]
  },
  {
   "cell_type": "code",
   "execution_count": 6,
   "id": "fcb155aa-0408-4d8d-acd0-720eff3f2fa1",
   "metadata": {},
   "outputs": [
    {
     "data": {
      "text/plain": [
       "tensor([-8.8500e-02, -4.7547e-17,  8.0200e-01])"
      ]
     },
     "execution_count": 6,
     "metadata": {},
     "output_type": "execute_result"
    }
   ],
   "source": [
    "ee_initial_pos = ee.get_pos()\n",
    "ee_initial_pos"
   ]
  },
  {
   "cell_type": "code",
   "execution_count": 7,
   "id": "71c870ea-7748-4cf6-b808-a03ea01f83c9",
   "metadata": {},
   "outputs": [
    {
     "data": {
      "text/plain": [
       "tensor([-6.1232e-17,  1.0000e+00, -4.4409e-16,  0.0000e+00])"
      ]
     },
     "execution_count": 7,
     "metadata": {},
     "output_type": "execute_result"
    }
   ],
   "source": [
    "ee_initial_quat = ee.get_quat()\n",
    "ee_initial_quat"
   ]
  },
  {
   "cell_type": "code",
   "execution_count": 8,
   "id": "f8228776-a435-4b63-8925-717ff3c05637",
   "metadata": {},
   "outputs": [
    {
     "name": "stderr",
     "output_type": "stream",
     "text": [
      "[W 03/17/25 03:39:55.555 509] [frontend_ir.cpp:begin_frontend_struct_for_on_external_tensor@1694] ti.loop_config(serialize=True) does not have effect on the struct for. The execution order is not guaranteed.\n"
     ]
    },
    {
     "data": {
      "text/plain": [
       "tensor([0., 0., 0., 0., 0.])"
      ]
     },
     "execution_count": 8,
     "metadata": {},
     "output_type": "execute_result"
    }
   ],
   "source": [
    "qpos = robot.inverse_kinematics(\n",
    "    link = ee,\n",
    "    pos  = ee_initial_pos,\n",
    "    quat = ee_initial_quat,\n",
    ")\n",
    "qpos"
   ]
  },
  {
   "cell_type": "code",
   "execution_count": 9,
   "id": "b781b329-82fd-48ec-824b-7070df97ce78",
   "metadata": {},
   "outputs": [
    {
     "data": {
      "text/plain": [
       "tensor([-0.8485,  0.9647,  2.3368,  1.3720,  0.8485])"
      ]
     },
     "execution_count": 9,
     "metadata": {},
     "output_type": "execute_result"
    }
   ],
   "source": [
    "qpos = robot.inverse_kinematics(\n",
    "    link = ee,\n",
    "    pos  = [-4.8500e-02, -4.7547e-02,  4.0200e-01],\n",
    "    quat = ee_initial_quat,\n",
    ")\n",
    "qpos"
   ]
  },
  {
   "cell_type": "code",
   "execution_count": 10,
   "id": "ab527bc0-13d2-4596-8a01-681868cabcab",
   "metadata": {},
   "outputs": [
    {
     "name": "stderr",
     "output_type": "stream",
     "text": [
      "\u001b[38;5;159m[Genesis] [03:39:58] [INFO] Path solution found successfully.\u001b[0m\n"
     ]
    }
   ],
   "source": [
    "path = robot.plan_path(\n",
    "    qpos_goal     = qpos,\n",
    "    num_waypoints = 100, \n",
    "    ignore_collision=True,\n",
    "    ignore_joint_limit=True,\n",
    ")"
   ]
  },
  {
   "cell_type": "code",
   "execution_count": 11,
   "id": "e98361dc-92a7-436a-a324-2887827b6149",
   "metadata": {},
   "outputs": [
    {
     "data": {
      "text/plain": [
       "[tensor([0., 0., 0., 0., 0.]),\n",
       " tensor([-0.0082,  0.0093,  0.0225,  0.0132,  0.0082]),\n",
       " tensor([-0.0163,  0.0186,  0.0449,  0.0264,  0.0163]),\n",
       " tensor([-0.0245,  0.0278,  0.0674,  0.0396,  0.0245]),\n",
       " tensor([-0.0326,  0.0371,  0.0899,  0.0528,  0.0326]),\n",
       " tensor([-0.0408,  0.0464,  0.1123,  0.0660,  0.0408]),\n",
       " tensor([-0.0490,  0.0557,  0.1348,  0.0792,  0.0490]),\n",
       " tensor([-0.0571,  0.0649,  0.1573,  0.0923,  0.0571]),\n",
       " tensor([-0.0653,  0.0742,  0.1798,  0.1055,  0.0653]),\n",
       " tensor([-0.0734,  0.0835,  0.2022,  0.1187,  0.0734]),\n",
       " tensor([-0.0816,  0.0928,  0.2247,  0.1319,  0.0816]),\n",
       " tensor([-0.0897,  0.1020,  0.2472,  0.1451,  0.0897]),\n",
       " tensor([-0.0979,  0.1113,  0.2696,  0.1583,  0.0979]),\n",
       " tensor([-0.1061,  0.1206,  0.2921,  0.1715,  0.1061]),\n",
       " tensor([-0.1149,  0.1306,  0.3164,  0.1858,  0.1149]),\n",
       " tensor([-0.1237,  0.1407,  0.3408,  0.2001,  0.1237]),\n",
       " tensor([-0.1326,  0.1507,  0.3651,  0.2144,  0.1326]),\n",
       " tensor([-0.1414,  0.1608,  0.3895,  0.2287,  0.1414]),\n",
       " tensor([-0.1503,  0.1708,  0.4138,  0.2430,  0.1503]),\n",
       " tensor([-0.1591,  0.1809,  0.4381,  0.2573,  0.1591]),\n",
       " tensor([-0.1679,  0.1909,  0.4625,  0.2715,  0.1679]),\n",
       " tensor([-0.1768,  0.2010,  0.4868,  0.2858,  0.1768]),\n",
       " tensor([-0.1856,  0.2110,  0.5112,  0.3001,  0.1856]),\n",
       " tensor([-0.1944,  0.2211,  0.5355,  0.3144,  0.1945]),\n",
       " tensor([-0.2033,  0.2311,  0.5599,  0.3287,  0.2033]),\n",
       " tensor([-0.2121,  0.2412,  0.5842,  0.3430,  0.2121]),\n",
       " tensor([-0.2203,  0.2505,  0.6067,  0.3562,  0.2203]),\n",
       " tensor([-0.2284,  0.2597,  0.6291,  0.3694,  0.2285]),\n",
       " tensor([-0.2366,  0.2690,  0.6516,  0.3826,  0.2366]),\n",
       " tensor([-0.2448,  0.2783,  0.6741,  0.3958,  0.2448]),\n",
       " tensor([-0.2529,  0.2876,  0.6965,  0.4090,  0.2529]),\n",
       " tensor([-0.2611,  0.2968,  0.7190,  0.4222,  0.2611]),\n",
       " tensor([-0.2692,  0.3061,  0.7415,  0.4354,  0.2692]),\n",
       " tensor([-0.2774,  0.3154,  0.7640,  0.4485,  0.2774]),\n",
       " tensor([-0.2856,  0.3247,  0.7864,  0.4617,  0.2856]),\n",
       " tensor([-0.2937,  0.3339,  0.8089,  0.4749,  0.2937]),\n",
       " tensor([-0.3019,  0.3432,  0.8314,  0.4881,  0.3019]),\n",
       " tensor([-0.3100,  0.3525,  0.8538,  0.5013,  0.3100]),\n",
       " tensor([-0.3182,  0.3618,  0.8763,  0.5145,  0.3182]),\n",
       " tensor([-0.3270,  0.3718,  0.9006,  0.5288,  0.3270]),\n",
       " tensor([-0.3359,  0.3819,  0.9250,  0.5431,  0.3359]),\n",
       " tensor([-0.3447,  0.3919,  0.9493,  0.5574,  0.3447]),\n",
       " tensor([-0.3535,  0.4020,  0.9737,  0.5717,  0.3536]),\n",
       " tensor([-0.3624,  0.4120,  0.9980,  0.5860,  0.3624]),\n",
       " tensor([-0.3712,  0.4221,  1.0223,  0.6003,  0.3712]),\n",
       " tensor([-0.3801,  0.4321,  1.0467,  0.6146,  0.3801]),\n",
       " tensor([-0.3889,  0.4422,  1.0710,  0.6288,  0.3889]),\n",
       " tensor([-0.3977,  0.4522,  1.0954,  0.6431,  0.3978]),\n",
       " tensor([-0.4066,  0.4623,  1.1197,  0.6574,  0.4066]),\n",
       " tensor([-0.4154,  0.4723,  1.1441,  0.6717,  0.4154]),\n",
       " tensor([-0.4243,  0.4824,  1.1684,  0.6860,  0.4243]),\n",
       " tensor([-0.4324,  0.4916,  1.1909,  0.6992,  0.4324]),\n",
       " tensor([-0.4406,  0.5009,  1.2133,  0.7124,  0.4406]),\n",
       " tensor([-0.4487,  0.5102,  1.2358,  0.7256,  0.4487]),\n",
       " tensor([-0.4569,  0.5195,  1.2583,  0.7388,  0.4569]),\n",
       " tensor([-0.4650,  0.5287,  1.2807,  0.7520,  0.4651]),\n",
       " tensor([-0.4732,  0.5380,  1.3032,  0.7652,  0.4732]),\n",
       " tensor([-0.4814,  0.5473,  1.3257,  0.7784,  0.4814]),\n",
       " tensor([-0.4895,  0.5566,  1.3482,  0.7916,  0.4895]),\n",
       " tensor([-0.4977,  0.5659,  1.3706,  0.8047,  0.4977]),\n",
       " tensor([-0.5058,  0.5751,  1.3931,  0.8179,  0.5059]),\n",
       " tensor([-0.5140,  0.5844,  1.4156,  0.8311,  0.5140]),\n",
       " tensor([-0.5222,  0.5937,  1.4380,  0.8443,  0.5222]),\n",
       " tensor([-0.5303,  0.6030,  1.4605,  0.8575,  0.5303]),\n",
       " tensor([-0.5392,  0.6130,  1.4848,  0.8718,  0.5392]),\n",
       " tensor([-0.5480,  0.6231,  1.5092,  0.8861,  0.5480]),\n",
       " tensor([-0.5568,  0.6331,  1.5335,  0.9004,  0.5569]),\n",
       " tensor([-0.5657,  0.6432,  1.5579,  0.9147,  0.5657]),\n",
       " tensor([-0.5745,  0.6532,  1.5822,  0.9290,  0.5745]),\n",
       " tensor([-0.5833,  0.6633,  1.6065,  0.9433,  0.5834]),\n",
       " tensor([-0.5922,  0.6733,  1.6309,  0.9576,  0.5922]),\n",
       " tensor([-0.6010,  0.6833,  1.6552,  0.9719,  0.6010]),\n",
       " tensor([-0.6099,  0.6934,  1.6796,  0.9861,  0.6099]),\n",
       " tensor([-0.6187,  0.7034,  1.7039,  1.0004,  0.6187]),\n",
       " tensor([-0.6275,  0.7135,  1.7283,  1.0147,  0.6276]),\n",
       " tensor([-0.6364,  0.7235,  1.7526,  1.0290,  0.6364]),\n",
       " tensor([-0.6452,  0.7336,  1.7769,  1.0433,  0.6452]),\n",
       " tensor([-0.6541,  0.7436,  1.8013,  1.0576,  0.6541]),\n",
       " tensor([-0.6629,  0.7537,  1.8256,  1.0719,  0.6629]),\n",
       " tensor([-0.6717,  0.7637,  1.8500,  1.0862,  0.6718]),\n",
       " tensor([-0.6806,  0.7738,  1.8743,  1.1005,  0.6806]),\n",
       " tensor([-0.6894,  0.7838,  1.8986,  1.1148,  0.6894]),\n",
       " tensor([-0.6982,  0.7939,  1.9230,  1.1291,  0.6983]),\n",
       " tensor([-0.7071,  0.8039,  1.9473,  1.1434,  0.7071]),\n",
       " tensor([-0.7159,  0.8140,  1.9717,  1.1577,  0.7160]),\n",
       " tensor([-0.7248,  0.8240,  1.9960,  1.1719,  0.7248]),\n",
       " tensor([-0.7336,  0.8341,  2.0204,  1.1862,  0.7336]),\n",
       " tensor([-0.7424,  0.8441,  2.0447,  1.2005,  0.7425]),\n",
       " tensor([-0.7513,  0.8542,  2.0690,  1.2148,  0.7513]),\n",
       " tensor([-0.7601,  0.8642,  2.0934,  1.2291,  0.7601]),\n",
       " tensor([-0.7690,  0.8743,  2.1177,  1.2434,  0.7690]),\n",
       " tensor([-0.7778,  0.8843,  2.1421,  1.2577,  0.7778]),\n",
       " tensor([-0.7866,  0.8944,  2.1664,  1.2720,  0.7867]),\n",
       " tensor([-0.7955,  0.9044,  2.1907,  1.2863,  0.7955]),\n",
       " tensor([-0.8043,  0.9145,  2.2151,  1.3006,  0.8043]),\n",
       " tensor([-0.8132,  0.9245,  2.2394,  1.3149,  0.8132]),\n",
       " tensor([-0.8220,  0.9346,  2.2638,  1.3292,  0.8220]),\n",
       " tensor([-0.8308,  0.9446,  2.2881,  1.3434,  0.8309]),\n",
       " tensor([-0.8397,  0.9547,  2.3125,  1.3577,  0.8397]),\n",
       " tensor([-0.8485,  0.9647,  2.3368,  1.3720,  0.8485])]"
      ]
     },
     "execution_count": 11,
     "metadata": {},
     "output_type": "execute_result"
    }
   ],
   "source": [
    "path"
   ]
  },
  {
   "cell_type": "code",
   "execution_count": null,
   "id": "dbd7518d-04ee-4f98-ad35-7bd96ecb7109",
   "metadata": {},
   "outputs": [],
   "source": [
    "from time import sleep \n",
    "\n",
    "for pos in path:\n",
    "    robot.set_dofs_position(pos)\n",
    "    manny.visualizer.scene.step()\n",
    "    sleep(0.1)"
   ]
  },
  {
   "cell_type": "code",
   "execution_count": null,
   "id": "198860e4-74ce-4795-8353-ea5712eb68e8",
   "metadata": {},
   "outputs": [],
   "source": []
  }
 ],
 "metadata": {
  "kernelspec": {
   "display_name": "Python 3 (ipykernel)",
   "language": "python",
   "name": "python3"
  },
  "language_info": {
   "codemirror_mode": {
    "name": "ipython",
    "version": 3
   },
   "file_extension": ".py",
   "mimetype": "text/x-python",
   "name": "python",
   "nbconvert_exporter": "python",
   "pygments_lexer": "ipython3",
   "version": "3.11.10"
  }
 },
 "nbformat": 4,
 "nbformat_minor": 5
}
