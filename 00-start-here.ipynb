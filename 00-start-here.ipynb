{
    "cells": [
        {
            "cell_type": "code",
            "execution_count": 1,
            "metadata": {},
            "outputs": [],
            "source": [
                "from pathlib import Path\n",
                "import random \n",
                "\n",
                "from manipylator import HeadlessSimulatedRobot, SimulatedRobot\n",
                "from manipylator.utils import render_robot_from_template"
            ]
        },
        {
            "cell_type": "markdown",
            "metadata": {},
            "source": [
                "# ManiPyLator Basics\n",
                "ManiPyLator wraps around two main robotics libraries, robotics-toolbox-python & Genesis and tries to provide an interface to both simulated and analytical robotics. Below is an example of loading an arbitrary URDF and a forward kinematics sanity check with both libraries:"
            ]
        },
        {
            "cell_type": "code",
            "execution_count": 2,
            "metadata": {
                "scrolled": true
            },
            "outputs": [
                {
                    "name": "stderr",
                    "output_type": "stream",
                    "text": [
                        "[I 07/25/25 00:18:46.407 500] [shell.py:_shell_pop_print@23] Graphical python shell detected, using wrapped sys.stdout\n",
                        "Authorization required, but no authorization protocol specified\n",
                        "Authorization required, but no authorization protocol specified\n"
                    ]
                },
                {
                    "name": "stdout",
                    "output_type": "stream",
                    "text": [
                        "\u001b[38;5;159m[Genesis] [00:19:03] [INFO] \u001b[38;5;121m╭───────────────────────────────────────────────╮\u001b[0m\u001b[38;5;159m\u001b[0m\n",
                        "\u001b[38;5;159m[Genesis] [00:19:03] [INFO] \u001b[38;5;121m│┈┉┈┉┈┉┈┉┈┉┈┉┈┉┈┉┈┉┈\u001b[0m\u001b[38;5;159m \u001b[38;5;121m\u001b[1m\u001b[3mGenesis\u001b[0m\u001b[38;5;159m \u001b[38;5;121m┈┉┈┉┈┉┈┉┈┉┈┉┈┉┈┉┈┉┈│\u001b[0m\u001b[38;5;159m\u001b[0m\n",
                        "\u001b[38;5;159m[Genesis] [00:19:03] [INFO] \u001b[38;5;121m╰───────────────────────────────────────────────╯\u001b[0m\u001b[38;5;159m\u001b[0m\n",
                        "\u001b[38;5;159m[Genesis] [00:19:03] [INFO] Consider setting 'performance_mode=True' in production to maximise runtime speed, if significantly increasing compilation time is not a concern.\u001b[0m\n",
                        "\u001b[38;5;159m[Genesis] [00:19:04] [INFO] Running on \u001b[38;5;121m\u001b[4m[NVIDIA GeForce MX250]\u001b[0m\u001b[38;5;159m with backend \u001b[38;5;121m\u001b[4mgs.cuda\u001b[0m\u001b[38;5;159m. Device memory: \u001b[38;5;121m\u001b[4m1.95\u001b[0m\u001b[38;5;159m GB.\u001b[0m\n",
                        "\u001b[38;5;159m[Genesis] [00:19:04] [INFO] 🚀 Genesis initialized. 🔖 version: \u001b[38;5;121m\u001b[4m0.2.1\u001b[0m\u001b[38;5;159m, 🌱 seed: \u001b[38;5;121m\u001b[4mNone\u001b[0m\u001b[38;5;159m, 📏 precision: '\u001b[38;5;121m\u001b[4m32\u001b[0m\u001b[38;5;159m', 🐛 debug: \u001b[38;5;121m\u001b[4mFalse\u001b[0m\u001b[38;5;159m, 🎨 theme: '\u001b[38;5;121m\u001b[4mdark\u001b[0m\u001b[38;5;159m'.\u001b[0m\n",
                        "\u001b[38;5;226m[Genesis] [00:19:04] [WARNING] Scene.show_FPS is deprecated. Please use Scene.profiling_options.show_FPS\u001b[0m\n",
                        "\u001b[38;5;159m[Genesis] [00:19:04] [INFO] Scene \u001b[38;5;121m\u001b[3m<952a35f>\u001b[0m\u001b[38;5;159m created.\u001b[0m\n",
                        "\u001b[38;5;159m[Genesis] [00:19:04] [INFO] Adding \u001b[38;5;121m<gs.RigidEntity>\u001b[0m\u001b[38;5;159m. idx: \u001b[38;5;121m0\u001b[0m\u001b[38;5;159m, uid: \u001b[38;5;121m\u001b[3m<d390595>\u001b[0m\u001b[38;5;159m, morph: \u001b[38;5;121m<gs.morphs.Plane>\u001b[0m\u001b[38;5;159m, material: \u001b[38;5;121m<gs.materials.Rigid>\u001b[0m\u001b[38;5;159m.\u001b[0m\n"
                    ]
                },
                {
                    "name": "stderr",
                    "output_type": "stream",
                    "text": [
                        "Authorization required, but no authorization protocol specified\n"
                    ]
                },
                {
                    "name": "stdout",
                    "output_type": "stream",
                    "text": [
                        "\u001b[38;5;159m[Genesis] [00:19:04] [INFO] Adding \u001b[38;5;121m<gs.RigidEntity>\u001b[0m\u001b[38;5;159m. idx: \u001b[38;5;121m1\u001b[0m\u001b[38;5;159m, uid: \u001b[38;5;121m\u001b[3m<a870560>\u001b[0m\u001b[38;5;159m, morph: \u001b[38;5;121m<gs.morphs.URDF(file='/tmp/tmpnhx8dyw0.urdf')>\u001b[0m\u001b[38;5;159m, material: \u001b[38;5;121m<gs.materials.Rigid>\u001b[0m\u001b[38;5;159m.\u001b[0m\n"
                    ]
                },
                {
                    "name": "stderr",
                    "output_type": "stream",
                    "text": [
                        "WARNING: Geom with duplicate name '' encountered in URDF, creating an unnamed geom.\n",
                        "WARNING: Geom with duplicate name '' encountered in URDF, creating an unnamed geom.\n",
                        "WARNING: Geom with duplicate name '' encountered in URDF, creating an unnamed geom.\n",
                        "WARNING: Geom with duplicate name '' encountered in URDF, creating an unnamed geom.\n",
                        "WARNING: Geom with duplicate name '' encountered in URDF, creating an unnamed geom.\n",
                        "WARNING: Geom with duplicate name '' encountered in URDF, creating an unnamed geom.\n",
                        "WARNING: Geom with duplicate name '' encountered in URDF, creating an unnamed geom.\n",
                        "WARNING: Geom with duplicate name '' encountered in URDF, creating an unnamed geom.\n",
                        "WARNING: Geom with duplicate name '' encountered in URDF, creating an unnamed geom.\n"
                    ]
                },
                {
                    "name": "stdout",
                    "output_type": "stream",
                    "text": [
                        "\u001b[38;5;159m[Genesis] [00:19:10] [INFO] Falling back to legacy URDF parser. Default values of physics properties may be off.\u001b[0m\n",
                        "\u001b[38;5;159m[Genesis] [00:19:10] [INFO] Applying offset to base link's pose with user provided value in morph.\u001b[0m\n",
                        "\u001b[38;5;159m[Genesis] [00:19:21] [INFO] Building scene \u001b[38;5;121m\u001b[3m<952a35f>\u001b[0m\u001b[38;5;159m...\u001b[0m\n",
                        "\u001b[38;5;159m[Genesis] [00:19:50] [INFO] Compiling simulation kernels...\u001b[0m\n",
                        "\u001b[38;5;159m[Genesis] [00:20:16] [INFO] Building visualizer...\u001b[0m\n",
                        "\u001b[38;5;159m[Genesis] [00:20:17] [INFO] Software rendering context detected. Shadows and plane reflection not supported. Beware rendering will be extremely slow.\u001b[0m\n",
                        "ERobot: measured, 6 joints (RRRRRR), dynamics, geometry, collision\n",
                        "┌──────┬──────────────────┬───────┬──────────────────┬─────────────────────────────────────────────────────────────────────────────┐\n",
                        "│ link │       link       │ joint │      parent      │                             ETS: parent to link                             │\n",
                        "├──────┼──────────────────┼───────┼──────────────────┼─────────────────────────────────────────────────────────────────────────────┤\n",
                        "│    0 │ \u001b[38;5;4mbase\u001b[0m             │       │ BASE             │ SE3()                                                                       │\n",
                        "│    1 │ carriage_1       │     0 │ base             │ SE3(-7.47e-06, -2.937e-06, 0.037; -180°, -7.914e-41°, -6.361e-15°) ⊕ Rz(q0) │\n",
                        "│    2 │ shoulder_lift    │     1 │ carriage_1       │ SE3(-0.065, -2.469e-06, -0.055; 180°, 90°, 180°) ⊕ Rz(q1)                   │\n",
                        "│    3 │ elbow            │     2 │ shoulder_lift    │ SE3(0.355, -2.338e-06, -4.032e-06; -180°, -3.45e-15°, 3.069e-12°) ⊕ Rz(q2)  │\n",
                        "│    4 │ wrist_carriage_2 │     3 │ elbow            │ SE3(0.2755, -4.64e-11, -0.025; -180°, 1.041e-13°, -3.435e-12°) ⊕ Rz(q3)     │\n",
                        "│    5 │ wrist_carriage_3 │     4 │ wrist_carriage_2 │ SE3(0.04001, 1.314e-07, -0.0485; -180°, -90°, 180°) ⊕ Rz(q4)                │\n",
                        "│    6 │ @end_effector    │     5 │ wrist_carriage_3 │ SE3(-0.04, -2.317e-06, -0.0485; -90°, 9.732e-13°, -90°) ⊕ Rz(q5)            │\n",
                        "└──────┴──────────────────┴───────┴──────────────────┴─────────────────────────────────────────────────────────────────────────────┘\n",
                        "\n"
                    ]
                }
            ],
            "source": [
                "with render_robot_from_template(\"robots/empiric\") as robot_urdf:\n",
                "    manny = HeadlessSimulatedRobot(robot_urdf)\n",
                "print(manny.model)"
            ]
        },
        {
            "cell_type": "markdown",
            "metadata": {},
            "source": [
                "For an arbitrary poes, we'll calculate the forward kinematics using both RTB and Genesis and compare:"
            ]
        },
        {
            "cell_type": "code",
            "execution_count": 3,
            "metadata": {},
            "outputs": [
                {
                    "name": "stdout",
                    "output_type": "stream",
                    "text": [
                        "[-0.4720275388975417, -0.18300879977360895, 0.6536733910306669, 0.3516591658552317, -0.7404998970643253, 0.7387880912391709]\n"
                    ]
                }
            ],
            "source": [
                "arbitrary_pose = [random.uniform(-1, 1) for _ in range(6)]\n",
                "print(arbitrary_pose)"
            ]
        },
        {
            "cell_type": "code",
            "execution_count": 4,
            "metadata": {},
            "outputs": [
                {
                    "data": {
                        "text/plain": [
                            "  \u001b[38;5;1m-0.8065  \u001b[0m \u001b[38;5;1m 0.4478  \u001b[0m \u001b[38;5;1m 0.386   \u001b[0m \u001b[38;5;4m-0.2354  \u001b[0m  \u001b[0m\n",
                            "  \u001b[38;5;1m 0.4828  \u001b[0m \u001b[38;5;1m 0.1219  \u001b[0m \u001b[38;5;1m 0.8672  \u001b[0m \u001b[38;5;4m 0.2015  \u001b[0m  \u001b[0m\n",
                            "  \u001b[38;5;1m 0.3413  \u001b[0m \u001b[38;5;1m 0.8858  \u001b[0m \u001b[38;5;1m-0.3145  \u001b[0m \u001b[38;5;4m 0.7165  \u001b[0m  \u001b[0m\n",
                            "  \u001b[38;5;244m 0       \u001b[0m \u001b[38;5;244m 0       \u001b[0m \u001b[38;5;244m 0       \u001b[0m \u001b[38;5;244m 1       \u001b[0m  \u001b[0m\n"
                        ]
                    },
                    "execution_count": 4,
                    "metadata": {},
                    "output_type": "execute_result"
                }
            ],
            "source": [
                "forward_kinematics_rtb = manny.model.fkine(arbitrary_pose)\n",
                "forward_kinematics_rtb"
            ]
        },
        {
            "cell_type": "code",
            "execution_count": 5,
            "metadata": {},
            "outputs": [
                {
                    "data": {
                        "text/plain": [
                            "array([-0.23542257,  0.20153512,  0.71652318])"
                        ]
                    },
                    "execution_count": 5,
                    "metadata": {},
                    "output_type": "execute_result"
                }
            ],
            "source": [
                "translation_rtb = forward_kinematics_rtb.t\n",
                "translation_rtb"
            ]
        },
        {
            "cell_type": "code",
            "execution_count": 6,
            "metadata": {},
            "outputs": [
                {
                    "data": {
                        "text/plain": [
                            "tensor([-0.2354,  0.2015,  0.7165])"
                        ]
                    },
                    "execution_count": 6,
                    "metadata": {},
                    "output_type": "execute_result"
                }
            ],
            "source": [
                "simulated_robot = manny.visualizer.robot\n",
                "ee = simulated_robot.get_link('end_effector')\n",
                "scene = manny.visualizer.scene\n",
                "\n",
                "simulated_robot.set_dofs_position(arbitrary_pose)\n",
                "scene.step()\n",
                "\n",
                "translation_gs = ee.get_pos().cpu()\n",
                "translation_gs"
            ]
        },
        {
            "cell_type": "code",
            "execution_count": 7,
            "metadata": {},
            "outputs": [
                {
                    "data": {
                        "text/plain": [
                            "True"
                        ]
                    },
                    "execution_count": 7,
                    "metadata": {},
                    "output_type": "execute_result"
                }
            ],
            "source": [
                "from numpy import allclose\n",
                "allclose(translation_rtb, translation_gs, atol=1e-5)"
            ]
        },
        {
            "cell_type": "markdown",
            "metadata": {},
            "source": [
                "Both approaches should return True above, which means they calculate comparable solutios down to the 10 micron range"
            ]
        },
        {
            "cell_type": "markdown",
            "metadata": {},
            "source": [
                "# Where To Now?\n",
                "The above demonstrates the two available interfaces in ManiPylator. Based on your interests you might continue to explore our [visual robotics demonstration](https://nbviewer.org/github/leogolds/ManiPylator/blob/main/20-simulation.ipynb) or maybe try to derive a [symbolic result](https://nbviewer.org/github/leogolds/ManiPylator/blob/main/11-differntial-kinematics.ipynb). For whatever path you're interested in, check out our Robotics resources page.\n",
                "\n",
                "For the curious, we recommend you jump straight into [controling Manny](https://nbviewer.org/github/leogolds/ManiPylator/blob/main/30-controlling-manny.ipynb) where you can try out a simulated version of Manny the ManiPylator. \n",
                "\n",
                "For experienced robotocists, check out our [FAQ](docs/FAQ.MD) & [Architecture](docs/ARCHITECTURE.md). For inspiration, see [parallel simulation](https://genesis-world.readthedocs.io/en/latest/user_guide/getting_started/parallel_simulation.html), [drone hovering](https://genesis-world.readthedocs.io/en/latest/user_guide/getting_started/hover_env.html) & [soft robotics](https://genesis-world.readthedocs.io/en/latest/user_guide/getting_started/soft_robots.html) examples from the [Genesis docs](https://genesis-world.readthedocs.io/en/latest/user_guide/getting_started/hello_genesis.html).\n",
                "\n",
                "For teachers/students, see our notebooks starting with our symbolic manipulation notebooks, starting with 1X. These introduce [SymPy](https://docs.sympy.org/) and demonstrate some basic examples, demonstarte how to manipulate [SE2 & SE3](https://bdaiinstitute.github.io/spatialmath-python/intro.html#spatial-math-classes) objects and deriving some basic robotics results."
            ]
        },
        {
            "cell_type": "markdown",
            "metadata": {},
            "source": []
        }
    ],
    "metadata": {
        "kernelspec": {
            "display_name": "Python 3 (ipykernel)",
            "language": "python",
            "name": "python3"
        },
        "language_info": {
            "codemirror_mode": {
                "name": "ipython",
                "version": 3
            },
            "file_extension": ".py",
            "mimetype": "text/x-python",
            "name": "python",
            "nbconvert_exporter": "python",
            "pygments_lexer": "ipython3",
            "version": "3.11.10"
        }
    },
    "nbformat": 4,
    "nbformat_minor": 4
}