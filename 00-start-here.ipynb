{
 "cells": [
  {
   "cell_type": "markdown",
   "metadata": {},
   "source": [
    "TODO\n",
    "\n",
    "generic feature showcase showing genesis features\n",
    "demonstrate robot viewer\n",
    "video recording\n",
    "point to next notebook for intro\n",
    "point to other notebook for advanced uses"
   ]
  }
 ],
 "metadata": {
  "language_info": {
   "name": "python"
  }
 },
 "nbformat": 4,
 "nbformat_minor": 2
}
