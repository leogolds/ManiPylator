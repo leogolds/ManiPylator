{
 "cells": [
  {
   "cell_type": "code",
   "execution_count": 1,
   "id": "d1d0ff73-494f-4297-8ce6-6aa7d377dec0",
   "metadata": {},
   "outputs": [
    {
     "name": "stderr",
     "output_type": "stream",
     "text": [
      "[I 03/01/25 03:37:36.399 1301] [shell.py:_shell_pop_print@23] Graphical python shell detected, using wrapped sys.stdout\n",
      "\u001b[38;5;159m[Genesis] [03:37:39] [INFO] \u001b[38;5;121m╭───────────────────────────────────────────────╮\u001b[0m\u001b[38;5;159m\u001b[0m\n",
      "\u001b[38;5;159m[Genesis] [03:37:39] [INFO] \u001b[38;5;121m│┈┉┈┉┈┉┈┉┈┉┈┉┈┉┈┉┈┉┈\u001b[0m\u001b[38;5;159m \u001b[38;5;121m\u001b[1m\u001b[3mGenesis\u001b[0m\u001b[38;5;159m \u001b[38;5;121m┈┉┈┉┈┉┈┉┈┉┈┉┈┉┈┉┈┉┈│\u001b[0m\u001b[38;5;159m\u001b[0m\n",
      "\u001b[38;5;159m[Genesis] [03:37:39] [INFO] \u001b[38;5;121m╰───────────────────────────────────────────────╯\u001b[0m\u001b[38;5;159m\u001b[0m\n",
      "\u001b[38;5;159m[Genesis] [03:37:39] [INFO] Running on \u001b[38;5;121m\u001b[4m[NVIDIA GeForce MX250]\u001b[0m\u001b[38;5;159m with backend \u001b[38;5;121m\u001b[4mgs.cuda\u001b[0m\u001b[38;5;159m. Device memory: \u001b[38;5;121m\u001b[4m1.95\u001b[0m\u001b[38;5;159m GB.\u001b[0m\n",
      "\u001b[38;5;159m[Genesis] [03:37:40] [INFO] 🚀 Genesis initialized. 🔖 version: \u001b[38;5;121m\u001b[4m0.2.1\u001b[0m\u001b[38;5;159m, 🌱 seed: \u001b[38;5;121m\u001b[4mNone\u001b[0m\u001b[38;5;159m, 📏 precision: '\u001b[38;5;121m\u001b[4m32\u001b[0m\u001b[38;5;159m', 🐛 debug: \u001b[38;5;121m\u001b[4mFalse\u001b[0m\u001b[38;5;159m, 🎨 theme: '\u001b[38;5;121m\u001b[4mdark\u001b[0m\u001b[38;5;159m'.\u001b[0m\n"
     ]
    }
   ],
   "source": [
    "from pathlib import Path\n",
    "\n",
    "from manipylator import Robot\n",
    "import genesis as gs\n",
    "import numpy as np"
   ]
  },
  {
   "cell_type": "code",
   "execution_count": 2,
   "id": "0c427d83-9b70-4e4b-97b5-0b7e0f94d767",
   "metadata": {},
   "outputs": [],
   "source": [
    "path = Path('/workspace/robots/robot.urdf')\n",
    "manny = Robot(path)"
   ]
  },
  {
   "cell_type": "code",
   "execution_count": 3,
   "id": "df5c912c-e24c-4090-905f-82e428ca3b86",
   "metadata": {},
   "outputs": [
    {
     "data": {
      "text/plain": [
       "ERobot: onshape, 6 joints (RRRRRR), dynamics, geometry, collision\n",
       "┌──────┬──────────────────┬───────┬──────────────────┬─────────────────────────────────────────────────────────────────────────────┐\n",
       "│ link │       link       │ joint │      parent      │                             ETS: parent to link                             │\n",
       "├──────┼──────────────────┼───────┼──────────────────┼─────────────────────────────────────────────────────────────────────────────┤\n",
       "│    0 │ \u001b[38;5;4mbase\u001b[0m             │       │ BASE             │ SE3()                                                                       │\n",
       "│    1 │ carriage_1       │     0 │ base             │ SE3(-7.47e-06, -2.937e-06, 0.037; -180°, -7.914e-41°, -6.361e-15°) ⊕ Rz(q0) │\n",
       "│    2 │ shoulder_lift    │     1 │ carriage_1       │ SE3(-0.065, -2.469e-06, -0.055; 0°, 90°, 2.02e-28°) ⊕ Rz(q1)                │\n",
       "│    3 │ elbow            │     2 │ shoulder_lift    │ SE3(0.35, -2.338e-06, -4.032e-06; -180°, -4.499e-28°, -2.417e-13°) ⊕ Rz(q2) │\n",
       "│    4 │ wrist_carriage_2 │     3 │ elbow            │ SE3(0.3205, -4.64e-11, -0.025; 180°, -5.476e-14°, -4.02e-12°) ⊕ Rz(q3)      │\n",
       "│    5 │ wrist_carriage_3 │     4 │ wrist_carriage_2 │ SE3(0.04001, 1.314e-07, -0.0485; 0°, -90°, 1.232e-27°) ⊕ Rz(q4)             │\n",
       "│    6 │ @end_effector    │     5 │ wrist_carriage_3 │ SE3(-0.04, -2.317e-06, -0.0485; -90°, -3.721e-13°, -90°) ⊕ Rz(q5)           │\n",
       "└──────┴──────────────────┴───────┴──────────────────┴─────────────────────────────────────────────────────────────────────────────┘"
      ]
     },
     "execution_count": 3,
     "metadata": {},
     "output_type": "execute_result"
    }
   ],
   "source": [
    "manny.model"
   ]
  },
  {
   "cell_type": "code",
   "execution_count": 4,
   "id": "35b6bbaf-34ad-4119-8049-6367515ea782",
   "metadata": {},
   "outputs": [
    {
     "data": {
      "text/plain": [
       "  \u001b[38;5;1m 0       \u001b[0m \u001b[38;5;1m 0       \u001b[0m \u001b[38;5;1m 1       \u001b[0m \u001b[38;5;4m-0.1285  \u001b[0m  \u001b[0m\n",
       "  \u001b[38;5;1m 1       \u001b[0m \u001b[38;5;1m-5.957e-14\u001b[0m \u001b[38;5;1m 0       \u001b[0m \u001b[38;5;4m 4.055e-06\u001b[0m  \u001b[0m\n",
       "  \u001b[38;5;1m 5.957e-14\u001b[0m \u001b[38;5;1m 1       \u001b[0m \u001b[38;5;1m 0       \u001b[0m \u001b[38;5;4m 0.851   \u001b[0m  \u001b[0m\n",
       "  \u001b[38;5;244m 0       \u001b[0m \u001b[38;5;244m 0       \u001b[0m \u001b[38;5;244m 0       \u001b[0m \u001b[38;5;244m 1       \u001b[0m  \u001b[0m\n"
      ]
     },
     "execution_count": 4,
     "metadata": {},
     "output_type": "execute_result"
    }
   ],
   "source": [
    "manny.model.fkine([0]*6)"
   ]
  },
  {
   "cell_type": "code",
   "execution_count": 5,
   "id": "ea0f482a-0719-4228-a5bd-06f072b33002",
   "metadata": {},
   "outputs": [
    {
     "name": "stderr",
     "output_type": "stream",
     "text": [
      "\u001b[38;5;159m[Genesis] [03:37:40] [INFO] Scene \u001b[38;5;121m\u001b[3m<5710cd2>\u001b[0m\u001b[38;5;159m created.\u001b[0m\n",
      "\u001b[38;5;159m[Genesis] [03:37:40] [INFO] Adding \u001b[38;5;121m<gs.RigidEntity>\u001b[0m\u001b[38;5;159m. idx: \u001b[38;5;121m0\u001b[0m\u001b[38;5;159m, uid: \u001b[38;5;121m\u001b[3m<668696e>\u001b[0m\u001b[38;5;159m, morph: \u001b[38;5;121m<gs.morphs.Plane>\u001b[0m\u001b[38;5;159m, material: \u001b[38;5;121m<gs.materials.Rigid>\u001b[0m\u001b[38;5;159m.\u001b[0m\n",
      "\u001b[38;5;159m[Genesis] [03:37:40] [INFO] Adding \u001b[38;5;121m<gs.RigidEntity>\u001b[0m\u001b[38;5;159m. idx: \u001b[38;5;121m1\u001b[0m\u001b[38;5;159m, uid: \u001b[38;5;121m\u001b[3m<a9764ac>\u001b[0m\u001b[38;5;159m, morph: \u001b[38;5;121m<gs.morphs.URDF(file='/workspace/robots/robot.urdf')>\u001b[0m\u001b[38;5;159m, material: \u001b[38;5;121m<gs.materials.Rigid>\u001b[0m\u001b[38;5;159m.\u001b[0m\n"
     ]
    }
   ],
   "source": [
    "# scene = gs.Scene(\n",
    "#     viewer_options=gs.options.ViewerOptions(\n",
    "#         camera_pos=(3, -1, 1.5),\n",
    "#         camera_lookat=(0.0, 0.0, 0.5),\n",
    "#         camera_fov=30,\n",
    "#         max_FPS=60,\n",
    "#     ),\n",
    "#     sim_options=gs.options.SimOptions(\n",
    "#         dt=0.01,\n",
    "#         substeps=4,  # for more stable grasping contact\n",
    "#     ),\n",
    "#     show_viewer=True,\n",
    "# )\n",
    "FPS = 60\n",
    "dt = 1 / FPS\n",
    "scene = gs.Scene(\n",
    "    viewer_options=gs.options.ViewerOptions(\n",
    "        camera_pos=(1.5, 1.0, 1.5),\n",
    "        camera_lookat=(0, 0, 0.5),\n",
    "        camera_fov=40,\n",
    "        max_FPS=FPS,\n",
    "    ),\n",
    "    sim_options=gs.options.SimOptions(\n",
    "        gravity=(0, 0, 0),\n",
    "    ),\n",
    "    renderer = gs.renderers.Rasterizer(), # using rasterizer for camera rendering\n",
    "    show_viewer=True,\n",
    "    show_FPS=False,\n",
    ")\n",
    "\n",
    "plane = scene.add_entity(\n",
    "    gs.morphs.Plane(),\n",
    ")\n",
    "robot = scene.add_entity(\n",
    "    manny.visualizer.morph,\n",
    ")\n",
    "\n",
    "# cam = scene.add_camera(\n",
    "#     res    = (640, 480),\n",
    "#     pos    = (3.5, 0.0, 2.5),\n",
    "#     lookat = (0, 0, 0.5),\n",
    "#     fov    = 30,\n",
    "#     GUI    = True,\n",
    "# )"
   ]
  },
  {
   "cell_type": "code",
   "execution_count": 6,
   "id": "86298ccf-b165-4983-9029-2b202fa90bc3",
   "metadata": {},
   "outputs": [
    {
     "name": "stderr",
     "output_type": "stream",
     "text": [
      "\u001b[38;5;159m[Genesis] [03:37:42] [INFO] Building scene \u001b[38;5;121m\u001b[3m<5710cd2>\u001b[0m\u001b[38;5;159m...\u001b[0m\n",
      "\u001b[38;5;159m[Genesis] [03:37:59] [INFO] Building visualizer...\u001b[0m\n",
      "\u001b[38;5;159m[Genesis] [03:38:00] [INFO] Viewer created. Resolution: \u001b[38;5;121m720×540\u001b[0m\u001b[38;5;159m, max_FPS: \u001b[38;5;121m60\u001b[0m\u001b[38;5;159m.\u001b[0m\n"
     ]
    }
   ],
   "source": [
    "# import os\n",
    "# os.environ[\"DISPLAY\"] = \":0\"\n",
    "# os.environ[\"EGL_DEVICE_ID\"] = \"1\"\n",
    "scene.build(compile_kernels=False)"
   ]
  },
  {
   "cell_type": "code",
   "execution_count": 7,
   "id": "9333203f-0bcc-4955-bd8a-3b7545725d0f",
   "metadata": {},
   "outputs": [],
   "source": [
    "# cam.render()"
   ]
  },
  {
   "cell_type": "code",
   "execution_count": 13,
   "id": "7f4ed89b-5768-45a1-af91-4ab6d9611527",
   "metadata": {},
   "outputs": [],
   "source": [
    "# scene.viewer.start()\n",
    "scene.viewer.stop()"
   ]
  },
  {
   "cell_type": "code",
   "execution_count": 9,
   "id": "96e5a78b-f75d-41ac-bde7-34050972dbd3",
   "metadata": {},
   "outputs": [],
   "source": [
    "# scene.step()"
   ]
  },
  {
   "cell_type": "code",
   "execution_count": 11,
   "id": "89d534ac-bec8-4321-b174-338538f41db4",
   "metadata": {},
   "outputs": [],
   "source": [
    "for i in range(240):\n",
    "    scene.step()\n",
    "    scene.viewer.set_camera_pose(\n",
    "        pos    = (3.0 * np.sin(i / 60), 3.0 * np.cos(i / 60), 1.5),\n",
    "        lookat = (0, 0, 0.5),\n",
    "    )"
   ]
  },
  {
   "cell_type": "code",
   "execution_count": null,
   "id": "0537ea3e-61a3-40e7-b99e-98196cbfbe52",
   "metadata": {},
   "outputs": [],
   "source": []
  }
 ],
 "metadata": {
  "kernelspec": {
   "display_name": "Python 3 (ipykernel)",
   "language": "python",
   "name": "python3"
  },
  "language_info": {
   "codemirror_mode": {
    "name": "ipython",
    "version": 3
   },
   "file_extension": ".py",
   "mimetype": "text/x-python",
   "name": "python",
   "nbconvert_exporter": "python",
   "pygments_lexer": "ipython3",
   "version": "3.11.10"
  }
 },
 "nbformat": 4,
 "nbformat_minor": 5
}
