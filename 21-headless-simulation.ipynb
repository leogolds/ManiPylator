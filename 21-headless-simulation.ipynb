{
 "cells": [
  {
   "cell_type": "markdown",
   "metadata": {},
   "source": [
    "TODO\n",
    "\n",
    "generic feature showcase showing genesis features\n",
    "demonstrate robot viewer\n",
    "video recording\n",
    "point to next notebook for intro\n",
    "point to other notebook for advanced uses"
   ]
  },
  {
   "cell_type": "code",
   "execution_count": 6,
   "metadata": {},
   "outputs": [
    {
     "ename": "ImportError",
     "evalue": "cannot import name 'HeadlessSimulatedRobot' from 'manipylator' (/workspace/manipylator/__init__.py)",
     "output_type": "error",
     "traceback": [
      "\u001b[0;31m---------------------------------------------------------------------------\u001b[0m",
      "\u001b[0;31mImportError\u001b[0m                               Traceback (most recent call last)",
      "Cell \u001b[0;32mIn[6], line 4\u001b[0m\n\u001b[1;32m      1\u001b[0m \u001b[38;5;28;01mfrom\u001b[39;00m \u001b[38;5;21;01mpathlib\u001b[39;00m \u001b[38;5;28;01mimport\u001b[39;00m Path\n\u001b[1;32m      2\u001b[0m \u001b[38;5;28;01mimport\u001b[39;00m \u001b[38;5;21;01mrandom\u001b[39;00m \n\u001b[0;32m----> 4\u001b[0m \u001b[38;5;28;01mfrom\u001b[39;00m \u001b[38;5;21;01mmanipylator\u001b[39;00m \u001b[38;5;28;01mimport\u001b[39;00m HeadlessSimulatedRobot, SimulatedRobot\n\u001b[1;32m      5\u001b[0m \u001b[38;5;28;01mfrom\u001b[39;00m \u001b[38;5;21;01mmanipylator\u001b[39;00m\u001b[38;5;21;01m.\u001b[39;00m\u001b[38;5;21;01mutils\u001b[39;00m \u001b[38;5;28;01mimport\u001b[39;00m render_robot_from_template\n",
      "\u001b[0;31mImportError\u001b[0m: cannot import name 'HeadlessSimulatedRobot' from 'manipylator' (/workspace/manipylator/__init__.py)"
     ]
    }
   ],
   "source": [
    "from pathlib import Path\n",
    "import random \n",
    "\n",
    "from manipylator import HeadlessSimulatedRobot, SimulatedRobot\n",
    "from manipylator.utils import render_robot_from_template"
   ]
  },
  {
   "cell_type": "markdown",
   "metadata": {},
   "source": [
    "# ManiPyLator Basics\n",
    "ManiPyLator wraps around two main robotics libraries, robotics-toolbox-python & Genesis and tries to provide an interface to both simulated and analytical robotics. Below is an example of loading an arbitrary URDF and a forward kinematics sanity check with both libraries:"
   ]
  },
  {
   "cell_type": "code",
   "execution_count": null,
   "metadata": {
    "scrolled": true
   },
   "outputs": [
    {
     "name": "stderr",
     "output_type": "stream",
     "text": [
      "[I 07/25/25 02:32:42.155 2017] [shell.py:_shell_pop_print@23] Graphical python shell detected, using wrapped sys.stdout\n"
     ]
    },
    {
     "name": "stdout",
     "output_type": "stream",
     "text": [
      "\u001b[38;5;159m[Genesis] [02:32:53] [INFO] \u001b[38;5;121m╭───────────────────────────────────────────────╮\u001b[0m\u001b[38;5;159m\u001b[0m\n",
      "\u001b[38;5;159m[Genesis] [02:32:53] [INFO] \u001b[38;5;121m│┈┉┈┉┈┉┈┉┈┉┈┉┈┉┈┉┈┉┈\u001b[0m\u001b[38;5;159m \u001b[38;5;121m\u001b[1m\u001b[3mGenesis\u001b[0m\u001b[38;5;159m \u001b[38;5;121m┈┉┈┉┈┉┈┉┈┉┈┉┈┉┈┉┈┉┈│\u001b[0m\u001b[38;5;159m\u001b[0m\n",
      "\u001b[38;5;159m[Genesis] [02:32:53] [INFO] \u001b[38;5;121m╰───────────────────────────────────────────────╯\u001b[0m\u001b[38;5;159m\u001b[0m\n",
      "\u001b[38;5;159m[Genesis] [02:32:53] [INFO] Consider setting 'performance_mode=True' in production to maximise runtime speed, if significantly increasing compilation time is not a concern.\u001b[0m\n",
      "\u001b[38;5;159m[Genesis] [02:32:54] [INFO] Running on \u001b[38;5;121m\u001b[4m[NVIDIA GeForce MX250]\u001b[0m\u001b[38;5;159m with backend \u001b[38;5;121m\u001b[4mgs.cuda\u001b[0m\u001b[38;5;159m. Device memory: \u001b[38;5;121m\u001b[4m1.95\u001b[0m\u001b[38;5;159m GB.\u001b[0m\n",
      "\u001b[38;5;159m[Genesis] [02:32:54] [INFO] 🚀 Genesis initialized. 🔖 version: \u001b[38;5;121m\u001b[4m0.2.1\u001b[0m\u001b[38;5;159m, 🌱 seed: \u001b[38;5;121m\u001b[4mNone\u001b[0m\u001b[38;5;159m, 📏 precision: '\u001b[38;5;121m\u001b[4m32\u001b[0m\u001b[38;5;159m', 🐛 debug: \u001b[38;5;121m\u001b[4mFalse\u001b[0m\u001b[38;5;159m, 🎨 theme: '\u001b[38;5;121m\u001b[4mdark\u001b[0m\u001b[38;5;159m'.\u001b[0m\n",
      "\u001b[38;5;226m[Genesis] [02:32:54] [WARNING] Scene.show_FPS is deprecated. Please use Scene.profiling_options.show_FPS\u001b[0m\n",
      "\u001b[38;5;159m[Genesis] [02:32:54] [INFO] Scene \u001b[38;5;121m\u001b[3m<7e603a0>\u001b[0m\u001b[38;5;159m created.\u001b[0m\n",
      "\u001b[38;5;159m[Genesis] [02:32:54] [INFO] Adding \u001b[38;5;121m<gs.RigidEntity>\u001b[0m\u001b[38;5;159m. idx: \u001b[38;5;121m0\u001b[0m\u001b[38;5;159m, uid: \u001b[38;5;121m\u001b[3m<d4dcda3>\u001b[0m\u001b[38;5;159m, morph: \u001b[38;5;121m<gs.morphs.Plane>\u001b[0m\u001b[38;5;159m, material: \u001b[38;5;121m<gs.materials.Rigid>\u001b[0m\u001b[38;5;159m.\u001b[0m\n",
      "\u001b[38;5;159m[Genesis] [02:32:54] [INFO] Adding \u001b[38;5;121m<gs.RigidEntity>\u001b[0m\u001b[38;5;159m. idx: \u001b[38;5;121m1\u001b[0m\u001b[38;5;159m, uid: \u001b[38;5;121m\u001b[3m<7d34d40>\u001b[0m\u001b[38;5;159m, morph: \u001b[38;5;121m<gs.morphs.URDF(file='/tmp/tmpbqmo8j_a.urdf')>\u001b[0m\u001b[38;5;159m, material: \u001b[38;5;121m<gs.materials.Rigid>\u001b[0m\u001b[38;5;159m.\u001b[0m\n"
     ]
    },
    {
     "name": "stderr",
     "output_type": "stream",
     "text": [
      "WARNING: Geom with duplicate name '' encountered in URDF, creating an unnamed geom.\n",
      "WARNING: Geom with duplicate name '' encountered in URDF, creating an unnamed geom.\n",
      "WARNING: Geom with duplicate name '' encountered in URDF, creating an unnamed geom.\n",
      "WARNING: Geom with duplicate name '' encountered in URDF, creating an unnamed geom.\n",
      "WARNING: Geom with duplicate name '' encountered in URDF, creating an unnamed geom.\n",
      "WARNING: Geom with duplicate name '' encountered in URDF, creating an unnamed geom.\n",
      "WARNING: Geom with duplicate name '' encountered in URDF, creating an unnamed geom.\n",
      "WARNING: Geom with duplicate name '' encountered in URDF, creating an unnamed geom.\n",
      "WARNING: Geom with duplicate name '' encountered in URDF, creating an unnamed geom.\n"
     ]
    },
    {
     "name": "stdout",
     "output_type": "stream",
     "text": [
      "\u001b[38;5;159m[Genesis] [02:32:58] [INFO] Falling back to legacy URDF parser. Default values of physics properties may be off.\u001b[0m\n",
      "\u001b[38;5;159m[Genesis] [02:32:58] [INFO] Applying offset to base link's pose with user provided value in morph.\u001b[0m\n",
      "\u001b[38;5;159m[Genesis] [02:33:08] [INFO] Building scene \u001b[38;5;121m\u001b[3m<7e603a0>\u001b[0m\u001b[38;5;159m...\u001b[0m\n",
      "\u001b[38;5;159m[Genesis] [02:33:34] [INFO] Compiling simulation kernels...\u001b[0m\n",
      "\u001b[38;5;159m[Genesis] [02:33:56] [INFO] Building visualizer...\u001b[0m\n",
      "\u001b[38;5;159m[Genesis] [02:33:57] [INFO] Software rendering context detected. Shadows and plane reflection not supported. Beware rendering will be extremely slow.\u001b[0m\n",
      "ERobot: measured, 6 joints (RRRRRR), dynamics, geometry, collision\n",
      "┌──────┬──────────────────┬───────┬──────────────────┬─────────────────────────────────────────────────────────────────────────────┐\n",
      "│ link │       link       │ joint │      parent      │                             ETS: parent to link                             │\n",
      "├──────┼──────────────────┼───────┼──────────────────┼─────────────────────────────────────────────────────────────────────────────┤\n",
      "│    0 │ \u001b[38;5;4mbase\u001b[0m             │       │ BASE             │ SE3()                                                                       │\n",
      "│    1 │ carriage_1       │     0 │ base             │ SE3(-7.47e-06, -2.937e-06, 0.037; -180°, -7.914e-41°, -6.361e-15°) ⊕ Rz(q0) │\n",
      "│    2 │ shoulder_lift    │     1 │ carriage_1       │ SE3(-0.065, -2.469e-06, -0.055; 180°, 90°, 180°) ⊕ Rz(q1)                   │\n",
      "│    3 │ elbow            │     2 │ shoulder_lift    │ SE3(0.355, -2.338e-06, -4.032e-06; -180°, -3.45e-15°, 3.069e-12°) ⊕ Rz(q2)  │\n",
      "│    4 │ wrist_carriage_2 │     3 │ elbow            │ SE3(0.2755, -4.64e-11, -0.025; -180°, 1.041e-13°, -3.435e-12°) ⊕ Rz(q3)     │\n",
      "│    5 │ wrist_carriage_3 │     4 │ wrist_carriage_2 │ SE3(0.04001, 1.314e-07, -0.0485; -180°, -90°, 180°) ⊕ Rz(q4)                │\n",
      "│    6 │ @end_effector    │     5 │ wrist_carriage_3 │ SE3(-0.04, -2.317e-06, -0.0485; -90°, 9.732e-13°, -90°) ⊕ Rz(q5)            │\n",
      "└──────┴──────────────────┴───────┴──────────────────┴─────────────────────────────────────────────────────────────────────────────┘\n",
      "\n"
     ]
    }
   ],
   "source": [
    "with render_robot_from_template(\"robots/empiric\") as robot_urdf:\n",
    "    manny = HeadlessSimulatedRobot(robot_urdf)\n",
    "print(manny.model)"
   ]
  },
  {
   "cell_type": "markdown",
   "metadata": {},
   "source": [
    "For an arbitrary poes, we'll calculate the forward kinematics using both RTB and Genesis and compare:"
   ]
  },
  {
   "cell_type": "code",
   "execution_count": null,
   "metadata": {},
   "outputs": [
    {
     "name": "stdout",
     "output_type": "stream",
     "text": [
      "[0.8354382023263882, 0.2617643705021666, -0.9023388429811485, -0.7225043341661275, -0.21805788005177384, 0.5588928019255146]\n"
     ]
    }
   ],
   "source": [
    "arbitrary_pose = [random.uniform(-1, 1) for _ in range(6)]\n",
    "print(arbitrary_pose)"
   ]
  },
  {
   "cell_type": "code",
   "execution_count": null,
   "metadata": {},
   "outputs": [
    {
     "ename": "AttributeError",
     "evalue": "'HeadlessVisualRobot' object has no attribute 'step_to_pose'",
     "output_type": "error",
     "traceback": [
      "\u001b[0;31m---------------------------------------------------------------------------\u001b[0m",
      "\u001b[0;31mAttributeError\u001b[0m                            Traceback (most recent call last)",
      "Cell \u001b[0;32mIn[5], line 10\u001b[0m\n\u001b[1;32m      1\u001b[0m \u001b[38;5;66;03m# simulated_robot = manny.visualizer.robot\u001b[39;00m\n\u001b[1;32m      2\u001b[0m \u001b[38;5;66;03m# ee = simulated_robot.get_link('end_effector')\u001b[39;00m\n\u001b[1;32m      3\u001b[0m \u001b[38;5;66;03m# scene = manny.visualizer.scene\u001b[39;00m\n\u001b[0;32m   (...)\u001b[0m\n\u001b[1;32m      8\u001b[0m \u001b[38;5;66;03m# translation_gs = ee.get_pos().cpu()\u001b[39;00m\n\u001b[1;32m      9\u001b[0m \u001b[38;5;66;03m# translation_gs\u001b[39;00m\n\u001b[0;32m---> 10\u001b[0m \u001b[43mmanny\u001b[49m\u001b[38;5;241;43m.\u001b[39;49m\u001b[43mstep_to_pose\u001b[49m(arbitrary_pose)\n",
      "\u001b[0;31mAttributeError\u001b[0m: 'HeadlessVisualRobot' object has no attribute 'step_to_pose'"
     ]
    }
   ],
   "source": [
    "manny.step_to_pose(arbitrary_pose)"
   ]
  },
  {
   "cell_type": "markdown",
   "metadata": {},
   "source": [
    "Both approaches should return True above, which means they calculate comparable solutios down to the 10 micron range"
   ]
  },
  {
   "cell_type": "markdown",
   "metadata": {},
   "source": [
    "# Where To Now?\n",
    "The above demonstrates the two available interfaces in ManiPylator. Based on your interests you might continue to explore our visual robotics demonstration or maybe try to derive a symbolic result. For whatever path you're interested in, check out our Robotics resources page.\n",
    "\n",
    "For beginners, we recommend to:\n",
    "\n",
    "\n",
    "For experienced robotocists, check out our"
   ]
  },
  {
   "cell_type": "markdown",
   "metadata": {},
   "source": []
  }
 ],
 "metadata": {
  "kernelspec": {
   "display_name": "Python 3 (ipykernel)",
   "language": "python",
   "name": "python3"
  },
  "language_info": {
   "codemirror_mode": {
    "name": "ipython",
    "version": 3
   },
   "file_extension": ".py",
   "mimetype": "text/x-python",
   "name": "python",
   "nbconvert_exporter": "python",
   "pygments_lexer": "ipython3",
   "version": "3.11.10"
  }
 },
 "nbformat": 4,
 "nbformat_minor": 4
}
