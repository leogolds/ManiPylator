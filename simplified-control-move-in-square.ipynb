{
 "cells": [
  {
   "cell_type": "code",
   "execution_count": 1,
   "id": "46eaf59e-e14f-4ac6-b756-1c646dbff0a0",
   "metadata": {},
   "outputs": [],
   "source": [
    "from pathlib import Path\n",
    "from time import sleep \n",
    "\n",
    "import numpy as np\n",
    "\n",
    "import roboticstoolbox as rtb\n",
    "import spatialmath as sm\n",
    "\n",
    "from manipylator import VisualRobot\n",
    "from manipylator import utils"
   ]
  },
  {
   "cell_type": "markdown",
   "id": "cca545b5",
   "metadata": {},
   "source": [
    "# Load Robot\n",
    "Below we load a URDF file describing Manny the robot manipulator. A URDF is a textual representation of a robot, defining the parameters we need so we can calculate the forward & reverse kinemtics. "
   ]
  },
  {
   "cell_type": "code",
   "execution_count": 2,
   "id": "6a8d34c0-156a-44f3-b67a-0961e999172e",
   "metadata": {
    "scrolled": true
   },
   "outputs": [
    {
     "name": "stderr",
     "output_type": "stream",
     "text": [
      "[I 05/23/25 23:35:11.495 748] [shell.py:_shell_pop_print@23] Graphical python shell detected, using wrapped sys.stdout\n",
      "\u001b[38;5;159m[Genesis] [23:35:17] [INFO] \u001b[38;5;121m╭───────────────────────────────────────────────╮\u001b[0m\u001b[38;5;159m\u001b[0m\n",
      "\u001b[38;5;159m[Genesis] [23:35:17] [INFO] \u001b[38;5;121m│┈┉┈┉┈┉┈┉┈┉┈┉┈┉┈┉┈┉┈\u001b[0m\u001b[38;5;159m \u001b[38;5;121m\u001b[1m\u001b[3mGenesis\u001b[0m\u001b[38;5;159m \u001b[38;5;121m┈┉┈┉┈┉┈┉┈┉┈┉┈┉┈┉┈┉┈│\u001b[0m\u001b[38;5;159m\u001b[0m\n",
      "\u001b[38;5;159m[Genesis] [23:35:17] [INFO] \u001b[38;5;121m╰───────────────────────────────────────────────╯\u001b[0m\u001b[38;5;159m\u001b[0m\n",
      "\u001b[38;5;159m[Genesis] [23:35:17] [INFO] Running on \u001b[38;5;121m\u001b[4m[NVIDIA GeForce MX250]\u001b[0m\u001b[38;5;159m with backend \u001b[38;5;121m\u001b[4mgs.cuda\u001b[0m\u001b[38;5;159m. Device memory: \u001b[38;5;121m\u001b[4m1.95\u001b[0m\u001b[38;5;159m GB.\u001b[0m\n",
      "\u001b[38;5;159m[Genesis] [23:35:17] [INFO] 🚀 Genesis initialized. 🔖 version: \u001b[38;5;121m\u001b[4m0.2.1\u001b[0m\u001b[38;5;159m, 🌱 seed: \u001b[38;5;121m\u001b[4mNone\u001b[0m\u001b[38;5;159m, 📏 precision: '\u001b[38;5;121m\u001b[4m32\u001b[0m\u001b[38;5;159m', 🐛 debug: \u001b[38;5;121m\u001b[4mFalse\u001b[0m\u001b[38;5;159m, 🎨 theme: '\u001b[38;5;121m\u001b[4mdark\u001b[0m\u001b[38;5;159m'.\u001b[0m\n",
      "\u001b[38;5;159m[Genesis] [23:35:18] [INFO] Scene \u001b[38;5;121m\u001b[3m<162fe1e>\u001b[0m\u001b[38;5;159m created.\u001b[0m\n",
      "\u001b[38;5;159m[Genesis] [23:35:18] [INFO] Adding \u001b[38;5;121m<gs.RigidEntity>\u001b[0m\u001b[38;5;159m. idx: \u001b[38;5;121m0\u001b[0m\u001b[38;5;159m, uid: \u001b[38;5;121m\u001b[3m<683f10d>\u001b[0m\u001b[38;5;159m, morph: \u001b[38;5;121m<gs.morphs.Plane>\u001b[0m\u001b[38;5;159m, material: \u001b[38;5;121m<gs.materials.Rigid>\u001b[0m\u001b[38;5;159m.\u001b[0m\n",
      "\u001b[38;5;159m[Genesis] [23:35:18] [INFO] Adding \u001b[38;5;121m<gs.RigidEntity>\u001b[0m\u001b[38;5;159m. idx: \u001b[38;5;121m1\u001b[0m\u001b[38;5;159m, uid: \u001b[38;5;121m\u001b[3m<37fe1f9>\u001b[0m\u001b[38;5;159m, morph: \u001b[38;5;121m<gs.morphs.URDF(file='/workspace/robots/measured/robot.urdf')>\u001b[0m\u001b[38;5;159m, material: \u001b[38;5;121m<gs.materials.Rigid>\u001b[0m\u001b[38;5;159m.\u001b[0m\n",
      "\u001b[38;5;159m[Genesis] [23:35:21] [INFO] Building scene \u001b[38;5;121m\u001b[3m<162fe1e>\u001b[0m\u001b[38;5;159m...\u001b[0m\n",
      "\u001b[38;5;159m[Genesis] [23:35:40] [INFO] Compiling simulation kernels...\u001b[0m\n",
      "\u001b[38;5;159m[Genesis] [23:35:50] [INFO] Building visualizer...\u001b[0m\n",
      "\u001b[38;5;159m[Genesis] [23:35:52] [INFO] Viewer created. Resolution: \u001b[38;5;121m720×540\u001b[0m\u001b[38;5;159m, max_FPS: \u001b[38;5;121m60\u001b[0m\u001b[38;5;159m.\u001b[0m\n"
     ]
    },
    {
     "name": "stdout",
     "output_type": "stream",
     "text": [
      "ERobot: measured, 6 joints (RRRRRR), dynamics, geometry, collision\n",
      "┌──────┬──────────────────┬───────┬──────────────────┬─────────────────────────────────────────────────────────────────────────────┐\n",
      "│ link │       link       │ joint │      parent      │                             ETS: parent to link                             │\n",
      "├──────┼──────────────────┼───────┼──────────────────┼─────────────────────────────────────────────────────────────────────────────┤\n",
      "│    0 │ \u001b[38;5;4mbase\u001b[0m             │       │ BASE             │ SE3()                                                                       │\n",
      "│    1 │ carriage_1       │     0 │ base             │ SE3(-7.47e-06, -2.937e-06, 0.037; -180°, -7.914e-41°, -6.361e-15°) ⊕ Rz(q0) │\n",
      "│    2 │ shoulder_lift    │     1 │ carriage_1       │ SE3(-0.065, -2.469e-06, -0.055; 180°, 90°, 180°) ⊕ Rz(q1)                   │\n",
      "│    3 │ elbow            │     2 │ shoulder_lift    │ SE3(0.355, -2.338e-06, -4.032e-06; -180°, -3.45e-15°, 3.069e-12°) ⊕ Rz(q2)  │\n",
      "│    4 │ wrist_carriage_2 │     3 │ elbow            │ SE3(0.2755, -4.64e-11, -0.025; -180°, 1.041e-13°, -3.435e-12°) ⊕ Rz(q3)     │\n",
      "│    5 │ wrist_carriage_3 │     4 │ wrist_carriage_2 │ SE3(0.04001, 1.314e-07, -0.0485; -180°, -90°, 180°) ⊕ Rz(q4)                │\n",
      "│    6 │ @end_effector    │     5 │ wrist_carriage_3 │ SE3(-0.04, -2.317e-06, -0.0485; -90°, 9.732e-13°, -90°) ⊕ Rz(q5)            │\n",
      "└──────┴──────────────────┴───────┴──────────────────┴─────────────────────────────────────────────────────────────────────────────┘\n",
      "\n"
     ]
    }
   ],
   "source": [
    "# path = Path('/workspace/robots/robot.urdf')\n",
    "# path = Path('/workspace/robots/robot-ee.urdf')\n",
    "path = Path('/workspace/robots/measured/robot.urdf')\n",
    "\n",
    "manny = VisualRobot(path)\n",
    "print(manny.model)"
   ]
  },
  {
   "cell_type": "markdown",
   "id": "8f20716c",
   "metadata": {},
   "source": [
    "# Visualizing Manny\n",
    "Using the `manny.visualizer.robot` object we can get the properties of it's links. For example, a given link's location in 3D space. Below we find the location of the end effector in when the all joint parameters are set to 0 degrees:"
   ]
  },
  {
   "cell_type": "code",
   "execution_count": 3,
   "id": "62a7e816-58f9-488c-bde7-1041903dd26d",
   "metadata": {},
   "outputs": [],
   "source": [
    "robot = manny.visualizer.robot\n",
    "# robot"
   ]
  },
  {
   "cell_type": "code",
   "execution_count": 4,
   "id": "bb35f31b-70b4-4009-a132-610c43d3987d",
   "metadata": {},
   "outputs": [],
   "source": [
    "ee = robot.get_link('end_effector')\n",
    "# ee"
   ]
  },
  {
   "cell_type": "code",
   "execution_count": 5,
   "id": "fcb155aa-0408-4d8d-acd0-720eff3f2fa1",
   "metadata": {},
   "outputs": [
    {
     "data": {
      "text/plain": [
       "tensor([-1.2851e-01,  1.5981e-06,  8.1101e-01], device='cuda:0')"
      ]
     },
     "execution_count": 5,
     "metadata": {},
     "output_type": "execute_result"
    }
   ],
   "source": [
    "ee_initial_pos = ee.get_pos()\n",
    "ee_initial_pos"
   ]
  },
  {
   "cell_type": "code",
   "execution_count": 6,
   "id": "71c870ea-7748-4cf6-b808-a03ea01f83c9",
   "metadata": {},
   "outputs": [
    {
     "data": {
      "text/plain": [
       "tensor([0.5000, 0.5000, 0.5000, 0.5000], device='cuda:0')"
      ]
     },
     "execution_count": 6,
     "metadata": {},
     "output_type": "execute_result"
    }
   ],
   "source": [
    "ee_initial_quat = ee.get_quat()\n",
    "ee_initial_quat"
   ]
  },
  {
   "cell_type": "markdown",
   "id": "550734da",
   "metadata": {},
   "source": [
    "And we can verify that for the inverse is also true:"
   ]
  },
  {
   "cell_type": "code",
   "execution_count": 7,
   "id": "f8228776-a435-4b63-8925-717ff3c05637",
   "metadata": {},
   "outputs": [
    {
     "name": "stderr",
     "output_type": "stream",
     "text": [
      "[W 05/23/25 23:35:53.114 748] [frontend_ir.cpp:begin_frontend_struct_for_on_external_tensor@1694] ti.loop_config(serialize=True) does not have effect on the struct for. The execution order is not guaranteed.\n"
     ]
    },
    {
     "data": {
      "text/plain": [
       "tensor([0., 0., 0., 0., 0., 0.], device='cuda:0')"
      ]
     },
     "execution_count": 7,
     "metadata": {},
     "output_type": "execute_result"
    }
   ],
   "source": [
    "initial_qpos = robot.inverse_kinematics(\n",
    "    link = ee,\n",
    "    pos  = ee_initial_pos,\n",
    "    quat = ee_initial_quat,\n",
    ")\n",
    "initial_qpos"
   ]
  },
  {
   "cell_type": "markdown",
   "id": "383e4556",
   "metadata": {},
   "source": [
    "I.e. that when setting all the joints to 0 degrees the end effector end up at `ee_initial_pos` and that if the end effector is at `ee_initial_pos` all the joints are at 0 degress.\n",
    "\n",
    "Similarly, for an arbitrary (reachable) location in 3D space:"
   ]
  },
  {
   "cell_type": "code",
   "execution_count": 8,
   "id": "b781b329-82fd-48ec-824b-7070df97ce78",
   "metadata": {},
   "outputs": [
    {
     "data": {
      "text/plain": [
       "tensor([-1.3483,  0.7159,  1.8618, -1.9957, -1.3483, -3.1416], device='cuda:0')"
      ]
     },
     "execution_count": 8,
     "metadata": {},
     "output_type": "execute_result"
    }
   ],
   "source": [
    "qpos = robot.inverse_kinematics(\n",
    "    link = ee,\n",
    "    pos  = [-4.8500e-02, -4.7547e-02,  4.0200e-01],\n",
    "    quat = ee_initial_quat,\n",
    ")\n",
    "qpos"
   ]
  },
  {
   "cell_type": "markdown",
   "id": "fe4eaf17",
   "metadata": {},
   "source": [
    "# Tracing a Path in R3\n",
    "Below we calculate a positions in R3 that correspond to a heart shaped curve:"
   ]
  },
  {
   "cell_type": "code",
   "execution_count": 86,
   "id": "dd60fb2b-98ba-4ac4-98a7-2ab3ca518f1e",
   "metadata": {},
   "outputs": [
    {
     "data": {
      "text/plain": [
       "array([[-0.0885,  0.36  ,  0.13  ],\n",
       "       [-0.051 ,  0.36  ,  0.13  ],\n",
       "       [-0.0135,  0.36  ,  0.13  ]])"
      ]
     },
     "execution_count": 86,
     "metadata": {},
     "output_type": "execute_result"
    }
   ],
   "source": [
    "\n",
    "\n",
    "scale = 0.15\n",
    "x_offset = -0.0885\n",
    "y_offset = 0.36\n",
    "height = 0.13\n",
    "\n",
    "# -0.0885,  0.2954,  0.2595\n",
    "shape = np.array([[0, 0, 0],\n",
    "                  [0.25, 0, 0],                  \n",
    "                  \n",
    "                  [0.5, 0, 0],                  \n",
    "                  [0.75, 0, 0],                  \n",
    "\n",
    "                  [1, 0, 0],\n",
    "                  [1, 0.25, 0],\n",
    "\n",
    "                  [1, 0.5, 0],\n",
    "                  [1, 0.75, 0],\n",
    "\n",
    "                  [1, 1, 0],\n",
    "                  [0.75, 1, 0],\n",
    "                  [0.5, 1, 0],\n",
    "\n",
    "                  [0.25, 1, 0],\n",
    "                  [0, 1, 0],\n",
    "                  [0, 0.75, 0],\n",
    "                  [0, 0.5, 0],\n",
    "                  \n",
    "                  [0, 0.25, 0],\n",
    "                 ])\n",
    "positions = scale * shape\n",
    "positions[:,0] += x_offset\n",
    "positions[:,1] += y_offset\n",
    "positions[:,2] = height\n",
    "\n",
    "positions[:3]"
   ]
  },
  {
   "cell_type": "markdown",
   "id": "b19fd33e",
   "metadata": {},
   "source": [
    "Each row is the (x, y, z) coordinates of a point on the curve. This is useful if we'd like to visualize the expected path of the end effector."
   ]
  },
  {
   "cell_type": "code",
   "execution_count": 87,
   "id": "d2535036-0279-4163-9bf7-6952d66217e5",
   "metadata": {},
   "outputs": [
    {
     "data": {
      "text/plain": [
       "<genesis.ext.pyrender.mesh.Mesh at 0x7e5070f9e990>"
      ]
     },
     "execution_count": 87,
     "metadata": {},
     "output_type": "execute_result"
    }
   ],
   "source": [
    "# for x, y, z in positions:\n",
    "#     manny.visualizer.scene.draw_debug_sphere([x,y,z])\n",
    "manny.visualizer.scene.clear_debug_objects()\n",
    "manny.visualizer.scene.draw_debug_spheres(positions)\n",
    "\n"
   ]
  },
  {
   "cell_type": "code",
   "execution_count": null,
   "id": "b5539343-fe4a-4a00-9ccd-c018b530ecca",
   "metadata": {},
   "outputs": [],
   "source": []
  },
  {
   "cell_type": "markdown",
   "id": "ad79ddbc",
   "metadata": {},
   "source": [
    "Similarly, we can calculate the joint parameters of each position:"
   ]
  },
  {
   "cell_type": "code",
   "execution_count": 88,
   "id": "c98c09e6-5647-4bc2-93e1-df8441c8e8ea",
   "metadata": {},
   "outputs": [
    {
     "data": {
      "text/plain": [
       "tensor([-0.0885,  0.3720,  0.2415], device='cuda:0')"
      ]
     },
     "execution_count": 88,
     "metadata": {},
     "output_type": "execute_result"
    }
   ],
   "source": [
    "robot.set_dofs_position([0, -0.2, 2.1, 1, 1.57, 0])\n",
    "\n",
    "manny.visualizer.scene.step()\n",
    "ee.get_pos()"
   ]
  },
  {
   "cell_type": "code",
   "execution_count": 91,
   "id": "ed608db4-0516-41ab-bfc6-f49de36d2c1f",
   "metadata": {},
   "outputs": [],
   "source": [
    "quat_pointing_down = [0, 0, 1, 0]\n",
    "\n",
    "initial_pose = robot.inverse_kinematics(\n",
    "        link = ee,\n",
    "        pos  = positions[1],\n",
    "        quat = quat_pointing_down,\n",
    "        )\n",
    "\n",
    "robot.set_dofs_position(initial_pose)\n",
    "manny.visualizer.scene.step()"
   ]
  },
  {
   "cell_type": "code",
   "execution_count": null,
   "id": "472b79d3-4ffe-42a7-b64c-48bd75cd1915",
   "metadata": {},
   "outputs": [],
   "source": []
  },
  {
   "cell_type": "code",
   "execution_count": 92,
   "id": "254418f5-ed57-416d-8db3-9140463f2ef7",
   "metadata": {},
   "outputs": [],
   "source": [
    "# # Reset to zero pose\n",
    "# robot.set_dofs_position(initial_qpos)\n",
    "# manny.visualizer.scene.step()"
   ]
  },
  {
   "cell_type": "code",
   "execution_count": 93,
   "id": "c2a733d3-78e0-48de-ae5e-7d6e4dddbba9",
   "metadata": {},
   "outputs": [],
   "source": [
    "# camera = manny.visualizer.camera\n",
    "\n",
    "# camera.start_recording()\n",
    "# # [camera.render() for i in range(10)]\n",
    "\n",
    "# # Reset to initial curve pose\n",
    "# robot.set_dofs_position(initial_pose)\n",
    "# manny.visualizer.scene.step()\n",
    "\n",
    "# camera.render()"
   ]
  },
  {
   "cell_type": "code",
   "execution_count": 94,
   "id": "daa07f16-1b69-4f18-907b-90a082a743ad",
   "metadata": {},
   "outputs": [
    {
     "data": {
      "text/plain": [
       "[tensor([ 4.4321e-05, -7.0501e-01,  2.2857e+00,  1.4199e+00, -1.5708e+00,\n",
       "         -4.8624e-05], device='cuda:0'),\n",
       " tensor([ 0.1052, -0.7012,  2.3126,  1.4430, -1.5708, -0.1052], device='cuda:0'),\n",
       " tensor([ 0.2108, -0.6995,  2.3252,  1.4539, -1.5708, -0.2108], device='cuda:0'),\n",
       " tensor([ 0.3144, -0.6995,  2.3232,  1.4519, -1.5708, -0.3144], device='cuda:0'),\n",
       " tensor([ 0.4136, -0.7003,  2.3067,  1.4363, -1.5708, -0.4136], device='cuda:0')]"
      ]
     },
     "execution_count": 94,
     "metadata": {},
     "output_type": "execute_result"
    }
   ],
   "source": [
    "\n",
    "qs = [robot.inverse_kinematics(\n",
    "        link = ee,\n",
    "        pos  = pos,\n",
    "        quat = quat_pointing_down,\n",
    "        ) for pos in positions]\n",
    "qs[:5]"
   ]
  },
  {
   "cell_type": "code",
   "execution_count": 95,
   "id": "c463a4e8-387b-4451-8720-1495b0db9754",
   "metadata": {},
   "outputs": [
    {
     "name": "stdout",
     "output_type": "stream",
     "text": [
      "tensor([-0.0885,  0.3600,  0.1300], device='cuda:0')\n"
     ]
    }
   ],
   "source": [
    "robot.set_dofs_position(qs[0])\n",
    "manny.visualizer.scene.step()\n",
    "print(ee.get_pos())\n"
   ]
  },
  {
   "cell_type": "code",
   "execution_count": 96,
   "id": "42f64e1a-149f-4fda-91c8-a3380cb38e1b",
   "metadata": {},
   "outputs": [],
   "source": [
    "import pandas as pd\n",
    "df = pd.DataFrame(qs, columns=['q1', 'q2', 'q3', 'q4', 'q5', 'q6']).astype(float)\n",
    "df['q6'] = 0\n",
    "df['q5'] = 1.57\n",
    "df.head()\n",
    "df.to_csv('square_qs.csv', index=False, float_format='%.3f')"
   ]
  },
  {
   "cell_type": "markdown",
   "id": "e11dfd2a",
   "metadata": {},
   "source": [
    "And to visualize the poses Manny would take, we can animate the path:"
   ]
  },
  {
   "cell_type": "code",
   "execution_count": 97,
   "id": "3c21acce-304c-4af3-8881-64306d719139",
   "metadata": {},
   "outputs": [],
   "source": [
    "for q in qs:\n",
    "    robot.set_dofs_position(q)\n",
    "    # print(robot.get_dofs_position())\n",
    "    manny.visualizer.scene.step()\n",
    "    # camera.render()\n",
    "    \n",
    "    sleep(0.5)\n",
    "\n",
    "# camera.stop_recording(save_to_filename='video.mp4', fps=20)"
   ]
  },
  {
   "cell_type": "code",
   "execution_count": 19,
   "id": "a50e96d3-cd77-44e0-91ec-703eed77e7c1",
   "metadata": {},
   "outputs": [],
   "source": [
    "# Reset to zero pose\n",
    "robot.set_dofs_position(initial_qpos)\n",
    "manny.visualizer.scene.step()\n"
   ]
  },
  {
   "cell_type": "code",
   "execution_count": null,
   "id": "73169672-ca79-4202-87dd-fb89676810e6",
   "metadata": {},
   "outputs": [],
   "source": []
  }
 ],
 "metadata": {
  "kernelspec": {
   "display_name": "Python 3 (ipykernel)",
   "language": "python",
   "name": "python3"
  },
  "language_info": {
   "codemirror_mode": {
    "name": "ipython",
    "version": 3
   },
   "file_extension": ".py",
   "mimetype": "text/x-python",
   "name": "python",
   "nbconvert_exporter": "python",
   "pygments_lexer": "ipython3",
   "version": "3.11.10"
  }
 },
 "nbformat": 4,
 "nbformat_minor": 5
}
