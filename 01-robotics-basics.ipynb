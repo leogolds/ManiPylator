{
 "cells": [
  {
   "cell_type": "markdown",
   "metadata": {},
   "source": [
    "TODO\n",
    "\n",
    "sympy & matrix math\n",
    "rotation matrix\n",
    "homogenous transform\n",
    "etc..\n",
    "for each \"math\" we demonstrate a simulationist approach"
   ]
  }
 ],
 "metadata": {
  "language_info": {
   "name": "python"
  }
 },
 "nbformat": 4,
 "nbformat_minor": 2
}
