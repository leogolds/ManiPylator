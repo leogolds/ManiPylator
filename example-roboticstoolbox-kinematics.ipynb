{
 "cells": [
  {
   "cell_type": "code",
   "execution_count": 1,
   "id": "46eaf59e-e14f-4ac6-b756-1c646dbff0a0",
   "metadata": {},
   "outputs": [
    {
     "name": "stderr",
     "output_type": "stream",
     "text": [
      "[I 03/14/25 01:13:50.104 203] [shell.py:_shell_pop_print@23] Graphical python shell detected, using wrapped sys.stdout\n",
      "Authorization required, but no authorization protocol specified\n",
      "Authorization required, but no authorization protocol specified\n"
     ]
    }
   ],
   "source": [
    "from pathlib import Path\n",
    "\n",
    "import numpy as np\n",
    "\n",
    "import roboticstoolbox as rtb\n",
    "import spatialmath as sm\n",
    "\n",
    "from manipylator import Robot"
   ]
  },
  {
   "cell_type": "code",
   "execution_count": 2,
   "id": "6a8d34c0-156a-44f3-b67a-0961e999172e",
   "metadata": {},
   "outputs": [
    {
     "name": "stderr",
     "output_type": "stream",
     "text": [
      "\u001b[38;5;159m[Genesis] [01:15:49] [INFO] \u001b[38;5;121m╭───────────────────────────────────────────────╮\u001b[0m\u001b[38;5;159m\u001b[0m\n",
      "\u001b[38;5;159m[Genesis] [01:15:49] [INFO] \u001b[38;5;121m│┈┉┈┉┈┉┈┉┈┉┈┉┈┉┈┉┈┉┈\u001b[0m\u001b[38;5;159m \u001b[38;5;121m\u001b[1m\u001b[3mGenesis\u001b[0m\u001b[38;5;159m \u001b[38;5;121m┈┉┈┉┈┉┈┉┈┉┈┉┈┉┈┉┈┉┈│\u001b[0m\u001b[38;5;159m\u001b[0m\n",
      "\u001b[38;5;159m[Genesis] [01:15:49] [INFO] \u001b[38;5;121m╰───────────────────────────────────────────────╯\u001b[0m\u001b[38;5;159m\u001b[0m\n",
      "/opt/conda/lib/python3.11/site-packages/torch/cuda/__init__.py:129: UserWarning: CUDA initialization: CUDA unknown error - this may be due to an incorrectly set up environment, e.g. changing env variable CUDA_VISIBLE_DEVICES after program start. Setting the available devices to be zero. (Triggered internally at ../c10/cuda/CUDAFunctions.cpp:108.)\n",
      "  return torch._C._cuda_getDeviceCount() > 0\n",
      "\u001b[38;5;159m[Genesis] [01:15:49] [INFO] Running on \u001b[38;5;121m\u001b[4m[Intel(R) Core(TM) i7-8665U CPU @ 1.90GHz]\u001b[0m\u001b[38;5;159m with backend \u001b[38;5;121m\u001b[4mgs.vulkan\u001b[0m\u001b[38;5;159m. Device memory: \u001b[38;5;121m\u001b[4m15.25\u001b[0m\u001b[38;5;159m GB.\u001b[0m\n",
      "RHI Error: Can not create Vulkan instance\n",
      "[W 03/14/25 01:15:49.455 203] [misc.py:adaptive_arch_select@758] Arch=[<Arch.vulkan: 10>] is not supported, falling back to CPU\n",
      "\u001b[38;5;159m[Genesis] [01:15:49] [INFO] 🚀 Genesis initialized. 🔖 version: \u001b[38;5;121m\u001b[4m0.2.1\u001b[0m\u001b[38;5;159m, 🌱 seed: \u001b[38;5;121m\u001b[4mNone\u001b[0m\u001b[38;5;159m, 📏 precision: '\u001b[38;5;121m\u001b[4m32\u001b[0m\u001b[38;5;159m', 🐛 debug: \u001b[38;5;121m\u001b[4mFalse\u001b[0m\u001b[38;5;159m, 🎨 theme: '\u001b[38;5;121m\u001b[4mdark\u001b[0m\u001b[38;5;159m'.\u001b[0m\n"
     ]
    },
    {
     "name": "stdout",
     "output_type": "stream",
     "text": [
      "ERobot: onshape, 6 joints (RRRRRR), dynamics, geometry, collision\n",
      "┌──────┬──────────────────┬───────┬──────────────────┬──────────────────────────────────────────────────┐\n",
      "│ link │       link       │ joint │      parent      │               ETS: parent to link                │\n",
      "├──────┼──────────────────┼───────┼──────────────────┼──────────────────────────────────────────────────┤\n",
      "│    0 │ \u001b[38;5;4mbase\u001b[0m             │       │ BASE             │ SE3()                                            │\n",
      "│    1 │ carriage_1       │     0 │ base             │ SE3(0, 0, 0.037; -180°, -0°, 0°) ⊕ Rz(q0)        │\n",
      "│    2 │ shoulder_lift    │     1 │ carriage_1       │ SE3(-0.065, 0, -0.055; 0°, 90°, -0°) ⊕ Rz(q1)    │\n",
      "│    3 │ elbow            │     2 │ shoulder_lift    │ SE3(0.35, 0, 0; -180°, -0°, 0°) ⊕ Rz(q2)         │\n",
      "│    4 │ wrist_carriage_2 │     3 │ elbow            │ SE3(0.32, 0, -0.025; 180°, -0°, 0°) ⊕ Rz(q3)     │\n",
      "│    5 │ wrist_carriage_3 │     4 │ wrist_carriage_2 │ SE3(0.04, 0, -0.0485; 0°, -90°, -0°) ⊕ Rz(q4)    │\n",
      "│    6 │ @end_effector    │     5 │ wrist_carriage_3 │ SE3(-0.04, 0, -0.0485; -90°, -0°, -90°) ⊕ Rz(q5) │\n",
      "└──────┴──────────────────┴───────┴──────────────────┴──────────────────────────────────────────────────┘\n",
      "\n"
     ]
    }
   ],
   "source": [
    "path = Path('/workspace/robots/robot-ee.urdf')\n",
    "manny = Robot(path)\n",
    "print(manny.model)"
   ]
  },
  {
   "cell_type": "code",
   "execution_count": 3,
   "id": "9407be44-7090-4b2a-98ea-f09c11c1a330",
   "metadata": {},
   "outputs": [
    {
     "data": {
      "text/plain": [
       "array([0., 0., 0., 0., 0., 0.])"
      ]
     },
     "execution_count": 3,
     "metadata": {},
     "output_type": "execute_result"
    }
   ],
   "source": [
    "manny.model.q"
   ]
  },
  {
   "cell_type": "code",
   "execution_count": 5,
   "id": "11caf427-ca8d-4f4f-ba1b-9d1fff12a99b",
   "metadata": {},
   "outputs": [
    {
     "data": {
      "text/plain": [
       "array([ 0.41155778, -2.0023637 , -0.31759064, -0.85463239, -1.90612999,\n",
       "       -1.01328526])"
      ]
     },
     "execution_count": 5,
     "metadata": {},
     "output_type": "execute_result"
    }
   ],
   "source": [
    "manny.model.random_q()"
   ]
  },
  {
   "cell_type": "code",
   "execution_count": 4,
   "id": "c6679dc1-0895-4511-b5a2-ac811765f7cc",
   "metadata": {},
   "outputs": [
    {
     "data": {
      "text/plain": [
       "  \u001b[38;5;1m 0       \u001b[0m \u001b[38;5;1m 0       \u001b[0m \u001b[38;5;1m 1       \u001b[0m \u001b[38;5;4m-0.1285  \u001b[0m  \u001b[0m\n",
       "  \u001b[38;5;1m 1       \u001b[0m \u001b[38;5;1m 0       \u001b[0m \u001b[38;5;1m 0       \u001b[0m \u001b[38;5;4m 0       \u001b[0m  \u001b[0m\n",
       "  \u001b[38;5;1m 0       \u001b[0m \u001b[38;5;1m 1       \u001b[0m \u001b[38;5;1m 0       \u001b[0m \u001b[38;5;4m 0.8505  \u001b[0m  \u001b[0m\n",
       "  \u001b[38;5;244m 0       \u001b[0m \u001b[38;5;244m 0       \u001b[0m \u001b[38;5;244m 0       \u001b[0m \u001b[38;5;244m 1       \u001b[0m  \u001b[0m\n"
      ]
     },
     "execution_count": 4,
     "metadata": {},
     "output_type": "execute_result"
    }
   ],
   "source": [
    "initial_pose = manny.model.fkine(manny.model.q)\n",
    "initial_pose"
   ]
  },
  {
   "cell_type": "code",
   "execution_count": 52,
   "id": "e1b6f342-9f75-43d1-973a-26a731427a45",
   "metadata": {},
   "outputs": [],
   "source": [
    "# q = 0.45\n",
    "# end_pos = initial_pose\n",
    "# # Tep = Tep.A\n",
    "# end_pos.t = [q,q,q]\n",
    "# end_pos\n",
    "# # sm_transform = sm.SE3(end_pos)"
   ]
  },
  {
   "cell_type": "code",
   "execution_count": 53,
   "id": "4782277b-7163-4ea5-b153-cfe75f4e12c4",
   "metadata": {},
   "outputs": [],
   "source": [
    "# initial_pose"
   ]
  },
  {
   "cell_type": "code",
   "execution_count": 54,
   "id": "0587d249-153d-480e-9410-4886df8220fa",
   "metadata": {},
   "outputs": [
    {
     "data": {
      "text/plain": [
       "(array([5.3e-310, 5.3e-310, 5.3e-310, 5.3e-310, 5.3e-310, 5.3e-310]),\n",
       " 0,\n",
       " 1,\n",
       " 101,\n",
       " 0.0)"
      ]
     },
     "execution_count": 54,
     "metadata": {},
     "output_type": "execute_result"
    }
   ],
   "source": [
    "manny.model.ik_NR(initial_pose)"
   ]
  },
  {
   "cell_type": "code",
   "execution_count": 7,
   "id": "515aca7a-6f27-4009-814f-f10b7414ba0a",
   "metadata": {},
   "outputs": [
    {
     "data": {
      "text/plain": [
       "(array([5.15644604e-310, 5.15644604e-310, 5.15644604e-310, 5.15644604e-310,\n",
       "        5.15644604e-310, 5.15644604e-310]),\n",
       " 0,\n",
       " 3100,\n",
       " 101,\n",
       " 0.15077800027350877)"
      ]
     },
     "execution_count": 7,
     "metadata": {},
     "output_type": "execute_result"
    }
   ],
   "source": [
    "manny.model.ik_NR(manny.model.fkine(manny.model.random_q()))"
   ]
  },
  {
   "cell_type": "code",
   "execution_count": 55,
   "id": "99fb8ec8-367f-4b29-b611-8d03d5b59068",
   "metadata": {},
   "outputs": [
    {
     "data": {
      "text/plain": [
       "(array([5.3e-310, 5.3e-310, 5.3e-310, 5.3e-310, 5.3e-310, 5.3e-310]),\n",
       " 0,\n",
       " 1,\n",
       " 101,\n",
       " 0.0)"
      ]
     },
     "execution_count": 55,
     "metadata": {},
     "output_type": "execute_result"
    }
   ],
   "source": [
    "manny.model.ik_GN(initial_pose)"
   ]
  },
  {
   "cell_type": "code",
   "execution_count": 56,
   "id": "19f6316c-4875-4c2e-8d5e-0b73acb12815",
   "metadata": {},
   "outputs": [
    {
     "data": {
      "text/plain": [
       "(array([5.3e-310, 5.3e-310, 5.3e-310, 5.3e-310, 5.3e-310, 5.3e-310]),\n",
       " 0,\n",
       " 1,\n",
       " 101,\n",
       " 0.0)"
      ]
     },
     "execution_count": 56,
     "metadata": {},
     "output_type": "execute_result"
    }
   ],
   "source": [
    "manny.model.ik_LM(initial_pose)"
   ]
  },
  {
   "cell_type": "code",
   "execution_count": 59,
   "id": "36ce701e-c032-4eed-9b3b-117ce2afa925",
   "metadata": {},
   "outputs": [
    {
     "data": {
      "text/plain": [
       "  \u001b[38;5;1m-0.2175  \u001b[0m \u001b[38;5;1m-0.9719  \u001b[0m \u001b[38;5;1m-0.09065 \u001b[0m \u001b[38;5;4m-0.3547  \u001b[0m  \u001b[0m\n",
       "  \u001b[38;5;1m-0.6799  \u001b[0m \u001b[38;5;1m 0.2175  \u001b[0m \u001b[38;5;1m-0.7003  \u001b[0m \u001b[38;5;4m-0.09688 \u001b[0m  \u001b[0m\n",
       "  \u001b[38;5;1m 0.7003  \u001b[0m \u001b[38;5;1m-0.09065 \u001b[0m \u001b[38;5;1m-0.7081  \u001b[0m \u001b[38;5;4m 0.6772  \u001b[0m  \u001b[0m\n",
       "  \u001b[38;5;244m 0       \u001b[0m \u001b[38;5;244m 0       \u001b[0m \u001b[38;5;244m 0       \u001b[0m \u001b[38;5;244m 1       \u001b[0m  \u001b[0m\n"
      ]
     },
     "execution_count": 59,
     "metadata": {},
     "output_type": "execute_result"
    }
   ],
   "source": [
    "general_pose = manny.model.fkine([1]*6)\n",
    "general_pose"
   ]
  },
  {
   "cell_type": "code",
   "execution_count": 60,
   "id": "1d8989a1-f838-46ec-944e-5689077f1781",
   "metadata": {},
   "outputs": [
    {
     "data": {
      "text/plain": [
       "(array([5.3e-310, 5.3e-310, 5.3e-310, 5.3e-310, 5.3e-310, 5.3e-310]),\n",
       " 0,\n",
       " 601,\n",
       " 101,\n",
       " 0.0)"
      ]
     },
     "execution_count": 60,
     "metadata": {},
     "output_type": "execute_result"
    }
   ],
   "source": [
    "manny.model.ik_LM(general_pose)"
   ]
  },
  {
   "cell_type": "code",
   "execution_count": 12,
   "id": "101df2ce-8740-4a9a-87a5-03ef059c8e31",
   "metadata": {},
   "outputs": [
    {
     "data": {
      "text/plain": [
       "array([[ 8.2e-17,  3.9e-31, -5.0e-17, -7.9e-17,  3.6e-17,  0.0e+00],\n",
       "       [ 1.3e-01, -7.6e-01,  4.1e-01, -8.8e-02,  4.0e-02,  0.0e+00],\n",
       "       [ 1.6e-17, -1.1e-17, -3.9e-17, -1.1e-17,  4.9e-18,  0.0e+00],\n",
       "       [ 0.0e+00,  1.0e+00, -1.0e+00,  1.0e+00, -4.2e-15,  1.0e+00],\n",
       "       [ 1.2e-16,  5.9e-31, -1.2e-16, -8.9e-16,  1.2e-16, -9.5e-16],\n",
       "       [-1.0e+00, -4.3e-15,  4.3e-15, -4.3e-15, -1.0e+00, -4.3e-15]])"
      ]
     },
     "execution_count": 12,
     "metadata": {},
     "output_type": "execute_result"
    }
   ],
   "source": [
    "%precision 1\n",
    "manny.model.jacob0(manny.model.q)"
   ]
  },
  {
   "cell_type": "code",
   "execution_count": null,
   "id": "22fd4c04-0edb-495d-8334-d5c3437fab43",
   "metadata": {},
   "outputs": [],
   "source": [
    "manny.visualizer.morph."
   ]
  }
 ],
 "metadata": {
  "kernelspec": {
   "display_name": "Python 3 (ipykernel)",
   "language": "python",
   "name": "python3"
  },
  "language_info": {
   "codemirror_mode": {
    "name": "ipython",
    "version": 3
   },
   "file_extension": ".py",
   "mimetype": "text/x-python",
   "name": "python",
   "nbconvert_exporter": "python",
   "pygments_lexer": "ipython3",
   "version": "3.11.10"
  }
 },
 "nbformat": 4,
 "nbformat_minor": 5
}
