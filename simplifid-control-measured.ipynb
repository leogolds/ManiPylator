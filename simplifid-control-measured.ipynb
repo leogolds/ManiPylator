{
 "cells": [
  {
   "cell_type": "code",
   "execution_count": 1,
   "id": "46eaf59e-e14f-4ac6-b756-1c646dbff0a0",
   "metadata": {},
   "outputs": [],
   "source": [
    "from pathlib import Path\n",
    "from time import sleep \n",
    "\n",
    "import numpy as np\n",
    "\n",
    "import roboticstoolbox as rtb\n",
    "import spatialmath as sm\n",
    "\n",
    "from manipylator import VisualRobot\n",
    "from manipylator import utils"
   ]
  },
  {
   "cell_type": "markdown",
   "id": "cca545b5",
   "metadata": {},
   "source": [
    "# Load Robot\n",
    "Below we load a URDF file describing Manny the robot manipulator. A URDF is a textual representation of a robot, defining the parameters we need so we can calculate the forward & reverse kinemtics. "
   ]
  },
  {
   "cell_type": "code",
   "execution_count": 2,
   "id": "6a8d34c0-156a-44f3-b67a-0961e999172e",
   "metadata": {
    "scrolled": true
   },
   "outputs": [
    {
     "name": "stderr",
     "output_type": "stream",
     "text": [
      "[I 05/20/25 01:52:59.336 271] [shell.py:_shell_pop_print@23] Graphical python shell detected, using wrapped sys.stdout\n",
      "\u001b[38;5;159m[Genesis] [01:53:05] [INFO] \u001b[38;5;121m╭───────────────────────────────────────────────╮\u001b[0m\u001b[38;5;159m\u001b[0m\n",
      "\u001b[38;5;159m[Genesis] [01:53:05] [INFO] \u001b[38;5;121m│┈┉┈┉┈┉┈┉┈┉┈┉┈┉┈┉┈┉┈\u001b[0m\u001b[38;5;159m \u001b[38;5;121m\u001b[1m\u001b[3mGenesis\u001b[0m\u001b[38;5;159m \u001b[38;5;121m┈┉┈┉┈┉┈┉┈┉┈┉┈┉┈┉┈┉┈│\u001b[0m\u001b[38;5;159m\u001b[0m\n",
      "\u001b[38;5;159m[Genesis] [01:53:05] [INFO] \u001b[38;5;121m╰───────────────────────────────────────────────╯\u001b[0m\u001b[38;5;159m\u001b[0m\n",
      "\u001b[38;5;159m[Genesis] [01:53:06] [INFO] Running on \u001b[38;5;121m\u001b[4m[NVIDIA GeForce MX250]\u001b[0m\u001b[38;5;159m with backend \u001b[38;5;121m\u001b[4mgs.cuda\u001b[0m\u001b[38;5;159m. Device memory: \u001b[38;5;121m\u001b[4m1.95\u001b[0m\u001b[38;5;159m GB.\u001b[0m\n",
      "\u001b[38;5;159m[Genesis] [01:53:06] [INFO] 🚀 Genesis initialized. 🔖 version: \u001b[38;5;121m\u001b[4m0.2.1\u001b[0m\u001b[38;5;159m, 🌱 seed: \u001b[38;5;121m\u001b[4mNone\u001b[0m\u001b[38;5;159m, 📏 precision: '\u001b[38;5;121m\u001b[4m32\u001b[0m\u001b[38;5;159m', 🐛 debug: \u001b[38;5;121m\u001b[4mFalse\u001b[0m\u001b[38;5;159m, 🎨 theme: '\u001b[38;5;121m\u001b[4mdark\u001b[0m\u001b[38;5;159m'.\u001b[0m\n",
      "\u001b[38;5;159m[Genesis] [01:53:07] [INFO] Scene \u001b[38;5;121m\u001b[3m<f731856>\u001b[0m\u001b[38;5;159m created.\u001b[0m\n",
      "\u001b[38;5;159m[Genesis] [01:53:07] [INFO] Adding \u001b[38;5;121m<gs.RigidEntity>\u001b[0m\u001b[38;5;159m. idx: \u001b[38;5;121m0\u001b[0m\u001b[38;5;159m, uid: \u001b[38;5;121m\u001b[3m<359cf74>\u001b[0m\u001b[38;5;159m, morph: \u001b[38;5;121m<gs.morphs.Plane>\u001b[0m\u001b[38;5;159m, material: \u001b[38;5;121m<gs.materials.Rigid>\u001b[0m\u001b[38;5;159m.\u001b[0m\n",
      "\u001b[38;5;159m[Genesis] [01:53:07] [INFO] Adding \u001b[38;5;121m<gs.RigidEntity>\u001b[0m\u001b[38;5;159m. idx: \u001b[38;5;121m1\u001b[0m\u001b[38;5;159m, uid: \u001b[38;5;121m\u001b[3m<9d4258a>\u001b[0m\u001b[38;5;159m, morph: \u001b[38;5;121m<gs.morphs.URDF(file='/workspace/robots/measured/robot.urdf')>\u001b[0m\u001b[38;5;159m, material: \u001b[38;5;121m<gs.materials.Rigid>\u001b[0m\u001b[38;5;159m.\u001b[0m\n",
      "\u001b[38;5;159m[Genesis] [01:53:10] [INFO] Building scene \u001b[38;5;121m\u001b[3m<f731856>\u001b[0m\u001b[38;5;159m...\u001b[0m\n",
      "\u001b[38;5;159m[Genesis] [01:53:29] [INFO] Compiling simulation kernels...\u001b[0m\n",
      "\u001b[38;5;159m[Genesis] [01:53:45] [INFO] Building visualizer...\u001b[0m\n",
      "\u001b[38;5;159m[Genesis] [01:53:47] [INFO] Viewer created. Resolution: \u001b[38;5;121m720×540\u001b[0m\u001b[38;5;159m, max_FPS: \u001b[38;5;121m60\u001b[0m\u001b[38;5;159m.\u001b[0m\n"
     ]
    },
    {
     "name": "stdout",
     "output_type": "stream",
     "text": [
      "ERobot: measured, 6 joints (RRRRRR), dynamics, geometry, collision\n",
      "┌──────┬──────────────────┬───────┬──────────────────┬─────────────────────────────────────────────────────────────────────────────┐\n",
      "│ link │       link       │ joint │      parent      │                             ETS: parent to link                             │\n",
      "├──────┼──────────────────┼───────┼──────────────────┼─────────────────────────────────────────────────────────────────────────────┤\n",
      "│    0 │ \u001b[38;5;4mbase\u001b[0m             │       │ BASE             │ SE3()                                                                       │\n",
      "│    1 │ carriage_1       │     0 │ base             │ SE3(-7.47e-06, -2.937e-06, 0.037; -180°, -7.914e-41°, -6.361e-15°) ⊕ Rz(q0) │\n",
      "│    2 │ shoulder_lift    │     1 │ carriage_1       │ SE3(-0.065, -2.469e-06, -0.055; 180°, 90°, 180°) ⊕ Rz(q1)                   │\n",
      "│    3 │ elbow            │     2 │ shoulder_lift    │ SE3(0.355, -2.338e-06, -4.032e-06; -180°, -3.45e-15°, 3.069e-12°) ⊕ Rz(q2)  │\n",
      "│    4 │ wrist_carriage_2 │     3 │ elbow            │ SE3(0.2755, -4.64e-11, -0.025; -180°, 1.041e-13°, -3.435e-12°) ⊕ Rz(q3)     │\n",
      "│    5 │ wrist_carriage_3 │     4 │ wrist_carriage_2 │ SE3(0.04001, 1.314e-07, -0.0485; -180°, -90°, 180°) ⊕ Rz(q4)                │\n",
      "│    6 │ @end_effector    │     5 │ wrist_carriage_3 │ SE3(-0.04, -2.317e-06, -0.0485; -90°, 9.732e-13°, -90°) ⊕ Rz(q5)            │\n",
      "└──────┴──────────────────┴───────┴──────────────────┴─────────────────────────────────────────────────────────────────────────────┘\n",
      "\n"
     ]
    }
   ],
   "source": [
    "# path = Path('/workspace/robots/robot.urdf')\n",
    "path = Path('/workspace/robots/measured/robot.urdf')\n",
    "manny = VisualRobot(path)\n",
    "print(manny.model)"
   ]
  },
  {
   "cell_type": "markdown",
   "id": "8f20716c",
   "metadata": {},
   "source": [
    "# Visualizing Manny\n",
    "Using the `manny.visualizer.robot` object we can get the properties of it's links. For example, a given link's location in 3D space. Below we find the location of the end effector in when the all joint parameters are set to 0 degrees:"
   ]
  },
  {
   "cell_type": "code",
   "execution_count": 3,
   "id": "62a7e816-58f9-488c-bde7-1041903dd26d",
   "metadata": {},
   "outputs": [],
   "source": [
    "robot = manny.visualizer.robot\n",
    "# robot"
   ]
  },
  {
   "cell_type": "code",
   "execution_count": 4,
   "id": "bb35f31b-70b4-4009-a132-610c43d3987d",
   "metadata": {},
   "outputs": [],
   "source": [
    "ee = robot.get_link('end_effector')\n",
    "# ee"
   ]
  },
  {
   "cell_type": "markdown",
   "id": "fe4eaf17",
   "metadata": {},
   "source": [
    "# Tracing a Path in R3\n",
    "Below we calculate a positions in R3 that correspond to a heart shaped curve:"
   ]
  },
  {
   "cell_type": "code",
   "execution_count": 48,
   "id": "dd60fb2b-98ba-4ac4-98a7-2ab3ca518f1e",
   "metadata": {},
   "outputs": [
    {
     "data": {
      "text/plain": [
       "array([[-0.0885    ,  0.48      ,  0.09      ],\n",
       "       [-0.08779754,  0.48339824,  0.09      ],\n",
       "       [-0.08326534,  0.4921947 ,  0.09      ]])"
      ]
     },
     "execution_count": 48,
     "metadata": {},
     "output_type": "execute_result"
    }
   ],
   "source": [
    "scale = 0.05\n",
    "x_offset = -0.0885\n",
    "y_offset = 0.48\n",
    "height = 0.09\n",
    "\n",
    "# -0.0885,  0.2954,  0.2595\n",
    "\n",
    "shape = utils.parametric_heart_1(np.linspace(0, 2*np.pi, 30))\n",
    "positions = scale * shape\n",
    "positions[:,0] += x_offset\n",
    "positions[:,1] += y_offset\n",
    "positions[:,2] = height\n",
    "\n",
    "positions[:3]"
   ]
  },
  {
   "cell_type": "markdown",
   "id": "b19fd33e",
   "metadata": {},
   "source": [
    "Each row is the (x, y, z) coordinates of a point on the curve. This is useful if we'd like to visualize the expected path of the end effector."
   ]
  },
  {
   "cell_type": "code",
   "execution_count": 49,
   "id": "d2535036-0279-4163-9bf7-6952d66217e5",
   "metadata": {},
   "outputs": [
    {
     "data": {
      "text/plain": [
       "<genesis.ext.pyrender.mesh.Mesh at 0x7675e2b34650>"
      ]
     },
     "execution_count": 49,
     "metadata": {},
     "output_type": "execute_result"
    }
   ],
   "source": [
    "# for x, y, z in positions:\n",
    "#     manny.visualizer.scene.draw_debug_sphere([x,y,z])\n",
    "manny.visualizer.scene.clear_debug_objects()\n",
    "manny.visualizer.scene.draw_debug_spheres(positions)\n",
    "\n"
   ]
  },
  {
   "cell_type": "code",
   "execution_count": 50,
   "id": "b5539343-fe4a-4a00-9ccd-c018b530ecca",
   "metadata": {},
   "outputs": [
    {
     "data": {
      "text/plain": [
       "tensor([-1.5286e-04, -7.4387e-01,  1.8333e+00,  1.1116e+00,  1.5729e+00,\n",
       "         1.6756e-03], device='cuda:0')"
      ]
     },
     "execution_count": 50,
     "metadata": {},
     "output_type": "execute_result"
    }
   ],
   "source": [
    "robot.set_dofs_position([0, 0.2, 2.35, 1, 1.57, 0])\n",
    "\n",
    "res = robot.inverse_kinematics(\n",
    "        link = ee,\n",
    "        pos  = [-0.0885, 0.48, 0.09],\n",
    "        quat = manual_quat,\n",
    "        ) \n",
    "res"
   ]
  },
  {
   "cell_type": "markdown",
   "id": "ad79ddbc",
   "metadata": {},
   "source": [
    "Similarly, we can calculate the joint parameters of each position:"
   ]
  },
  {
   "cell_type": "code",
   "execution_count": 51,
   "id": "fc7e3bbd-99c4-4f5e-a391-4af22892797e",
   "metadata": {},
   "outputs": [
    {
     "data": {
      "text/plain": [
       "tensor([-0.0885,  0.4800,  0.0900], device='cuda:0')"
      ]
     },
     "execution_count": 51,
     "metadata": {},
     "output_type": "execute_result"
    }
   ],
   "source": [
    "robot.set_dofs_position(res)\n",
    "\n",
    "manny.visualizer.scene.step()\n",
    "ee.get_pos()"
   ]
  },
  {
   "cell_type": "code",
   "execution_count": 52,
   "id": "7dfd7f6c-771c-4c03-85f5-b79ab2eee9e9",
   "metadata": {},
   "outputs": [
    {
     "data": {
      "text/plain": [
       "tensor([ 9.9862e-01,  5.2587e-02, -1.0848e-03,  8.5592e-04], device='cuda:0')"
      ]
     },
     "execution_count": 52,
     "metadata": {},
     "output_type": "execute_result"
    }
   ],
   "source": [
    "manual_quat = ee.get_quat()\n",
    "manual_quat"
   ]
  },
  {
   "cell_type": "code",
   "execution_count": 53,
   "id": "d54665c3-eb0f-4f3b-b8e2-8f786eaf6e64",
   "metadata": {},
   "outputs": [
    {
     "data": {
      "text/plain": [
       "[tensor([-1.5315e-04, -7.4391e-01,  1.8333e+00,  1.1116e+00,  1.5729e+00,\n",
       "          1.6756e-03], device='cuda:0'),\n",
       " tensor([ 1.3248e-03, -7.4895e-01,  1.8198e+00,  1.1032e+00,  1.5727e+00,\n",
       "          3.1452e-03], device='cuda:0'),\n",
       " tensor([ 0.0109, -0.7613,  1.7872,  1.0830,  1.5717,  0.0126], device='cuda:0'),\n",
       " tensor([ 0.0314, -0.7762,  1.7492,  1.0598,  1.5696,  0.0330], device='cuda:0'),\n",
       " tensor([ 0.0620, -0.7854,  1.7256,  1.0454,  1.5664,  0.0635], device='cuda:0')]"
      ]
     },
     "execution_count": 53,
     "metadata": {},
     "output_type": "execute_result"
    }
   ],
   "source": [
    "quat_pointing_down = [0, 1, 0, 0]\n",
    "\n",
    "qs = [robot.inverse_kinematics(\n",
    "        link = ee,\n",
    "        pos  = pos,\n",
    "        quat = manual_quat,\n",
    "        ) for pos in positions]\n",
    "qs[:5]"
   ]
  },
  {
   "cell_type": "code",
   "execution_count": 54,
   "id": "8415149f-1919-4163-95ed-daa488ba7490",
   "metadata": {},
   "outputs": [],
   "source": [
    "import pandas as pd\n",
    "df = pd.DataFrame(qs, columns=['q1', 'q2', 'q3', 'q4', 'q5', 'q6']).astype(float)\n",
    "df.head()\n",
    "df.to_csv('heart_qs.csv', index=False, float_format='%.3f')"
   ]
  },
  {
   "cell_type": "markdown",
   "id": "e11dfd2a",
   "metadata": {},
   "source": [
    "And to visualize the poses Manny would take, we can animate the path:"
   ]
  },
  {
   "cell_type": "code",
   "execution_count": 55,
   "id": "3c21acce-304c-4af3-8881-64306d719139",
   "metadata": {},
   "outputs": [],
   "source": [
    "for q in qs:\n",
    "    robot.set_dofs_position(q)\n",
    "    # print(robot.get_dofs_position())\n",
    "    manny.visualizer.scene.step()\n",
    "    sleep(0.1)\n"
   ]
  },
  {
   "cell_type": "code",
   "execution_count": 56,
   "id": "db090587-f60b-476f-b207-e3e2b39355e1",
   "metadata": {},
   "outputs": [
    {
     "data": {
      "text/plain": [
       "tensor([-1.5343e-04, -7.4395e-01,  1.8333e+00,  1.1116e+00,  1.5729e+00,\n",
       "         1.6756e-03], device='cuda:0')"
      ]
     },
     "execution_count": 56,
     "metadata": {},
     "output_type": "execute_result"
    }
   ],
   "source": [
    "robot.get_dofs_position()"
   ]
  },
  {
   "cell_type": "code",
   "execution_count": 41,
   "id": "73169672-ca79-4202-87dd-fb89676810e6",
   "metadata": {},
   "outputs": [
    {
     "data": {
      "text/plain": [
       "tensor([-0.0885,  0.2572,  0.2888], device='cuda:0')"
      ]
     },
     "execution_count": 41,
     "metadata": {},
     "output_type": "execute_result"
    }
   ],
   "source": [
    "robot.set_dofs_position([0, 0.2, 2.35, 1, 1.57, 0])\n",
    "\n",
    "manny.visualizer.scene.step()\n",
    "ee.get_pos()"
   ]
  },
  {
   "cell_type": "code",
   "execution_count": 13,
   "id": "554b0fed-dabf-4841-b0d8-744ff0ab0107",
   "metadata": {},
   "outputs": [
    {
     "data": {
      "text/plain": [
       "tensor([ 5.3207e-05, -1.3284e-01,  2.3897e+00,  9.5175e-01, -1.5708e+00,\n",
       "        -3.1416e+00], device='cuda:0')"
      ]
     },
     "execution_count": 13,
     "metadata": {},
     "output_type": "execute_result"
    }
   ],
   "source": [
    "a = robot.inverse_kinematics(\n",
    "        link = ee,\n",
    "        pos  = [-0.0885,  0.2954,  0.2595],\n",
    "        quat = quat_pointing_down,\n",
    "        )\n",
    "a"
   ]
  },
  {
   "cell_type": "code",
   "execution_count": 14,
   "id": "b742e406-52db-47d6-b165-8c85562f1b46",
   "metadata": {},
   "outputs": [
    {
     "data": {
      "text/plain": [
       "tensor([-0.0885,  0.2954,  0.2595], device='cuda:0')"
      ]
     },
     "execution_count": 14,
     "metadata": {},
     "output_type": "execute_result"
    }
   ],
   "source": [
    "robot.set_dofs_position(a)\n",
    "\n",
    "manny.visualizer.scene.step()\n",
    "ee.get_pos()"
   ]
  },
  {
   "cell_type": "code",
   "execution_count": null,
   "id": "cfed991a-7c36-4825-8e18-585fc0991b30",
   "metadata": {},
   "outputs": [],
   "source": []
  }
 ],
 "metadata": {
  "kernelspec": {
   "display_name": "Python 3 (ipykernel)",
   "language": "python",
   "name": "python3"
  },
  "language_info": {
   "codemirror_mode": {
    "name": "ipython",
    "version": 3
   },
   "file_extension": ".py",
   "mimetype": "text/x-python",
   "name": "python",
   "nbconvert_exporter": "python",
   "pygments_lexer": "ipython3",
   "version": "3.11.10"
  }
 },
 "nbformat": 4,
 "nbformat_minor": 5
}
