{
 "cells": [
  {
   "cell_type": "code",
   "execution_count": 1,
   "id": "46eaf59e-e14f-4ac6-b756-1c646dbff0a0",
   "metadata": {},
   "outputs": [
    {
     "name": "stderr",
     "output_type": "stream",
     "text": [
      "[I 04/16/25 02:19:46.056 525] [shell.py:_shell_pop_print@23] Graphical python shell detected, using wrapped sys.stdout\n"
     ]
    }
   ],
   "source": [
    "from pathlib import Path\n",
    "from time import sleep \n",
    "\n",
    "import numpy as np\n",
    "\n",
    "import roboticstoolbox as rtb\n",
    "import spatialmath as sm\n",
    "\n",
    "from manipylator import Robot\n",
    "from manipylator import utils"
   ]
  },
  {
   "cell_type": "markdown",
   "id": "cca545b5",
   "metadata": {},
   "source": [
    "# Load Robot\n",
    "Below we load a URDF file describing Manny the robot manipulator. A URDF is a textual representation of a robot, defining the parameters we need so we can calculate the forward & reverse kinemtics. "
   ]
  },
  {
   "cell_type": "code",
   "execution_count": 2,
   "id": "6a8d34c0-156a-44f3-b67a-0961e999172e",
   "metadata": {
    "scrolled": true
   },
   "outputs": [
    {
     "name": "stderr",
     "output_type": "stream",
     "text": [
      "\u001b[38;5;159m[Genesis] [02:19:50] [INFO] \u001b[38;5;121m╭───────────────────────────────────────────────╮\u001b[0m\u001b[38;5;159m\u001b[0m\n",
      "\u001b[38;5;159m[Genesis] [02:19:50] [INFO] \u001b[38;5;121m│┈┉┈┉┈┉┈┉┈┉┈┉┈┉┈┉┈┉┈\u001b[0m\u001b[38;5;159m \u001b[38;5;121m\u001b[1m\u001b[3mGenesis\u001b[0m\u001b[38;5;159m \u001b[38;5;121m┈┉┈┉┈┉┈┉┈┉┈┉┈┉┈┉┈┉┈│\u001b[0m\u001b[38;5;159m\u001b[0m\n",
      "\u001b[38;5;159m[Genesis] [02:19:50] [INFO] \u001b[38;5;121m╰───────────────────────────────────────────────╯\u001b[0m\u001b[38;5;159m\u001b[0m\n",
      "\u001b[38;5;159m[Genesis] [02:19:50] [INFO] Running on \u001b[38;5;121m\u001b[4m[NVIDIA GeForce MX250]\u001b[0m\u001b[38;5;159m with backend \u001b[38;5;121m\u001b[4mgs.cuda\u001b[0m\u001b[38;5;159m. Device memory: \u001b[38;5;121m\u001b[4m1.95\u001b[0m\u001b[38;5;159m GB.\u001b[0m\n",
      "\u001b[38;5;159m[Genesis] [02:19:51] [INFO] 🚀 Genesis initialized. 🔖 version: \u001b[38;5;121m\u001b[4m0.2.1\u001b[0m\u001b[38;5;159m, 🌱 seed: \u001b[38;5;121m\u001b[4mNone\u001b[0m\u001b[38;5;159m, 📏 precision: '\u001b[38;5;121m\u001b[4m32\u001b[0m\u001b[38;5;159m', 🐛 debug: \u001b[38;5;121m\u001b[4mFalse\u001b[0m\u001b[38;5;159m, 🎨 theme: '\u001b[38;5;121m\u001b[4mdark\u001b[0m\u001b[38;5;159m'.\u001b[0m\n",
      "\u001b[38;5;159m[Genesis] [02:19:51] [INFO] Scene \u001b[38;5;121m\u001b[3m<6bee7ae>\u001b[0m\u001b[38;5;159m created.\u001b[0m\n",
      "\u001b[38;5;159m[Genesis] [02:19:51] [INFO] Adding \u001b[38;5;121m<gs.RigidEntity>\u001b[0m\u001b[38;5;159m. idx: \u001b[38;5;121m0\u001b[0m\u001b[38;5;159m, uid: \u001b[38;5;121m\u001b[3m<aa1d154>\u001b[0m\u001b[38;5;159m, morph: \u001b[38;5;121m<gs.morphs.Plane>\u001b[0m\u001b[38;5;159m, material: \u001b[38;5;121m<gs.materials.Rigid>\u001b[0m\u001b[38;5;159m.\u001b[0m\n",
      "\u001b[38;5;159m[Genesis] [02:19:52] [INFO] Adding \u001b[38;5;121m<gs.RigidEntity>\u001b[0m\u001b[38;5;159m. idx: \u001b[38;5;121m1\u001b[0m\u001b[38;5;159m, uid: \u001b[38;5;121m\u001b[3m<ef3a78d>\u001b[0m\u001b[38;5;159m, morph: \u001b[38;5;121m<gs.morphs.URDF(file='/workspace/robots/robot-ee.urdf')>\u001b[0m\u001b[38;5;159m, material: \u001b[38;5;121m<gs.materials.Rigid>\u001b[0m\u001b[38;5;159m.\u001b[0m\n",
      "\u001b[38;5;159m[Genesis] [02:19:54] [INFO] Building scene \u001b[38;5;121m\u001b[3m<6bee7ae>\u001b[0m\u001b[38;5;159m...\u001b[0m\n",
      "\u001b[38;5;159m[Genesis] [02:20:20] [INFO] Compiling simulation kernels...\u001b[0m\n",
      "\u001b[38;5;159m[Genesis] [02:20:29] [INFO] Building visualizer...\u001b[0m\n",
      "\u001b[38;5;159m[Genesis] [02:20:31] [INFO] Viewer created. Resolution: \u001b[38;5;121m1152×864\u001b[0m\u001b[38;5;159m, max_FPS: \u001b[38;5;121m60\u001b[0m\u001b[38;5;159m.\u001b[0m\n"
     ]
    },
    {
     "name": "stdout",
     "output_type": "stream",
     "text": [
      "ERobot: onshape, 6 joints (RRRRRR), dynamics, geometry, collision\n",
      "┌──────┬──────────────────┬───────┬──────────────────┬────────────────────────────────────────────────┐\n",
      "│ link │       link       │ joint │      parent      │              ETS: parent to link               │\n",
      "├──────┼──────────────────┼───────┼──────────────────┼────────────────────────────────────────────────┤\n",
      "│    0 │ \u001b[38;5;4mbase\u001b[0m             │       │ BASE             │ SE3()                                          │\n",
      "│    1 │ carriage_1       │     0 │ base             │ SE3(0, 0, 0.037; -180°, -0°, 0°) ⊕ Rz(q0)      │\n",
      "│    2 │ shoulder_lift    │     1 │ carriage_1       │ SE3(-0.065, 0, -0.055; 0°, 90°, -0°) ⊕ Rz(q1)  │\n",
      "│    3 │ elbow            │     2 │ shoulder_lift    │ SE3(0.35, 0, 0; -180°, -0°, 0°) ⊕ Rz(q2)       │\n",
      "│    4 │ wrist_carriage_2 │     3 │ elbow            │ SE3(0.32, 0, -0.025; 180°, -0°, 0°) ⊕ Rz(q3)   │\n",
      "│    5 │ wrist_carriage_3 │     4 │ wrist_carriage_2 │ SE3(0.04, 0, -0.0485; 0°, -90°, -0°) ⊕ Rz(q4)  │\n",
      "│    6 │ @end_effector    │     5 │ wrist_carriage_3 │ SE3(-0.04, 0, -0.0485; 0°, -90°, -0°) ⊕ Rz(q5) │\n",
      "└──────┴──────────────────┴───────┴──────────────────┴────────────────────────────────────────────────┘\n",
      "\n"
     ]
    }
   ],
   "source": [
    "# path = Path('/workspace/robots/robot.urdf')\n",
    "path = Path('/workspace/robots/robot-ee.urdf')\n",
    "manny = Robot(path)\n",
    "print(manny.model)"
   ]
  },
  {
   "cell_type": "markdown",
   "id": "8f20716c",
   "metadata": {},
   "source": [
    "# Visualizing Manny\n",
    "Using the `manny.visualizer.robot` object we can get the properties of it's links. For example, a given link's location in 3D space:"
   ]
  },
  {
   "cell_type": "code",
   "execution_count": 3,
   "id": "62a7e816-58f9-488c-bde7-1041903dd26d",
   "metadata": {},
   "outputs": [],
   "source": [
    "robot = manny.visualizer.robot\n",
    "# robot"
   ]
  },
  {
   "cell_type": "code",
   "execution_count": 4,
   "id": "bb35f31b-70b4-4009-a132-610c43d3987d",
   "metadata": {},
   "outputs": [],
   "source": [
    "ee = robot.get_link('end_effector')\n",
    "# ee"
   ]
  },
  {
   "cell_type": "code",
   "execution_count": 5,
   "id": "fcb155aa-0408-4d8d-acd0-720eff3f2fa1",
   "metadata": {},
   "outputs": [
    {
     "data": {
      "text/plain": [
       "tensor([-1.2850e-01, -1.7960e-17,  8.5050e-01], device='cuda:0')"
      ]
     },
     "execution_count": 5,
     "metadata": {},
     "output_type": "execute_result"
    }
   ],
   "source": [
    "ee_initial_pos = ee.get_pos()\n",
    "ee_initial_pos"
   ]
  },
  {
   "cell_type": "code",
   "execution_count": 6,
   "id": "71c870ea-7748-4cf6-b808-a03ea01f83c9",
   "metadata": {},
   "outputs": [
    {
     "data": {
      "text/plain": [
       "tensor([ 3.5732e-16, -7.0711e-01,  2.7072e-16,  7.0711e-01], device='cuda:0')"
      ]
     },
     "execution_count": 6,
     "metadata": {},
     "output_type": "execute_result"
    }
   ],
   "source": [
    "ee_initial_quat = ee.get_quat()\n",
    "ee_initial_quat"
   ]
  },
  {
   "cell_type": "markdown",
   "id": "550734da",
   "metadata": {},
   "source": [
    "And we can verify that for the inverse is also true:"
   ]
  },
  {
   "cell_type": "code",
   "execution_count": 7,
   "id": "f8228776-a435-4b63-8925-717ff3c05637",
   "metadata": {},
   "outputs": [
    {
     "name": "stderr",
     "output_type": "stream",
     "text": [
      "[W 04/16/25 02:20:31.995 525] [frontend_ir.cpp:begin_frontend_struct_for_on_external_tensor@1694] ti.loop_config(serialize=True) does not have effect on the struct for. The execution order is not guaranteed.\n"
     ]
    },
    {
     "data": {
      "text/plain": [
       "tensor([0., 0., 0., 0., 0., 0.], device='cuda:0')"
      ]
     },
     "execution_count": 7,
     "metadata": {},
     "output_type": "execute_result"
    }
   ],
   "source": [
    "qpos = robot.inverse_kinematics(\n",
    "    link = ee,\n",
    "    pos  = ee_initial_pos,\n",
    "    quat = ee_initial_quat,\n",
    ")\n",
    "qpos"
   ]
  },
  {
   "cell_type": "markdown",
   "id": "383e4556",
   "metadata": {},
   "source": [
    "I.e. that when setting all the joints to 0 degrees the end effector end up at `ee_initial_pos` and that if the end effector is at `ee_initial_pos` all the joints are at 0 degress.\n",
    "\n",
    "Similarly, for an arbitrary (reachable) location in 3D space:"
   ]
  },
  {
   "cell_type": "code",
   "execution_count": 8,
   "id": "b781b329-82fd-48ec-824b-7070df97ce78",
   "metadata": {},
   "outputs": [
    {
     "data": {
      "text/plain": [
       "tensor([0.0000, 1.3377, 2.0384, 5.2374, 0.0000, 4.5366], device='cuda:0')"
      ]
     },
     "execution_count": 8,
     "metadata": {},
     "output_type": "execute_result"
    }
   ],
   "source": [
    "qpos = robot.inverse_kinematics(\n",
    "    link = ee,\n",
    "    pos  = [-4.8500e-02, -4.7547e-02,  4.0200e-01],\n",
    "    quat = ee_initial_quat,\n",
    ")\n",
    "qpos"
   ]
  },
  {
   "cell_type": "markdown",
   "id": "fe4eaf17",
   "metadata": {},
   "source": [
    "# Tracing a Path in R3\n",
    "Below we calculate a positions in R3 that correspond to a heart shaped curve:"
   ]
  },
  {
   "cell_type": "code",
   "execution_count": 78,
   "id": "dd60fb2b-98ba-4ac4-98a7-2ab3ca518f1e",
   "metadata": {},
   "outputs": [
    {
     "data": {
      "text/plain": [
       "array([[0.3       , 0.3       , 0.1       ],\n",
       "       [0.30003608, 0.30060238, 0.1       ],\n",
       "       [0.30028691, 0.30238772, 0.1       ]])"
      ]
     },
     "execution_count": 78,
     "metadata": {},
     "output_type": "execute_result"
    }
   ],
   "source": [
    "scale = 0.1\n",
    "offset = 0.3\n",
    "height = 0.1\n",
    "\n",
    "shape = utils.parametric_heart_1(np.linspace(0, 2*np.pi, 100))\n",
    "positions = scale * shape + offset\n",
    "positions[:,2] = height\n",
    "\n",
    "positions[:3]"
   ]
  },
  {
   "cell_type": "markdown",
   "id": "b19fd33e",
   "metadata": {},
   "source": [
    "Each row is the (x, y, z) coordinates of a point on the curve. This is useful if we'd like to visualize the expected path of the end effector."
   ]
  },
  {
   "cell_type": "code",
   "execution_count": 80,
   "id": "d2535036-0279-4163-9bf7-6952d66217e5",
   "metadata": {},
   "outputs": [
    {
     "data": {
      "text/plain": [
       "<genesis.ext.pyrender.mesh.Mesh at 0x73aad7359650>"
      ]
     },
     "execution_count": 80,
     "metadata": {},
     "output_type": "execute_result"
    }
   ],
   "source": [
    "# for x, y, z in positions:\n",
    "#     manny.visualizer.scene.draw_debug_sphere([x,y,z])\n",
    "manny.visualizer.scene.draw_debug_spheres(positions)\n",
    "\n"
   ]
  },
  {
   "cell_type": "code",
   "execution_count": 79,
   "id": "b5539343-fe4a-4a00-9ccd-c018b530ecca",
   "metadata": {},
   "outputs": [],
   "source": [
    "# manny.visualizer.scene.clear_debug_objects()"
   ]
  },
  {
   "cell_type": "markdown",
   "id": "ad79ddbc",
   "metadata": {},
   "source": [
    "Similarly, we can calculate the joint parameters of each position:"
   ]
  },
  {
   "cell_type": "code",
   "execution_count": 81,
   "id": "daa07f16-1b69-4f18-907b-90a082a743ad",
   "metadata": {},
   "outputs": [
    {
     "data": {
      "text/plain": [
       "[tensor([3.7171, 0.4462, 4.1677, 5.2925, 4.7100, 3.3221], device='cuda:0'),\n",
       " tensor([3.7164, 0.4470, 4.1693, 5.2932, 4.7100, 3.3228], device='cuda:0'),\n",
       " tensor([3.7145, 0.4497, 4.1743, 5.2955, 4.7100, 3.3247], device='cuda:0'),\n",
       " tensor([3.7121, 0.4545, 4.1832, 5.2996, 4.7100, 3.3271], device='cuda:0'),\n",
       " tensor([3.7097, 0.4614, 4.1962, 5.3056, 4.7100, 3.3295], device='cuda:0')]"
      ]
     },
     "execution_count": 81,
     "metadata": {},
     "output_type": "execute_result"
    }
   ],
   "source": [
    "magic_quat = [9.6237e-04, -9.1816e-01, -3.9621e-01,  7.0983e-04]\n",
    "\n",
    "qs = [robot.inverse_kinematics(\n",
    "        link = ee,\n",
    "        pos  = pos,\n",
    "        quat = magic_quat,\n",
    "        ) for pos in positions]\n",
    "qs[:5]"
   ]
  },
  {
   "cell_type": "markdown",
   "id": "e11dfd2a",
   "metadata": {},
   "source": [
    "And to visualize the poses Manny would take, we can animate the path:"
   ]
  },
  {
   "cell_type": "code",
   "execution_count": 84,
   "id": "3c21acce-304c-4af3-8881-64306d719139",
   "metadata": {},
   "outputs": [],
   "source": [
    "for pos in qs:\n",
    "    robot.set_dofs_position(pos)\n",
    "    # print(robot.get_dofs_position())\n",
    "    manny.visualizer.scene.step()\n",
    "    sleep(0.1)"
   ]
  },
  {
   "cell_type": "code",
   "execution_count": 71,
   "id": "a50e96d3-cd77-44e0-91ec-703eed77e7c1",
   "metadata": {},
   "outputs": [
    {
     "ename": "KeyboardInterrupt",
     "evalue": "",
     "output_type": "error",
     "traceback": [
      "\u001b[0;31m---------------------------------------------------------------------------\u001b[0m",
      "\u001b[0;31mKeyboardInterrupt\u001b[0m                         Traceback (most recent call last)",
      "Cell \u001b[0;32mIn[71], line 10\u001b[0m\n\u001b[1;32m      8\u001b[0m \u001b[38;5;66;03m# print(robot.get_dofs_position())\u001b[39;00m\n\u001b[1;32m      9\u001b[0m manny\u001b[38;5;241m.\u001b[39mvisualizer\u001b[38;5;241m.\u001b[39mscene\u001b[38;5;241m.\u001b[39mstep()\n\u001b[0;32m---> 10\u001b[0m sleep(\u001b[38;5;241m0.1\u001b[39m)\n",
      "\u001b[0;31mKeyboardInterrupt\u001b[0m: "
     ]
    }
   ],
   "source": [
    "# for pos in qs:\n",
    "#     dof = robot.inverse_kinematics(\n",
    "#         link = ee,\n",
    "#         pos  = pos,\n",
    "#         quat = magic_quat,\n",
    "#         )\n",
    "#     robot.set_dofs_position(dof)\n",
    "#     # print(robot.get_dofs_position())\n",
    "#     manny.visualizer.scene.step()\n",
    "#     sleep(0.1)\n"
   ]
  }
 ],
 "metadata": {
  "kernelspec": {
   "display_name": "Python 3 (ipykernel)",
   "language": "python",
   "name": "python3"
  },
  "language_info": {
   "codemirror_mode": {
    "name": "ipython",
    "version": 3
   },
   "file_extension": ".py",
   "mimetype": "text/x-python",
   "name": "python",
   "nbconvert_exporter": "python",
   "pygments_lexer": "ipython3",
   "version": "3.11.10"
  }
 },
 "nbformat": 4,
 "nbformat_minor": 5
}
